{
 "cells": [
  {
   "cell_type": "code",
   "execution_count": 1,
   "metadata": {},
   "outputs": [
    {
     "name": "stdout",
     "output_type": "stream",
     "text": [
      "Requirement already satisfied: mysql-connector-python in c:\\users\\win10\\appdata\\local\\packages\\pythonsoftwarefoundation.python.3.11_qbz5n2kfra8p0\\localcache\\local-packages\\python311\\site-packages (8.4.0)\n"
     ]
    }
   ],
   "source": [
    "!pip install mysql-connector-python"
   ]
  },
  {
   "cell_type": "code",
   "execution_count": 2,
   "metadata": {},
   "outputs": [],
   "source": [
    "import pandas as pd"
   ]
  },
  {
   "cell_type": "code",
   "execution_count": 3,
   "metadata": {},
   "outputs": [
    {
     "name": "stdout",
     "output_type": "stream",
     "text": [
      "Connected to MySQL database... MySQL Server version on  8.0.34-26\n",
      "MySQL connection is closed\n"
     ]
    }
   ],
   "source": [
    "import mysql.connector # !pip install mysql-connector-python \n",
    "from mysql.connector import Error\n",
    "\n",
    "try: \n",
    "    connection = mysql.connector.connect(host=' ', \n",
    "                                         database=  ,\n",
    "                                         user=   ,\n",
    "                                         password=   , connection_timeout=180)\n",
    "\n",
    "    if connection.is_connected():\n",
    "        db_Info = connection.get_server_info()\n",
    "        print(\"Connected to MySQL database... MySQL Server version on \", db_Info)\n",
    "\n",
    "        cursor = connection.cursor()\n",
    "        connection.commit()\n",
    "\n",
    "except Error as e:\n",
    "    print(\"Error while connecting to MySQL\", e)\n",
    "finally:\n",
    "    # closing database connection.\n",
    "    if connection.is_connected():\n",
    "        cursor.close()\n",
    "        connection.close()\n",
    "        print(\"MySQL connection is closed\")"
   ]
  },
  {
   "cell_type": "markdown",
   "metadata": {},
   "source": [
    "### Esquema de info"
   ]
  },
  {
   "cell_type": "code",
   "execution_count": 4,
   "metadata": {},
   "outputs": [
    {
     "name": "stderr",
     "output_type": "stream",
     "text": [
      "C:\\Users\\Win10\\AppData\\Local\\Temp\\ipykernel_3652\\1686053512.py:3: UserWarning: pandas only supports SQLAlchemy connectable (engine/connection) or database string URI or sqlite3 DBAPI2 connection. Other DBAPI2 objects are not tested. Please consider using SQLAlchemy.\n",
      "  esquema = pd.read_sql(\"SELECT * FROM INFORMATION_SCHEMA.Tables\", connection)\n"
     ]
    },
    {
     "data": {
      "text/html": [
       "<div>\n",
       "<style scoped>\n",
       "    .dataframe tbody tr th:only-of-type {\n",
       "        vertical-align: middle;\n",
       "    }\n",
       "\n",
       "    .dataframe tbody tr th {\n",
       "        vertical-align: top;\n",
       "    }\n",
       "\n",
       "    .dataframe thead th {\n",
       "        text-align: right;\n",
       "    }\n",
       "</style>\n",
       "<table border=\"1\" class=\"dataframe\">\n",
       "  <thead>\n",
       "    <tr style=\"text-align: right;\">\n",
       "      <th></th>\n",
       "      <th>TABLE_CATALOG</th>\n",
       "      <th>TABLE_SCHEMA</th>\n",
       "      <th>TABLE_NAME</th>\n",
       "      <th>TABLE_TYPE</th>\n",
       "      <th>ENGINE</th>\n",
       "      <th>VERSION</th>\n",
       "      <th>ROW_FORMAT</th>\n",
       "      <th>TABLE_ROWS</th>\n",
       "      <th>AVG_ROW_LENGTH</th>\n",
       "      <th>DATA_LENGTH</th>\n",
       "      <th>...</th>\n",
       "      <th>INDEX_LENGTH</th>\n",
       "      <th>DATA_FREE</th>\n",
       "      <th>AUTO_INCREMENT</th>\n",
       "      <th>CREATE_TIME</th>\n",
       "      <th>UPDATE_TIME</th>\n",
       "      <th>CHECK_TIME</th>\n",
       "      <th>TABLE_COLLATION</th>\n",
       "      <th>CHECKSUM</th>\n",
       "      <th>CREATE_OPTIONS</th>\n",
       "      <th>TABLE_COMMENT</th>\n",
       "    </tr>\n",
       "  </thead>\n",
       "  <tbody>\n",
       "    <tr>\n",
       "      <th>0</th>\n",
       "      <td>def</td>\n",
       "      <td>information_schema</td>\n",
       "      <td>ADMINISTRABLE_ROLE_AUTHORIZATIONS</td>\n",
       "      <td>SYSTEM VIEW</td>\n",
       "      <td>None</td>\n",
       "      <td>10</td>\n",
       "      <td>None</td>\n",
       "      <td>0</td>\n",
       "      <td>0</td>\n",
       "      <td>0</td>\n",
       "      <td>...</td>\n",
       "      <td>0</td>\n",
       "      <td>0</td>\n",
       "      <td>NaN</td>\n",
       "      <td>2024-05-08 07:09:36</td>\n",
       "      <td>None</td>\n",
       "      <td>None</td>\n",
       "      <td>None</td>\n",
       "      <td>None</td>\n",
       "      <td></td>\n",
       "      <td></td>\n",
       "    </tr>\n",
       "    <tr>\n",
       "      <th>1</th>\n",
       "      <td>def</td>\n",
       "      <td>information_schema</td>\n",
       "      <td>APPLICABLE_ROLES</td>\n",
       "      <td>SYSTEM VIEW</td>\n",
       "      <td>None</td>\n",
       "      <td>10</td>\n",
       "      <td>None</td>\n",
       "      <td>0</td>\n",
       "      <td>0</td>\n",
       "      <td>0</td>\n",
       "      <td>...</td>\n",
       "      <td>0</td>\n",
       "      <td>0</td>\n",
       "      <td>NaN</td>\n",
       "      <td>2024-05-08 07:09:36</td>\n",
       "      <td>None</td>\n",
       "      <td>None</td>\n",
       "      <td>None</td>\n",
       "      <td>None</td>\n",
       "      <td></td>\n",
       "      <td></td>\n",
       "    </tr>\n",
       "    <tr>\n",
       "      <th>2</th>\n",
       "      <td>def</td>\n",
       "      <td>information_schema</td>\n",
       "      <td>CHARACTER_SETS</td>\n",
       "      <td>SYSTEM VIEW</td>\n",
       "      <td>None</td>\n",
       "      <td>10</td>\n",
       "      <td>None</td>\n",
       "      <td>0</td>\n",
       "      <td>0</td>\n",
       "      <td>0</td>\n",
       "      <td>...</td>\n",
       "      <td>0</td>\n",
       "      <td>0</td>\n",
       "      <td>NaN</td>\n",
       "      <td>2024-05-08 06:54:31</td>\n",
       "      <td>None</td>\n",
       "      <td>None</td>\n",
       "      <td>None</td>\n",
       "      <td>None</td>\n",
       "      <td></td>\n",
       "      <td></td>\n",
       "    </tr>\n",
       "    <tr>\n",
       "      <th>3</th>\n",
       "      <td>def</td>\n",
       "      <td>information_schema</td>\n",
       "      <td>CHECK_CONSTRAINTS</td>\n",
       "      <td>SYSTEM VIEW</td>\n",
       "      <td>None</td>\n",
       "      <td>10</td>\n",
       "      <td>None</td>\n",
       "      <td>0</td>\n",
       "      <td>0</td>\n",
       "      <td>0</td>\n",
       "      <td>...</td>\n",
       "      <td>0</td>\n",
       "      <td>0</td>\n",
       "      <td>NaN</td>\n",
       "      <td>2024-05-08 06:54:31</td>\n",
       "      <td>None</td>\n",
       "      <td>None</td>\n",
       "      <td>None</td>\n",
       "      <td>None</td>\n",
       "      <td></td>\n",
       "      <td></td>\n",
       "    </tr>\n",
       "    <tr>\n",
       "      <th>4</th>\n",
       "      <td>def</td>\n",
       "      <td>information_schema</td>\n",
       "      <td>CLIENT_STATISTICS</td>\n",
       "      <td>SYSTEM VIEW</td>\n",
       "      <td>None</td>\n",
       "      <td>10</td>\n",
       "      <td>None</td>\n",
       "      <td>0</td>\n",
       "      <td>0</td>\n",
       "      <td>0</td>\n",
       "      <td>...</td>\n",
       "      <td>0</td>\n",
       "      <td>0</td>\n",
       "      <td>NaN</td>\n",
       "      <td>2024-05-08 06:54:31</td>\n",
       "      <td>None</td>\n",
       "      <td>None</td>\n",
       "      <td>None</td>\n",
       "      <td>None</td>\n",
       "      <td></td>\n",
       "      <td></td>\n",
       "    </tr>\n",
       "    <tr>\n",
       "      <th>...</th>\n",
       "      <td>...</td>\n",
       "      <td>...</td>\n",
       "      <td>...</td>\n",
       "      <td>...</td>\n",
       "      <td>...</td>\n",
       "      <td>...</td>\n",
       "      <td>...</td>\n",
       "      <td>...</td>\n",
       "      <td>...</td>\n",
       "      <td>...</td>\n",
       "      <td>...</td>\n",
       "      <td>...</td>\n",
       "      <td>...</td>\n",
       "      <td>...</td>\n",
       "      <td>...</td>\n",
       "      <td>...</td>\n",
       "      <td>...</td>\n",
       "      <td>...</td>\n",
       "      <td>...</td>\n",
       "      <td>...</td>\n",
       "      <td>...</td>\n",
       "    </tr>\n",
       "    <tr>\n",
       "      <th>174</th>\n",
       "      <td>def</td>\n",
       "      <td>dbyre4lbjoc4b4</td>\n",
       "      <td>PRODUCTO</td>\n",
       "      <td>BASE TABLE</td>\n",
       "      <td>InnoDB</td>\n",
       "      <td>10</td>\n",
       "      <td>Dynamic</td>\n",
       "      <td>18</td>\n",
       "      <td>910</td>\n",
       "      <td>16384</td>\n",
       "      <td>...</td>\n",
       "      <td>16384</td>\n",
       "      <td>0</td>\n",
       "      <td>NaN</td>\n",
       "      <td>2024-05-08 06:55:01</td>\n",
       "      <td>None</td>\n",
       "      <td>None</td>\n",
       "      <td>utf8mb4_general_ci</td>\n",
       "      <td>None</td>\n",
       "      <td></td>\n",
       "      <td></td>\n",
       "    </tr>\n",
       "    <tr>\n",
       "      <th>175</th>\n",
       "      <td>def</td>\n",
       "      <td>dbyre4lbjoc4b4</td>\n",
       "      <td>RANKING_PRODUCTOS</td>\n",
       "      <td>BASE TABLE</td>\n",
       "      <td>InnoDB</td>\n",
       "      <td>10</td>\n",
       "      <td>Dynamic</td>\n",
       "      <td>0</td>\n",
       "      <td>0</td>\n",
       "      <td>16384</td>\n",
       "      <td>...</td>\n",
       "      <td>16384</td>\n",
       "      <td>0</td>\n",
       "      <td>NaN</td>\n",
       "      <td>2024-05-08 06:55:01</td>\n",
       "      <td>None</td>\n",
       "      <td>None</td>\n",
       "      <td>utf8mb4_general_ci</td>\n",
       "      <td>None</td>\n",
       "      <td></td>\n",
       "      <td></td>\n",
       "    </tr>\n",
       "    <tr>\n",
       "      <th>176</th>\n",
       "      <td>def</td>\n",
       "      <td>dbyre4lbjoc4b4</td>\n",
       "      <td>REPARTIDOR</td>\n",
       "      <td>BASE TABLE</td>\n",
       "      <td>InnoDB</td>\n",
       "      <td>10</td>\n",
       "      <td>Dynamic</td>\n",
       "      <td>6</td>\n",
       "      <td>2730</td>\n",
       "      <td>16384</td>\n",
       "      <td>...</td>\n",
       "      <td>0</td>\n",
       "      <td>0</td>\n",
       "      <td>NaN</td>\n",
       "      <td>2024-05-08 06:55:01</td>\n",
       "      <td>None</td>\n",
       "      <td>None</td>\n",
       "      <td>utf8mb4_general_ci</td>\n",
       "      <td>None</td>\n",
       "      <td></td>\n",
       "      <td></td>\n",
       "    </tr>\n",
       "    <tr>\n",
       "      <th>177</th>\n",
       "      <td>def</td>\n",
       "      <td>dbyre4lbjoc4b4</td>\n",
       "      <td>consta</td>\n",
       "      <td>BASE TABLE</td>\n",
       "      <td>InnoDB</td>\n",
       "      <td>10</td>\n",
       "      <td>Dynamic</td>\n",
       "      <td>28</td>\n",
       "      <td>585</td>\n",
       "      <td>16384</td>\n",
       "      <td>...</td>\n",
       "      <td>16384</td>\n",
       "      <td>0</td>\n",
       "      <td>NaN</td>\n",
       "      <td>2024-05-08 06:55:01</td>\n",
       "      <td>None</td>\n",
       "      <td>None</td>\n",
       "      <td>utf8mb4_general_ci</td>\n",
       "      <td>None</td>\n",
       "      <td></td>\n",
       "      <td></td>\n",
       "    </tr>\n",
       "    <tr>\n",
       "      <th>178</th>\n",
       "      <td>def</td>\n",
       "      <td>dbyre4lbjoc4b4</td>\n",
       "      <td>esta_compuesto</td>\n",
       "      <td>BASE TABLE</td>\n",
       "      <td>InnoDB</td>\n",
       "      <td>10</td>\n",
       "      <td>Dynamic</td>\n",
       "      <td>23</td>\n",
       "      <td>712</td>\n",
       "      <td>16384</td>\n",
       "      <td>...</td>\n",
       "      <td>16384</td>\n",
       "      <td>0</td>\n",
       "      <td>NaN</td>\n",
       "      <td>2024-05-08 06:55:01</td>\n",
       "      <td>None</td>\n",
       "      <td>None</td>\n",
       "      <td>utf8mb4_general_ci</td>\n",
       "      <td>None</td>\n",
       "      <td></td>\n",
       "      <td></td>\n",
       "    </tr>\n",
       "  </tbody>\n",
       "</table>\n",
       "<p>179 rows × 21 columns</p>\n",
       "</div>"
      ],
      "text/plain": [
       "    TABLE_CATALOG        TABLE_SCHEMA                         TABLE_NAME  \\\n",
       "0             def  information_schema  ADMINISTRABLE_ROLE_AUTHORIZATIONS   \n",
       "1             def  information_schema                   APPLICABLE_ROLES   \n",
       "2             def  information_schema                     CHARACTER_SETS   \n",
       "3             def  information_schema                  CHECK_CONSTRAINTS   \n",
       "4             def  information_schema                  CLIENT_STATISTICS   \n",
       "..            ...                 ...                                ...   \n",
       "174           def      dbyre4lbjoc4b4                           PRODUCTO   \n",
       "175           def      dbyre4lbjoc4b4                  RANKING_PRODUCTOS   \n",
       "176           def      dbyre4lbjoc4b4                         REPARTIDOR   \n",
       "177           def      dbyre4lbjoc4b4                             consta   \n",
       "178           def      dbyre4lbjoc4b4                     esta_compuesto   \n",
       "\n",
       "      TABLE_TYPE  ENGINE  VERSION ROW_FORMAT  TABLE_ROWS  AVG_ROW_LENGTH  \\\n",
       "0    SYSTEM VIEW    None       10       None           0               0   \n",
       "1    SYSTEM VIEW    None       10       None           0               0   \n",
       "2    SYSTEM VIEW    None       10       None           0               0   \n",
       "3    SYSTEM VIEW    None       10       None           0               0   \n",
       "4    SYSTEM VIEW    None       10       None           0               0   \n",
       "..           ...     ...      ...        ...         ...             ...   \n",
       "174   BASE TABLE  InnoDB       10    Dynamic          18             910   \n",
       "175   BASE TABLE  InnoDB       10    Dynamic           0               0   \n",
       "176   BASE TABLE  InnoDB       10    Dynamic           6            2730   \n",
       "177   BASE TABLE  InnoDB       10    Dynamic          28             585   \n",
       "178   BASE TABLE  InnoDB       10    Dynamic          23             712   \n",
       "\n",
       "     DATA_LENGTH  ...  INDEX_LENGTH  DATA_FREE  AUTO_INCREMENT  \\\n",
       "0              0  ...             0          0             NaN   \n",
       "1              0  ...             0          0             NaN   \n",
       "2              0  ...             0          0             NaN   \n",
       "3              0  ...             0          0             NaN   \n",
       "4              0  ...             0          0             NaN   \n",
       "..           ...  ...           ...        ...             ...   \n",
       "174        16384  ...         16384          0             NaN   \n",
       "175        16384  ...         16384          0             NaN   \n",
       "176        16384  ...             0          0             NaN   \n",
       "177        16384  ...         16384          0             NaN   \n",
       "178        16384  ...         16384          0             NaN   \n",
       "\n",
       "            CREATE_TIME UPDATE_TIME CHECK_TIME     TABLE_COLLATION CHECKSUM  \\\n",
       "0   2024-05-08 07:09:36        None       None                None     None   \n",
       "1   2024-05-08 07:09:36        None       None                None     None   \n",
       "2   2024-05-08 06:54:31        None       None                None     None   \n",
       "3   2024-05-08 06:54:31        None       None                None     None   \n",
       "4   2024-05-08 06:54:31        None       None                None     None   \n",
       "..                  ...         ...        ...                 ...      ...   \n",
       "174 2024-05-08 06:55:01        None       None  utf8mb4_general_ci     None   \n",
       "175 2024-05-08 06:55:01        None       None  utf8mb4_general_ci     None   \n",
       "176 2024-05-08 06:55:01        None       None  utf8mb4_general_ci     None   \n",
       "177 2024-05-08 06:55:01        None       None  utf8mb4_general_ci     None   \n",
       "178 2024-05-08 06:55:01        None       None  utf8mb4_general_ci     None   \n",
       "\n",
       "    CREATE_OPTIONS TABLE_COMMENT  \n",
       "0                                 \n",
       "1                                 \n",
       "2                                 \n",
       "3                                 \n",
       "4                                 \n",
       "..             ...           ...  \n",
       "174                               \n",
       "175                               \n",
       "176                               \n",
       "177                               \n",
       "178                               \n",
       "\n",
       "[179 rows x 21 columns]"
      ]
     },
     "execution_count": 4,
     "metadata": {},
     "output_type": "execute_result"
    }
   ],
   "source": [
    "connection = mysql.connector.connect(host=' ', database=  , user=   , password=   , connection_timeout=180000)\n",
    "\n",
    "esquema = pd.read_sql(\"SELECT * FROM INFORMATION_SCHEMA.Tables\", connection)\n",
    "esquema"
   ]
  },
  {
   "cell_type": "markdown",
   "metadata": {},
   "source": [
    "## Diagrama de entidad-relación de las tablas del DB"
   ]
  },
  {
   "attachments": {
    "image.png": {
     "image/png": "[encoded data removed]"
    }
   },
   "cell_type": "markdown",
   "metadata": {},
   "source": [
    "![image.png](attachment:image.png)\n"
   ]
  },
  {
   "cell_type": "markdown",
   "metadata": {},
   "source": [
    "## Actividades propuestas por la cátedra."
   ]
  },
  {
   "cell_type": "markdown",
   "metadata": {},
   "source": [
    "### 1. Listar todos los productos."
   ]
  },
  {
   "cell_type": "code",
   "execution_count": 5,
   "metadata": {},
   "outputs": [
    {
     "data": {
      "text/plain": [
       "[('01', 'Hamburguesa', 2.6),\n",
       " ('02', 'Patatas', 2.0),\n",
       " ('03', 'tomate', 0.5),\n",
       " ('04', 'Queso', 1.0),\n",
       " ('05', 'Lechuga', 0.5),\n",
       " ('06', 'Pollo', 3.6),\n",
       " ('08', 'Bacon', 1.5),\n",
       " ('09', 'Coca cola', 3.0),\n",
       " ('10', 'Nestea', 3.0),\n",
       " ('11', 'Menú de Pollo', 5.0),\n",
       " ('12', 'Menú de Hamburguesa con queso', 6.0),\n",
       " ('13', 'Menú de Pollo con queso', 6.0),\n",
       " ('14', 'Menú de Hamburguesa', 6.0),\n",
       " ('15', 'Helado', 1.0),\n",
       " ('16', 'Tarta', 2.0),\n",
       " ('17', 'Fruta', 1.0),\n",
       " ('18', 'Agua', 2.0),\n",
       " ('19', 'Fanta', 3.0)]"
      ]
     },
     "execution_count": 5,
     "metadata": {},
     "output_type": "execute_result"
    }
   ],
   "source": [
    "connection = mysql.connector.connect(host=' ', database=  , user=   , password=   , connection_timeout=180)\n",
    "cursor=connection.cursor()\n",
    "query1=\"\"\"SELECT * FROM PRODUCTO;\"\"\"\n",
    "cursor.execute(query1)\n",
    "cursor.fetchall()"
   ]
  },
  {
   "cell_type": "code",
   "execution_count": 6,
   "metadata": {},
   "outputs": [
    {
     "name": "stderr",
     "output_type": "stream",
     "text": [
      "C:\\Users\\Win10\\AppData\\Local\\Temp\\ipykernel_3652\\3656051463.py:1: UserWarning: pandas only supports SQLAlchemy connectable (engine/connection) or database string URI or sqlite3 DBAPI2 connection. Other DBAPI2 objects are not tested. Please consider using SQLAlchemy.\n",
      "  df1 = pd.read_sql(query1, connection)\n"
     ]
    },
    {
     "data": {
      "text/html": [
       "<div>\n",
       "<style scoped>\n",
       "    .dataframe tbody tr th:only-of-type {\n",
       "        vertical-align: middle;\n",
       "    }\n",
       "\n",
       "    .dataframe tbody tr th {\n",
       "        vertical-align: top;\n",
       "    }\n",
       "\n",
       "    .dataframe thead th {\n",
       "        text-align: right;\n",
       "    }\n",
       "</style>\n",
       "<table border=\"1\" class=\"dataframe\">\n",
       "  <thead>\n",
       "    <tr style=\"text-align: right;\">\n",
       "      <th></th>\n",
       "      <th>Codigo</th>\n",
       "      <th>Nombre</th>\n",
       "      <th>Precio</th>\n",
       "    </tr>\n",
       "  </thead>\n",
       "  <tbody>\n",
       "    <tr>\n",
       "      <th>0</th>\n",
       "      <td>01</td>\n",
       "      <td>Hamburguesa</td>\n",
       "      <td>2.6</td>\n",
       "    </tr>\n",
       "    <tr>\n",
       "      <th>1</th>\n",
       "      <td>02</td>\n",
       "      <td>Patatas</td>\n",
       "      <td>2.0</td>\n",
       "    </tr>\n",
       "    <tr>\n",
       "      <th>2</th>\n",
       "      <td>03</td>\n",
       "      <td>tomate</td>\n",
       "      <td>0.5</td>\n",
       "    </tr>\n",
       "    <tr>\n",
       "      <th>3</th>\n",
       "      <td>04</td>\n",
       "      <td>Queso</td>\n",
       "      <td>1.0</td>\n",
       "    </tr>\n",
       "    <tr>\n",
       "      <th>4</th>\n",
       "      <td>05</td>\n",
       "      <td>Lechuga</td>\n",
       "      <td>0.5</td>\n",
       "    </tr>\n",
       "    <tr>\n",
       "      <th>5</th>\n",
       "      <td>06</td>\n",
       "      <td>Pollo</td>\n",
       "      <td>3.6</td>\n",
       "    </tr>\n",
       "    <tr>\n",
       "      <th>6</th>\n",
       "      <td>08</td>\n",
       "      <td>Bacon</td>\n",
       "      <td>1.5</td>\n",
       "    </tr>\n",
       "    <tr>\n",
       "      <th>7</th>\n",
       "      <td>09</td>\n",
       "      <td>Coca cola</td>\n",
       "      <td>3.0</td>\n",
       "    </tr>\n",
       "    <tr>\n",
       "      <th>8</th>\n",
       "      <td>10</td>\n",
       "      <td>Nestea</td>\n",
       "      <td>3.0</td>\n",
       "    </tr>\n",
       "    <tr>\n",
       "      <th>9</th>\n",
       "      <td>11</td>\n",
       "      <td>Menú de Pollo</td>\n",
       "      <td>5.0</td>\n",
       "    </tr>\n",
       "    <tr>\n",
       "      <th>10</th>\n",
       "      <td>12</td>\n",
       "      <td>Menú de Hamburguesa con queso</td>\n",
       "      <td>6.0</td>\n",
       "    </tr>\n",
       "    <tr>\n",
       "      <th>11</th>\n",
       "      <td>13</td>\n",
       "      <td>Menú de Pollo con queso</td>\n",
       "      <td>6.0</td>\n",
       "    </tr>\n",
       "    <tr>\n",
       "      <th>12</th>\n",
       "      <td>14</td>\n",
       "      <td>Menú de Hamburguesa</td>\n",
       "      <td>6.0</td>\n",
       "    </tr>\n",
       "    <tr>\n",
       "      <th>13</th>\n",
       "      <td>15</td>\n",
       "      <td>Helado</td>\n",
       "      <td>1.0</td>\n",
       "    </tr>\n",
       "    <tr>\n",
       "      <th>14</th>\n",
       "      <td>16</td>\n",
       "      <td>Tarta</td>\n",
       "      <td>2.0</td>\n",
       "    </tr>\n",
       "    <tr>\n",
       "      <th>15</th>\n",
       "      <td>17</td>\n",
       "      <td>Fruta</td>\n",
       "      <td>1.0</td>\n",
       "    </tr>\n",
       "    <tr>\n",
       "      <th>16</th>\n",
       "      <td>18</td>\n",
       "      <td>Agua</td>\n",
       "      <td>2.0</td>\n",
       "    </tr>\n",
       "    <tr>\n",
       "      <th>17</th>\n",
       "      <td>19</td>\n",
       "      <td>Fanta</td>\n",
       "      <td>3.0</td>\n",
       "    </tr>\n",
       "  </tbody>\n",
       "</table>\n",
       "</div>"
      ],
      "text/plain": [
       "   Codigo                         Nombre  Precio\n",
       "0      01                    Hamburguesa     2.6\n",
       "1      02                        Patatas     2.0\n",
       "2      03                         tomate     0.5\n",
       "3      04                          Queso     1.0\n",
       "4      05                        Lechuga     0.5\n",
       "5      06                          Pollo     3.6\n",
       "6      08                          Bacon     1.5\n",
       "7      09                      Coca cola     3.0\n",
       "8      10                         Nestea     3.0\n",
       "9      11                  Menú de Pollo     5.0\n",
       "10     12  Menú de Hamburguesa con queso     6.0\n",
       "11     13        Menú de Pollo con queso     6.0\n",
       "12     14            Menú de Hamburguesa     6.0\n",
       "13     15                         Helado     1.0\n",
       "14     16                          Tarta     2.0\n",
       "15     17                          Fruta     1.0\n",
       "16     18                           Agua     2.0\n",
       "17     19                          Fanta     3.0"
      ]
     },
     "execution_count": 6,
     "metadata": {},
     "output_type": "execute_result"
    }
   ],
   "source": [
    "df1 = pd.read_sql(query1, connection)\n",
    "df1"
   ]
  },
  {
   "cell_type": "code",
   "execution_count": 7,
   "metadata": {},
   "outputs": [],
   "source": [
    "df1.to_csv('producto.csv', index=False)"
   ]
  },
  {
   "cell_type": "markdown",
   "metadata": {},
   "source": [
    "### 2. Obtener los nombres de todos los empleados.\n",
    "\n",
    "\n"
   ]
  },
  {
   "cell_type": "code",
   "execution_count": 8,
   "metadata": {},
   "outputs": [
    {
     "data": {
      "text/plain": [
       "[('María Luisa Galdón Ter',),\n",
       " ('Úrsula Delta Camacho',),\n",
       " ('Luis Ramírez Pardo',),\n",
       " ('Sergio Lérida Campos',),\n",
       " ('Piedad Colmenero Zapillo',),\n",
       " ('María Sánchez Cid',),\n",
       " ('Martín Guerrero López',),\n",
       " ('Carmen Hernández Pío',),\n",
       " ('Pedro Jiménez Ruiz',),\n",
       " ('Soledad Campillo Molina',),\n",
       " ('Raúl Rodrigo Roca',)]"
      ]
     },
     "execution_count": 8,
     "metadata": {},
     "output_type": "execute_result"
    }
   ],
   "source": [
    "connection = mysql.connector.connect(host=' ', database=  , user=   , password=   , connection_timeout=180)\n",
    "cursor=connection.cursor()\n",
    "query2=\"\"\"SELECT nombre FROM EMPLEADO;\"\"\"\n",
    "cursor.execute(query2)\n",
    "cursor.fetchall()"
   ]
  },
  {
   "cell_type": "code",
   "execution_count": 110,
   "metadata": {},
   "outputs": [
    {
     "name": "stderr",
     "output_type": "stream",
     "text": [
      "C:\\Users\\Win10\\AppData\\Local\\Temp\\ipykernel_3652\\2529798854.py:1: UserWarning: pandas only supports SQLAlchemy connectable (engine/connection) or database string URI or sqlite3 DBAPI2 connection. Other DBAPI2 objects are not tested. Please consider using SQLAlchemy.\n",
      "  df2 = pd.read_sql(query2, connection)\n"
     ]
    },
    {
     "data": {
      "text/html": [
       "<style type=\"text/css\">\n",
       "#T_5fd95 th {\n",
       "  text-align: left;\n",
       "}\n",
       "#T_5fd95_row0_col0, #T_5fd95_row1_col0, #T_5fd95_row2_col0, #T_5fd95_row3_col0, #T_5fd95_row4_col0, #T_5fd95_row5_col0, #T_5fd95_row6_col0, #T_5fd95_row7_col0, #T_5fd95_row8_col0, #T_5fd95_row9_col0, #T_5fd95_row10_col0 {\n",
       "  text-align: left;\n",
       "}\n",
       "</style>\n",
       "<table id=\"T_5fd95\">\n",
       "  <thead>\n",
       "    <tr>\n",
       "      <th class=\"blank level0\" >&nbsp;</th>\n",
       "      <th id=\"T_5fd95_level0_col0\" class=\"col_heading level0 col0\" >nombre</th>\n",
       "    </tr>\n",
       "  </thead>\n",
       "  <tbody>\n",
       "    <tr>\n",
       "      <th id=\"T_5fd95_level0_row0\" class=\"row_heading level0 row0\" >0</th>\n",
       "      <td id=\"T_5fd95_row0_col0\" class=\"data row0 col0\" >María Luisa Galdón Ter</td>\n",
       "    </tr>\n",
       "    <tr>\n",
       "      <th id=\"T_5fd95_level0_row1\" class=\"row_heading level0 row1\" >1</th>\n",
       "      <td id=\"T_5fd95_row1_col0\" class=\"data row1 col0\" >Úrsula Delta Camacho</td>\n",
       "    </tr>\n",
       "    <tr>\n",
       "      <th id=\"T_5fd95_level0_row2\" class=\"row_heading level0 row2\" >2</th>\n",
       "      <td id=\"T_5fd95_row2_col0\" class=\"data row2 col0\" >Luis Ramírez Pardo</td>\n",
       "    </tr>\n",
       "    <tr>\n",
       "      <th id=\"T_5fd95_level0_row3\" class=\"row_heading level0 row3\" >3</th>\n",
       "      <td id=\"T_5fd95_row3_col0\" class=\"data row3 col0\" >Sergio Lérida Campos</td>\n",
       "    </tr>\n",
       "    <tr>\n",
       "      <th id=\"T_5fd95_level0_row4\" class=\"row_heading level0 row4\" >4</th>\n",
       "      <td id=\"T_5fd95_row4_col0\" class=\"data row4 col0\" >Piedad Colmenero Zapillo</td>\n",
       "    </tr>\n",
       "    <tr>\n",
       "      <th id=\"T_5fd95_level0_row5\" class=\"row_heading level0 row5\" >5</th>\n",
       "      <td id=\"T_5fd95_row5_col0\" class=\"data row5 col0\" >María Sánchez Cid</td>\n",
       "    </tr>\n",
       "    <tr>\n",
       "      <th id=\"T_5fd95_level0_row6\" class=\"row_heading level0 row6\" >6</th>\n",
       "      <td id=\"T_5fd95_row6_col0\" class=\"data row6 col0\" >Martín Guerrero López</td>\n",
       "    </tr>\n",
       "    <tr>\n",
       "      <th id=\"T_5fd95_level0_row7\" class=\"row_heading level0 row7\" >7</th>\n",
       "      <td id=\"T_5fd95_row7_col0\" class=\"data row7 col0\" >Carmen Hernández Pío</td>\n",
       "    </tr>\n",
       "    <tr>\n",
       "      <th id=\"T_5fd95_level0_row8\" class=\"row_heading level0 row8\" >8</th>\n",
       "      <td id=\"T_5fd95_row8_col0\" class=\"data row8 col0\" >Pedro Jiménez Ruiz</td>\n",
       "    </tr>\n",
       "    <tr>\n",
       "      <th id=\"T_5fd95_level0_row9\" class=\"row_heading level0 row9\" >9</th>\n",
       "      <td id=\"T_5fd95_row9_col0\" class=\"data row9 col0\" >Soledad Campillo Molina</td>\n",
       "    </tr>\n",
       "    <tr>\n",
       "      <th id=\"T_5fd95_level0_row10\" class=\"row_heading level0 row10\" >10</th>\n",
       "      <td id=\"T_5fd95_row10_col0\" class=\"data row10 col0\" >Raúl Rodrigo Roca</td>\n",
       "    </tr>\n",
       "  </tbody>\n",
       "</table>\n"
      ],
      "text/plain": [
       "<pandas.io.formats.style.Styler at 0x1ed699b1750>"
      ]
     },
     "execution_count": 110,
     "metadata": {},
     "output_type": "execute_result"
    }
   ],
   "source": [
    "df2 = pd.read_sql(query2, connection)\n",
    "left_align(df2)"
   ]
  },
  {
   "cell_type": "code",
   "execution_count": 10,
   "metadata": {},
   "outputs": [],
   "source": [
    "df2.to_csv('nombre_empleado.csv', index=False)"
   ]
  },
  {
   "cell_type": "markdown",
   "metadata": {},
   "source": [
    "### 3. Contar el número de pedidos realizados."
   ]
  },
  {
   "cell_type": "code",
   "execution_count": 11,
   "metadata": {},
   "outputs": [
    {
     "data": {
      "text/plain": [
       "11"
      ]
     },
     "execution_count": 11,
     "metadata": {},
     "output_type": "execute_result"
    }
   ],
   "source": [
    "connection = mysql.connector.connect(host=' ', database=  , user=   , password=   , connection_timeout=180)\n",
    "cursor=connection.cursor()\n",
    "query3=\"\"\"SELECT count(Numero) as pedidos_realizados FROM PEDIDO;\"\"\"\n",
    "cursor.execute(query3)\n",
    "cursor.fetchall()[0][0]\n"
   ]
  },
  {
   "cell_type": "code",
   "execution_count": 12,
   "metadata": {},
   "outputs": [
    {
     "name": "stderr",
     "output_type": "stream",
     "text": [
      "C:\\Users\\Win10\\AppData\\Local\\Temp\\ipykernel_3652\\2037818295.py:1: UserWarning: pandas only supports SQLAlchemy connectable (engine/connection) or database string URI or sqlite3 DBAPI2 connection. Other DBAPI2 objects are not tested. Please consider using SQLAlchemy.\n",
      "  df3 = pd.read_sql(query3, connection)\n"
     ]
    },
    {
     "data": {
      "text/html": [
       "<div>\n",
       "<style scoped>\n",
       "    .dataframe tbody tr th:only-of-type {\n",
       "        vertical-align: middle;\n",
       "    }\n",
       "\n",
       "    .dataframe tbody tr th {\n",
       "        vertical-align: top;\n",
       "    }\n",
       "\n",
       "    .dataframe thead th {\n",
       "        text-align: right;\n",
       "    }\n",
       "</style>\n",
       "<table border=\"1\" class=\"dataframe\">\n",
       "  <thead>\n",
       "    <tr style=\"text-align: right;\">\n",
       "      <th></th>\n",
       "      <th>pedidos_realizados</th>\n",
       "    </tr>\n",
       "  </thead>\n",
       "  <tbody>\n",
       "    <tr>\n",
       "      <th>0</th>\n",
       "      <td>11</td>\n",
       "    </tr>\n",
       "  </tbody>\n",
       "</table>\n",
       "</div>"
      ],
      "text/plain": [
       "   pedidos_realizados\n",
       "0                  11"
      ]
     },
     "execution_count": 12,
     "metadata": {},
     "output_type": "execute_result"
    }
   ],
   "source": [
    "df3 = pd.read_sql(query3, connection)\n",
    "df3\n"
   ]
  },
  {
   "cell_type": "code",
   "execution_count": 13,
   "metadata": {},
   "outputs": [],
   "source": [
    "df3.to_csv('numero_pedidos.csv', index=False)"
   ]
  },
  {
   "cell_type": "markdown",
   "metadata": {},
   "source": [
    "### 4. Listar los repartidores que trabajan en el turno de tarde.\n",
    "\n"
   ]
  },
  {
   "cell_type": "code",
   "execution_count": 14,
   "metadata": {},
   "outputs": [
    {
     "data": {
      "text/plain": [
       "[('Carlos Sánchez Ruíz',), ('Carmen Capel Pío',)]"
      ]
     },
     "execution_count": 14,
     "metadata": {},
     "output_type": "execute_result"
    }
   ],
   "source": [
    "connection = mysql.connector.connect(host=' ', database=  , user=   , password=   , connection_timeout=180)\n",
    "cursor=connection.cursor()\n",
    "query4=\"\"\"SELECT nombre FROM REPARTIDOR\n",
    "where Turno =\"tarde\";\"\"\"\n",
    "cursor.execute(query4)\n",
    "cursor.fetchall()\n"
   ]
  },
  {
   "cell_type": "code",
   "execution_count": 15,
   "metadata": {},
   "outputs": [
    {
     "name": "stderr",
     "output_type": "stream",
     "text": [
      "C:\\Users\\Win10\\AppData\\Local\\Temp\\ipykernel_3652\\136062298.py:1: UserWarning: pandas only supports SQLAlchemy connectable (engine/connection) or database string URI or sqlite3 DBAPI2 connection. Other DBAPI2 objects are not tested. Please consider using SQLAlchemy.\n",
      "  df4 = pd.read_sql(query4, connection)\n"
     ]
    },
    {
     "data": {
      "text/html": [
       "<div>\n",
       "<style scoped>\n",
       "    .dataframe tbody tr th:only-of-type {\n",
       "        vertical-align: middle;\n",
       "    }\n",
       "\n",
       "    .dataframe tbody tr th {\n",
       "        vertical-align: top;\n",
       "    }\n",
       "\n",
       "    .dataframe thead th {\n",
       "        text-align: right;\n",
       "    }\n",
       "</style>\n",
       "<table border=\"1\" class=\"dataframe\">\n",
       "  <thead>\n",
       "    <tr style=\"text-align: right;\">\n",
       "      <th></th>\n",
       "      <th>nombre</th>\n",
       "    </tr>\n",
       "  </thead>\n",
       "  <tbody>\n",
       "    <tr>\n",
       "      <th>0</th>\n",
       "      <td>Carlos Sánchez Ruíz</td>\n",
       "    </tr>\n",
       "    <tr>\n",
       "      <th>1</th>\n",
       "      <td>Carmen Capel Pío</td>\n",
       "    </tr>\n",
       "  </tbody>\n",
       "</table>\n",
       "</div>"
      ],
      "text/plain": [
       "                nombre\n",
       "0  Carlos Sánchez Ruíz\n",
       "1     Carmen Capel Pío"
      ]
     },
     "execution_count": 15,
     "metadata": {},
     "output_type": "execute_result"
    }
   ],
   "source": [
    "df4 = pd.read_sql(query4, connection)\n",
    "df4"
   ]
  },
  {
   "cell_type": "code",
   "execution_count": 16,
   "metadata": {},
   "outputs": [],
   "source": [
    "df4.to_csv('repartidores_noche.csv', index = False)"
   ]
  },
  {
   "cell_type": "markdown",
   "metadata": {},
   "source": [
    "### 5. Encontrar el precio más alto de los productos.\n"
   ]
  },
  {
   "cell_type": "code",
   "execution_count": 111,
   "metadata": {},
   "outputs": [
    {
     "data": {
      "text/plain": [
       "6.0"
      ]
     },
     "execution_count": 111,
     "metadata": {},
     "output_type": "execute_result"
    }
   ],
   "source": [
    "connection = mysql.connector.connect(host=' ', database=  , user=   , password=   , connection_timeout=180)\n",
    "cursor = connection.cursor()\n",
    "query5 = \"\"\"Select max(precio) from PRODUCTO;\"\"\"\n",
    "cursor.execute(query5)\n",
    "cursor.fetchall()[0][0]"
   ]
  },
  {
   "cell_type": "code",
   "execution_count": 18,
   "metadata": {},
   "outputs": [
    {
     "name": "stderr",
     "output_type": "stream",
     "text": [
      "C:\\Users\\Win10\\AppData\\Local\\Temp\\ipykernel_3652\\1613240993.py:1: UserWarning: pandas only supports SQLAlchemy connectable (engine/connection) or database string URI or sqlite3 DBAPI2 connection. Other DBAPI2 objects are not tested. Please consider using SQLAlchemy.\n",
      "  df5 = pd.read_sql(query5, connection)\n"
     ]
    },
    {
     "data": {
      "text/html": [
       "<div>\n",
       "<style scoped>\n",
       "    .dataframe tbody tr th:only-of-type {\n",
       "        vertical-align: middle;\n",
       "    }\n",
       "\n",
       "    .dataframe tbody tr th {\n",
       "        vertical-align: top;\n",
       "    }\n",
       "\n",
       "    .dataframe thead th {\n",
       "        text-align: right;\n",
       "    }\n",
       "</style>\n",
       "<table border=\"1\" class=\"dataframe\">\n",
       "  <thead>\n",
       "    <tr style=\"text-align: right;\">\n",
       "      <th></th>\n",
       "      <th>max(precio)</th>\n",
       "    </tr>\n",
       "  </thead>\n",
       "  <tbody>\n",
       "    <tr>\n",
       "      <th>0</th>\n",
       "      <td>6.0</td>\n",
       "    </tr>\n",
       "  </tbody>\n",
       "</table>\n",
       "</div>"
      ],
      "text/plain": [
       "   max(precio)\n",
       "0          6.0"
      ]
     },
     "execution_count": 18,
     "metadata": {},
     "output_type": "execute_result"
    }
   ],
   "source": [
    "df5 = pd.read_sql(query5, connection)\n",
    "df5"
   ]
  },
  {
   "cell_type": "code",
   "execution_count": 19,
   "metadata": {},
   "outputs": [],
   "source": [
    "df5.to_csv('mayor_precio_productos.csv',index=False)"
   ]
  },
  {
   "cell_type": "markdown",
   "metadata": {},
   "source": [
    "### 6.Mostrar todos los pedidos con un importe mayor a 100."
   ]
  },
  {
   "cell_type": "code",
   "execution_count": 20,
   "metadata": {},
   "outputs": [
    {
     "data": {
      "text/plain": [
       "[]"
      ]
     },
     "execution_count": 20,
     "metadata": {},
     "output_type": "execute_result"
    }
   ],
   "source": [
    "connection = mysql.connector.connect(host=' ', database=  , user=   , password=   , connection_timeout=180)\n",
    "cursor=connection.cursor()\n",
    "query6 = \"\"\"select * from PEDIDO where importe > 100;\"\"\"\n",
    "cursor.execute(query6)\n",
    "cursor.fetchall()"
   ]
  },
  {
   "cell_type": "code",
   "execution_count": 21,
   "metadata": {},
   "outputs": [
    {
     "name": "stderr",
     "output_type": "stream",
     "text": [
      "C:\\Users\\Win10\\AppData\\Local\\Temp\\ipykernel_3652\\4078655190.py:1: UserWarning: pandas only supports SQLAlchemy connectable (engine/connection) or database string URI or sqlite3 DBAPI2 connection. Other DBAPI2 objects are not tested. Please consider using SQLAlchemy.\n",
      "  df6 = pd.read_sql(query6, connection)\n"
     ]
    },
    {
     "data": {
      "text/html": [
       "<div>\n",
       "<style scoped>\n",
       "    .dataframe tbody tr th:only-of-type {\n",
       "        vertical-align: middle;\n",
       "    }\n",
       "\n",
       "    .dataframe tbody tr th {\n",
       "        vertical-align: top;\n",
       "    }\n",
       "\n",
       "    .dataframe thead th {\n",
       "        text-align: right;\n",
       "    }\n",
       "</style>\n",
       "<table border=\"1\" class=\"dataframe\">\n",
       "  <thead>\n",
       "    <tr style=\"text-align: right;\">\n",
       "      <th></th>\n",
       "      <th>Numero</th>\n",
       "      <th>Fecha</th>\n",
       "      <th>Importe</th>\n",
       "      <th>DNI_ETM</th>\n",
       "      <th>DNI_EP</th>\n",
       "      <th>DNI_R</th>\n",
       "      <th>Hora_tm</th>\n",
       "      <th>Hora_pre</th>\n",
       "      <th>Hora_rep</th>\n",
       "    </tr>\n",
       "  </thead>\n",
       "  <tbody>\n",
       "  </tbody>\n",
       "</table>\n",
       "</div>"
      ],
      "text/plain": [
       "Empty DataFrame\n",
       "Columns: [Numero, Fecha, Importe, DNI_ETM, DNI_EP, DNI_R, Hora_tm, Hora_pre, Hora_rep]\n",
       "Index: []"
      ]
     },
     "execution_count": 21,
     "metadata": {},
     "output_type": "execute_result"
    }
   ],
   "source": [
    "df6 = pd.read_sql(query6, connection)\n",
    "df6"
   ]
  },
  {
   "cell_type": "code",
   "execution_count": 22,
   "metadata": {},
   "outputs": [],
   "source": [
    "df6.to_csv('importe_mayor_100.csv', index= False)"
   ]
  },
  {
   "cell_type": "markdown",
   "metadata": {},
   "source": [
    "### 7.Obtener el salario promedio de los empleados."
   ]
  },
  {
   "cell_type": "code",
   "execution_count": 113,
   "metadata": {},
   "outputs": [
    {
     "data": {
      "text/plain": [
       "1027.272727"
      ]
     },
     "execution_count": 113,
     "metadata": {},
     "output_type": "execute_result"
    }
   ],
   "source": [
    "connection = mysql.connector.connect(host=' ', database=  , user=   , password=   , connection_timeout=180)\n",
    "cursor= connection.cursor()\n",
    "query7 = \"\"\"select avg(salario) as salario_promedio from EMPLEADO;\"\"\"\n",
    "cursor.execute(query7)\n",
    "cursor.fetchall()[0][0]"
   ]
  },
  {
   "cell_type": "code",
   "execution_count": 114,
   "metadata": {},
   "outputs": [
    {
     "name": "stderr",
     "output_type": "stream",
     "text": [
      "C:\\Users\\Win10\\AppData\\Local\\Temp\\ipykernel_3652\\3652498180.py:1: UserWarning: pandas only supports SQLAlchemy connectable (engine/connection) or database string URI or sqlite3 DBAPI2 connection. Other DBAPI2 objects are not tested. Please consider using SQLAlchemy.\n",
      "  df7 = pd.read_sql(query7, connection)\n"
     ]
    },
    {
     "data": {
      "text/html": [
       "<div>\n",
       "<style scoped>\n",
       "    .dataframe tbody tr th:only-of-type {\n",
       "        vertical-align: middle;\n",
       "    }\n",
       "\n",
       "    .dataframe tbody tr th {\n",
       "        vertical-align: top;\n",
       "    }\n",
       "\n",
       "    .dataframe thead th {\n",
       "        text-align: right;\n",
       "    }\n",
       "</style>\n",
       "<table border=\"1\" class=\"dataframe\">\n",
       "  <thead>\n",
       "    <tr style=\"text-align: right;\">\n",
       "      <th></th>\n",
       "      <th>salario_promedio</th>\n",
       "    </tr>\n",
       "  </thead>\n",
       "  <tbody>\n",
       "    <tr>\n",
       "      <th>0</th>\n",
       "      <td>1027.272727</td>\n",
       "    </tr>\n",
       "  </tbody>\n",
       "</table>\n",
       "</div>"
      ],
      "text/plain": [
       "   salario_promedio\n",
       "0       1027.272727"
      ]
     },
     "execution_count": 114,
     "metadata": {},
     "output_type": "execute_result"
    }
   ],
   "source": [
    "df7 = pd.read_sql(query7, connection)\n",
    "df7"
   ]
  },
  {
   "cell_type": "code",
   "execution_count": 25,
   "metadata": {},
   "outputs": [],
   "source": [
    "df7.to_csv('salario_promedio.csv', index=False)"
   ]
  },
  {
   "cell_type": "markdown",
   "metadata": {},
   "source": [
    "### 8.Listar los productos que tienen un nombre único (sin duplicados)."
   ]
  },
  {
   "cell_type": "code",
   "execution_count": 117,
   "metadata": {},
   "outputs": [
    {
     "data": {
      "text/plain": [
       "[('Agua',),\n",
       " ('Bacon',),\n",
       " ('Coca cola',),\n",
       " ('Fanta',),\n",
       " ('Fruta',),\n",
       " ('Hamburguesa',),\n",
       " ('Helado',),\n",
       " ('Lechuga',),\n",
       " ('Menú de Hamburguesa',),\n",
       " ('Menú de Hamburguesa con queso',),\n",
       " ('Menú de Pollo',),\n",
       " ('Menú de Pollo con queso',),\n",
       " ('Nestea',),\n",
       " ('Patatas',),\n",
       " ('Pollo',),\n",
       " ('Queso',),\n",
       " ('Tarta',),\n",
       " ('tomate',)]"
      ]
     },
     "execution_count": 117,
     "metadata": {},
     "output_type": "execute_result"
    }
   ],
   "source": [
    "connection = mysql.connector.connect(host=' ', database=  , user=   , password=   , connection_timeout=180)\n",
    "cursor = connection.cursor()\n",
    "query8 = \"\"\"select distinct nombre from PRODUCTO;\"\"\"\n",
    "cursor.execute(query8)\n",
    "cursor.fetchall()"
   ]
  },
  {
   "cell_type": "code",
   "execution_count": 27,
   "metadata": {},
   "outputs": [
    {
     "name": "stderr",
     "output_type": "stream",
     "text": [
      "C:\\Users\\Win10\\AppData\\Local\\Temp\\ipykernel_3652\\365943477.py:9: UserWarning: pandas only supports SQLAlchemy connectable (engine/connection) or database string URI or sqlite3 DBAPI2 connection. Other DBAPI2 objects are not tested. Please consider using SQLAlchemy.\n",
      "  df8 = pd.read_sql(query8, connection)\n"
     ]
    },
    {
     "data": {
      "text/html": [
       "<style type=\"text/css\">\n",
       "#T_47f7a th {\n",
       "  text-align: left;\n",
       "}\n",
       "#T_47f7a_row0_col0, #T_47f7a_row1_col0, #T_47f7a_row2_col0, #T_47f7a_row3_col0, #T_47f7a_row4_col0, #T_47f7a_row5_col0, #T_47f7a_row6_col0, #T_47f7a_row7_col0, #T_47f7a_row8_col0, #T_47f7a_row9_col0, #T_47f7a_row10_col0, #T_47f7a_row11_col0, #T_47f7a_row12_col0, #T_47f7a_row13_col0, #T_47f7a_row14_col0, #T_47f7a_row15_col0, #T_47f7a_row16_col0, #T_47f7a_row17_col0 {\n",
       "  text-align: left;\n",
       "}\n",
       "</style>\n",
       "<table id=\"T_47f7a\">\n",
       "  <thead>\n",
       "    <tr>\n",
       "      <th class=\"blank level0\" >&nbsp;</th>\n",
       "      <th id=\"T_47f7a_level0_col0\" class=\"col_heading level0 col0\" >nombre</th>\n",
       "    </tr>\n",
       "  </thead>\n",
       "  <tbody>\n",
       "    <tr>\n",
       "      <th id=\"T_47f7a_level0_row0\" class=\"row_heading level0 row0\" >0</th>\n",
       "      <td id=\"T_47f7a_row0_col0\" class=\"data row0 col0\" >Agua</td>\n",
       "    </tr>\n",
       "    <tr>\n",
       "      <th id=\"T_47f7a_level0_row1\" class=\"row_heading level0 row1\" >1</th>\n",
       "      <td id=\"T_47f7a_row1_col0\" class=\"data row1 col0\" >Bacon</td>\n",
       "    </tr>\n",
       "    <tr>\n",
       "      <th id=\"T_47f7a_level0_row2\" class=\"row_heading level0 row2\" >2</th>\n",
       "      <td id=\"T_47f7a_row2_col0\" class=\"data row2 col0\" >Coca cola</td>\n",
       "    </tr>\n",
       "    <tr>\n",
       "      <th id=\"T_47f7a_level0_row3\" class=\"row_heading level0 row3\" >3</th>\n",
       "      <td id=\"T_47f7a_row3_col0\" class=\"data row3 col0\" >Fanta</td>\n",
       "    </tr>\n",
       "    <tr>\n",
       "      <th id=\"T_47f7a_level0_row4\" class=\"row_heading level0 row4\" >4</th>\n",
       "      <td id=\"T_47f7a_row4_col0\" class=\"data row4 col0\" >Fruta</td>\n",
       "    </tr>\n",
       "    <tr>\n",
       "      <th id=\"T_47f7a_level0_row5\" class=\"row_heading level0 row5\" >5</th>\n",
       "      <td id=\"T_47f7a_row5_col0\" class=\"data row5 col0\" >Hamburguesa</td>\n",
       "    </tr>\n",
       "    <tr>\n",
       "      <th id=\"T_47f7a_level0_row6\" class=\"row_heading level0 row6\" >6</th>\n",
       "      <td id=\"T_47f7a_row6_col0\" class=\"data row6 col0\" >Helado</td>\n",
       "    </tr>\n",
       "    <tr>\n",
       "      <th id=\"T_47f7a_level0_row7\" class=\"row_heading level0 row7\" >7</th>\n",
       "      <td id=\"T_47f7a_row7_col0\" class=\"data row7 col0\" >Lechuga</td>\n",
       "    </tr>\n",
       "    <tr>\n",
       "      <th id=\"T_47f7a_level0_row8\" class=\"row_heading level0 row8\" >8</th>\n",
       "      <td id=\"T_47f7a_row8_col0\" class=\"data row8 col0\" >Menú de Hamburguesa</td>\n",
       "    </tr>\n",
       "    <tr>\n",
       "      <th id=\"T_47f7a_level0_row9\" class=\"row_heading level0 row9\" >9</th>\n",
       "      <td id=\"T_47f7a_row9_col0\" class=\"data row9 col0\" >Menú de Hamburguesa con queso</td>\n",
       "    </tr>\n",
       "    <tr>\n",
       "      <th id=\"T_47f7a_level0_row10\" class=\"row_heading level0 row10\" >10</th>\n",
       "      <td id=\"T_47f7a_row10_col0\" class=\"data row10 col0\" >Menú de Pollo</td>\n",
       "    </tr>\n",
       "    <tr>\n",
       "      <th id=\"T_47f7a_level0_row11\" class=\"row_heading level0 row11\" >11</th>\n",
       "      <td id=\"T_47f7a_row11_col0\" class=\"data row11 col0\" >Menú de Pollo con queso</td>\n",
       "    </tr>\n",
       "    <tr>\n",
       "      <th id=\"T_47f7a_level0_row12\" class=\"row_heading level0 row12\" >12</th>\n",
       "      <td id=\"T_47f7a_row12_col0\" class=\"data row12 col0\" >Nestea</td>\n",
       "    </tr>\n",
       "    <tr>\n",
       "      <th id=\"T_47f7a_level0_row13\" class=\"row_heading level0 row13\" >13</th>\n",
       "      <td id=\"T_47f7a_row13_col0\" class=\"data row13 col0\" >Patatas</td>\n",
       "    </tr>\n",
       "    <tr>\n",
       "      <th id=\"T_47f7a_level0_row14\" class=\"row_heading level0 row14\" >14</th>\n",
       "      <td id=\"T_47f7a_row14_col0\" class=\"data row14 col0\" >Pollo</td>\n",
       "    </tr>\n",
       "    <tr>\n",
       "      <th id=\"T_47f7a_level0_row15\" class=\"row_heading level0 row15\" >15</th>\n",
       "      <td id=\"T_47f7a_row15_col0\" class=\"data row15 col0\" >Queso</td>\n",
       "    </tr>\n",
       "    <tr>\n",
       "      <th id=\"T_47f7a_level0_row16\" class=\"row_heading level0 row16\" >16</th>\n",
       "      <td id=\"T_47f7a_row16_col0\" class=\"data row16 col0\" >Tarta</td>\n",
       "    </tr>\n",
       "    <tr>\n",
       "      <th id=\"T_47f7a_level0_row17\" class=\"row_heading level0 row17\" >17</th>\n",
       "      <td id=\"T_47f7a_row17_col0\" class=\"data row17 col0\" >tomate</td>\n",
       "    </tr>\n",
       "  </tbody>\n",
       "</table>\n"
      ],
      "text/plain": [
       "<pandas.io.formats.style.Styler at 0x1ed66b80d10>"
      ]
     },
     "execution_count": 27,
     "metadata": {},
     "output_type": "execute_result"
    }
   ],
   "source": [
    "from pandas import DataFrame\n",
    "\n",
    "def left_align(df: DataFrame):\n",
    "    left_aligned_df = df.style.set_properties(**{'text-align': 'left'})\n",
    "    left_aligned_df = left_aligned_df.set_table_styles(        [dict(selector='th', props=[('text-align', 'left')])]\n",
    "    )\n",
    "    return left_aligned_df\n",
    "\n",
    "df8 = pd.read_sql(query8, connection)\n",
    "left_align(df8)"
   ]
  },
  {
   "cell_type": "code",
   "execution_count": 28,
   "metadata": {},
   "outputs": [],
   "source": [
    "df8.to_csv('nombre_producto.csv', index=False)"
   ]
  },
  {
   "cell_type": "markdown",
   "metadata": {},
   "source": [
    "### 9. Mostrar el número y la fecha de todos los pedidos realizados en el último mes."
   ]
  },
  {
   "cell_type": "code",
   "execution_count": 29,
   "metadata": {},
   "outputs": [
    {
     "data": {
      "text/plain": [
       "[]"
      ]
     },
     "execution_count": 29,
     "metadata": {},
     "output_type": "execute_result"
    }
   ],
   "source": [
    "connection = mysql.connector.connect(host=' ', database=  , user=   , password=   , connection_timeout=180)\n",
    "cursor = connection.cursor()\n",
    "query9 = \"\"\"SELECT Numero, Fecha FROM PEDIDO WHERE Fecha >= DATE_SUB(CURDATE(), INTERVAL 1 MONTH);\"\"\"\n",
    "cursor.execute(query9)\n",
    "cursor.fetchall()"
   ]
  },
  {
   "cell_type": "code",
   "execution_count": 30,
   "metadata": {},
   "outputs": [
    {
     "name": "stderr",
     "output_type": "stream",
     "text": [
      "C:\\Users\\Win10\\AppData\\Local\\Temp\\ipykernel_3652\\683698647.py:1: UserWarning: pandas only supports SQLAlchemy connectable (engine/connection) or database string URI or sqlite3 DBAPI2 connection. Other DBAPI2 objects are not tested. Please consider using SQLAlchemy.\n",
      "  df9 = pd.read_sql(query9 , connection)\n"
     ]
    },
    {
     "data": {
      "text/html": [
       "<div>\n",
       "<style scoped>\n",
       "    .dataframe tbody tr th:only-of-type {\n",
       "        vertical-align: middle;\n",
       "    }\n",
       "\n",
       "    .dataframe tbody tr th {\n",
       "        vertical-align: top;\n",
       "    }\n",
       "\n",
       "    .dataframe thead th {\n",
       "        text-align: right;\n",
       "    }\n",
       "</style>\n",
       "<table border=\"1\" class=\"dataframe\">\n",
       "  <thead>\n",
       "    <tr style=\"text-align: right;\">\n",
       "      <th></th>\n",
       "      <th>Numero</th>\n",
       "      <th>Fecha</th>\n",
       "    </tr>\n",
       "  </thead>\n",
       "  <tbody>\n",
       "  </tbody>\n",
       "</table>\n",
       "</div>"
      ],
      "text/plain": [
       "Empty DataFrame\n",
       "Columns: [Numero, Fecha]\n",
       "Index: []"
      ]
     },
     "execution_count": 30,
     "metadata": {},
     "output_type": "execute_result"
    }
   ],
   "source": [
    "df9 = pd.read_sql(query9 , connection)\n",
    "df9"
   ]
  },
  {
   "cell_type": "code",
   "execution_count": 31,
   "metadata": {},
   "outputs": [],
   "source": [
    "df9.to_csv('pedidos_mes_anterior.csv', index=False)"
   ]
  },
  {
   "cell_type": "markdown",
   "metadata": {},
   "source": [
    "### 10. Encontrar el empleado con el salario más bajo."
   ]
  },
  {
   "cell_type": "code",
   "execution_count": 32,
   "metadata": {},
   "outputs": [
    {
     "data": {
      "text/plain": [
       "[('Úrsula Delta Camacho', 900.0),\n",
       " ('Luis Ramírez Pardo', 900.0),\n",
       " ('Carmen Hernández Pío', 900.0)]"
      ]
     },
     "execution_count": 32,
     "metadata": {},
     "output_type": "execute_result"
    }
   ],
   "source": [
    "connection = mysql.connector.connect(host=' ', database=  , user=   , password=   , connection_timeout=180)\n",
    "cursor = connection.cursor()\n",
    "query10 = \"\"\"select \tnombre, salario from EMPLEADO\n",
    "where salario = (select min(Salario) from EMPLEADO);\"\"\"\n",
    "cursor.execute(query10)\n",
    "cursor.fetchall()"
   ]
  },
  {
   "cell_type": "code",
   "execution_count": 33,
   "metadata": {},
   "outputs": [
    {
     "name": "stderr",
     "output_type": "stream",
     "text": [
      "C:\\Users\\Win10\\AppData\\Local\\Temp\\ipykernel_3652\\3886046141.py:1: UserWarning: pandas only supports SQLAlchemy connectable (engine/connection) or database string URI or sqlite3 DBAPI2 connection. Other DBAPI2 objects are not tested. Please consider using SQLAlchemy.\n",
      "  df10 = pd.read_sql(query10, connection)\n"
     ]
    },
    {
     "data": {
      "text/html": [
       "<style type=\"text/css\">\n",
       "#T_9eaa3 th {\n",
       "  text-align: left;\n",
       "}\n",
       "#T_9eaa3_row0_col0, #T_9eaa3_row0_col1, #T_9eaa3_row1_col0, #T_9eaa3_row1_col1, #T_9eaa3_row2_col0, #T_9eaa3_row2_col1 {\n",
       "  text-align: left;\n",
       "}\n",
       "</style>\n",
       "<table id=\"T_9eaa3\">\n",
       "  <thead>\n",
       "    <tr>\n",
       "      <th class=\"blank level0\" >&nbsp;</th>\n",
       "      <th id=\"T_9eaa3_level0_col0\" class=\"col_heading level0 col0\" >nombre</th>\n",
       "      <th id=\"T_9eaa3_level0_col1\" class=\"col_heading level0 col1\" >salario</th>\n",
       "    </tr>\n",
       "  </thead>\n",
       "  <tbody>\n",
       "    <tr>\n",
       "      <th id=\"T_9eaa3_level0_row0\" class=\"row_heading level0 row0\" >0</th>\n",
       "      <td id=\"T_9eaa3_row0_col0\" class=\"data row0 col0\" >Úrsula Delta Camacho</td>\n",
       "      <td id=\"T_9eaa3_row0_col1\" class=\"data row0 col1\" >900.000000</td>\n",
       "    </tr>\n",
       "    <tr>\n",
       "      <th id=\"T_9eaa3_level0_row1\" class=\"row_heading level0 row1\" >1</th>\n",
       "      <td id=\"T_9eaa3_row1_col0\" class=\"data row1 col0\" >Luis Ramírez Pardo</td>\n",
       "      <td id=\"T_9eaa3_row1_col1\" class=\"data row1 col1\" >900.000000</td>\n",
       "    </tr>\n",
       "    <tr>\n",
       "      <th id=\"T_9eaa3_level0_row2\" class=\"row_heading level0 row2\" >2</th>\n",
       "      <td id=\"T_9eaa3_row2_col0\" class=\"data row2 col0\" >Carmen Hernández Pío</td>\n",
       "      <td id=\"T_9eaa3_row2_col1\" class=\"data row2 col1\" >900.000000</td>\n",
       "    </tr>\n",
       "  </tbody>\n",
       "</table>\n"
      ],
      "text/plain": [
       "<pandas.io.formats.style.Styler at 0x1ed68c53690>"
      ]
     },
     "execution_count": 33,
     "metadata": {},
     "output_type": "execute_result"
    }
   ],
   "source": [
    "df10 = pd.read_sql(query10, connection)\n",
    "df10\n",
    "\n",
    "left_align(df10)"
   ]
  },
  {
   "cell_type": "code",
   "execution_count": 34,
   "metadata": {},
   "outputs": [],
   "source": [
    "df10.to_csv('empleado_menor_salario.csv', index = False)"
   ]
  },
  {
   "cell_type": "markdown",
   "metadata": {},
   "source": [
    "### 11.Listar los productos y sus componentes."
   ]
  },
  {
   "cell_type": "code",
   "execution_count": 35,
   "metadata": {},
   "outputs": [
    {
     "data": {
      "text/plain": [
       "[('01', 'Hamburguesa', 2.6, None, None, None),\n",
       " ('02', 'Patatas', 2.0, None, None, None),\n",
       " ('03', 'tomate', 0.5, None, None, None),\n",
       " ('04', 'Queso', 1.0, None, None, None),\n",
       " ('05', 'Lechuga', 0.5, None, None, None),\n",
       " ('06', 'Pollo', 3.6, None, None, None),\n",
       " ('08', 'Bacon', 1.5, None, None, None),\n",
       " ('09', 'Coca cola', 3.0, None, None, None),\n",
       " ('10', 'Nestea', 3.0, None, None, None),\n",
       " ('11', 'Menú de Pollo', 5.0, '02', 'Patatas', 2.0),\n",
       " ('11', 'Menú de Pollo', 5.0, '03', 'tomate', 0.5),\n",
       " ('11', 'Menú de Pollo', 5.0, '06', 'Pollo', 3.6),\n",
       " ('11', 'Menú de Pollo', 5.0, '17', 'Fruta', 1.0),\n",
       " ('11', 'Menú de Pollo', 5.0, '18', 'Agua', 2.0),\n",
       " ('12', 'Menú de Hamburguesa con queso', 6.0, '01', 'Hamburguesa', 2.6),\n",
       " ('12', 'Menú de Hamburguesa con queso', 6.0, '02', 'Patatas', 2.0),\n",
       " ('12', 'Menú de Hamburguesa con queso', 6.0, '04', 'Queso', 1.0),\n",
       " ('12', 'Menú de Hamburguesa con queso', 6.0, '10', 'Nestea', 3.0),\n",
       " ('12', 'Menú de Hamburguesa con queso', 6.0, '16', 'Tarta', 2.0),\n",
       " ('13', 'Menú de Pollo con queso', 6.0, '02', 'Patatas', 2.0),\n",
       " ('13', 'Menú de Pollo con queso', 6.0, '04', 'Queso', 1.0),\n",
       " ('13', 'Menú de Pollo con queso', 6.0, '06', 'Pollo', 3.6),\n",
       " ('13', 'Menú de Pollo con queso', 6.0, '08', 'Bacon', 1.5),\n",
       " ('13', 'Menú de Pollo con queso', 6.0, '09', 'Coca cola', 3.0),\n",
       " ('13', 'Menú de Pollo con queso', 6.0, '15', 'Helado', 1.0),\n",
       " ('14', 'Menú de Hamburguesa', 6.0, '01', 'Hamburguesa', 2.6),\n",
       " ('14', 'Menú de Hamburguesa', 6.0, '02', 'Patatas', 2.0),\n",
       " ('14', 'Menú de Hamburguesa', 6.0, '03', 'tomate', 0.5),\n",
       " ('14', 'Menú de Hamburguesa', 6.0, '05', 'Lechuga', 0.5),\n",
       " ('14', 'Menú de Hamburguesa', 6.0, '08', 'Bacon', 1.5),\n",
       " ('14', 'Menú de Hamburguesa', 6.0, '09', 'Coca cola', 3.0),\n",
       " ('14', 'Menú de Hamburguesa', 6.0, '15', 'Helado', 1.0),\n",
       " ('15', 'Helado', 1.0, None, None, None),\n",
       " ('16', 'Tarta', 2.0, None, None, None),\n",
       " ('17', 'Fruta', 1.0, None, None, None),\n",
       " ('18', 'Agua', 2.0, None, None, None),\n",
       " ('19', 'Fanta', 3.0, None, None, None)]"
      ]
     },
     "execution_count": 35,
     "metadata": {},
     "output_type": "execute_result"
    }
   ],
   "source": [
    "connection = mysql.connector.connect(host=' ', database=  , user=   , password=   , connection_timeout=180)\n",
    "cursor = connection.cursor()\n",
    "query11 = \"\"\"SELECT \n",
    "    p.Codigo AS Producto_Codigo,\n",
    "    p.Nombre AS Producto_Nombre,\n",
    "    p.Precio AS Producto_Precio,\n",
    "    c.Codigo_P_compuesto AS Componente_Codigo,\n",
    "    pc.Nombre AS Componente_Nombre,\n",
    "    pc.Precio AS Componente_Precio\n",
    "FROM \n",
    "    PRODUCTO p\n",
    "LEFT JOIN \n",
    "    esta_compuesto c ON p.Codigo = c.Codigo_P\n",
    "LEFT JOIN \n",
    "    PRODUCTO pc ON c.Codigo_P_compuesto = pc.Codigo\n",
    "ORDER BY \n",
    "    p.Codigo, c.Codigo_P_compuesto;;\"\"\"\n",
    "cursor.execute(query11)\n",
    "cursor.fetchall()"
   ]
  },
  {
   "cell_type": "code",
   "execution_count": 36,
   "metadata": {},
   "outputs": [
    {
     "name": "stderr",
     "output_type": "stream",
     "text": [
      "C:\\Users\\Win10\\AppData\\Local\\Temp\\ipykernel_3652\\264066487.py:1: UserWarning: pandas only supports SQLAlchemy connectable (engine/connection) or database string URI or sqlite3 DBAPI2 connection. Other DBAPI2 objects are not tested. Please consider using SQLAlchemy.\n",
      "  df11 = pd.read_sql(query11, connection)\n"
     ]
    },
    {
     "data": {
      "text/html": [
       "<style type=\"text/css\">\n",
       "#T_1f48f th {\n",
       "  text-align: left;\n",
       "}\n",
       "#T_1f48f_row0_col0, #T_1f48f_row0_col1, #T_1f48f_row0_col2, #T_1f48f_row0_col3, #T_1f48f_row0_col4, #T_1f48f_row0_col5, #T_1f48f_row1_col0, #T_1f48f_row1_col1, #T_1f48f_row1_col2, #T_1f48f_row1_col3, #T_1f48f_row1_col4, #T_1f48f_row1_col5, #T_1f48f_row2_col0, #T_1f48f_row2_col1, #T_1f48f_row2_col2, #T_1f48f_row2_col3, #T_1f48f_row2_col4, #T_1f48f_row2_col5, #T_1f48f_row3_col0, #T_1f48f_row3_col1, #T_1f48f_row3_col2, #T_1f48f_row3_col3, #T_1f48f_row3_col4, #T_1f48f_row3_col5, #T_1f48f_row4_col0, #T_1f48f_row4_col1, #T_1f48f_row4_col2, #T_1f48f_row4_col3, #T_1f48f_row4_col4, #T_1f48f_row4_col5, #T_1f48f_row5_col0, #T_1f48f_row5_col1, #T_1f48f_row5_col2, #T_1f48f_row5_col3, #T_1f48f_row5_col4, #T_1f48f_row5_col5, #T_1f48f_row6_col0, #T_1f48f_row6_col1, #T_1f48f_row6_col2, #T_1f48f_row6_col3, #T_1f48f_row6_col4, #T_1f48f_row6_col5, #T_1f48f_row7_col0, #T_1f48f_row7_col1, #T_1f48f_row7_col2, #T_1f48f_row7_col3, #T_1f48f_row7_col4, #T_1f48f_row7_col5, #T_1f48f_row8_col0, #T_1f48f_row8_col1, #T_1f48f_row8_col2, #T_1f48f_row8_col3, #T_1f48f_row8_col4, #T_1f48f_row8_col5, #T_1f48f_row9_col0, #T_1f48f_row9_col1, #T_1f48f_row9_col2, #T_1f48f_row9_col3, #T_1f48f_row9_col4, #T_1f48f_row9_col5, #T_1f48f_row10_col0, #T_1f48f_row10_col1, #T_1f48f_row10_col2, #T_1f48f_row10_col3, #T_1f48f_row10_col4, #T_1f48f_row10_col5, #T_1f48f_row11_col0, #T_1f48f_row11_col1, #T_1f48f_row11_col2, #T_1f48f_row11_col3, #T_1f48f_row11_col4, #T_1f48f_row11_col5, #T_1f48f_row12_col0, #T_1f48f_row12_col1, #T_1f48f_row12_col2, #T_1f48f_row12_col3, #T_1f48f_row12_col4, #T_1f48f_row12_col5, #T_1f48f_row13_col0, #T_1f48f_row13_col1, #T_1f48f_row13_col2, #T_1f48f_row13_col3, #T_1f48f_row13_col4, #T_1f48f_row13_col5, #T_1f48f_row14_col0, #T_1f48f_row14_col1, #T_1f48f_row14_col2, #T_1f48f_row14_col3, #T_1f48f_row14_col4, #T_1f48f_row14_col5, #T_1f48f_row15_col0, #T_1f48f_row15_col1, #T_1f48f_row15_col2, #T_1f48f_row15_col3, #T_1f48f_row15_col4, #T_1f48f_row15_col5, #T_1f48f_row16_col0, #T_1f48f_row16_col1, #T_1f48f_row16_col2, #T_1f48f_row16_col3, #T_1f48f_row16_col4, #T_1f48f_row16_col5, #T_1f48f_row17_col0, #T_1f48f_row17_col1, #T_1f48f_row17_col2, #T_1f48f_row17_col3, #T_1f48f_row17_col4, #T_1f48f_row17_col5, #T_1f48f_row18_col0, #T_1f48f_row18_col1, #T_1f48f_row18_col2, #T_1f48f_row18_col3, #T_1f48f_row18_col4, #T_1f48f_row18_col5, #T_1f48f_row19_col0, #T_1f48f_row19_col1, #T_1f48f_row19_col2, #T_1f48f_row19_col3, #T_1f48f_row19_col4, #T_1f48f_row19_col5, #T_1f48f_row20_col0, #T_1f48f_row20_col1, #T_1f48f_row20_col2, #T_1f48f_row20_col3, #T_1f48f_row20_col4, #T_1f48f_row20_col5, #T_1f48f_row21_col0, #T_1f48f_row21_col1, #T_1f48f_row21_col2, #T_1f48f_row21_col3, #T_1f48f_row21_col4, #T_1f48f_row21_col5, #T_1f48f_row22_col0, #T_1f48f_row22_col1, #T_1f48f_row22_col2, #T_1f48f_row22_col3, #T_1f48f_row22_col4, #T_1f48f_row22_col5, #T_1f48f_row23_col0, #T_1f48f_row23_col1, #T_1f48f_row23_col2, #T_1f48f_row23_col3, #T_1f48f_row23_col4, #T_1f48f_row23_col5, #T_1f48f_row24_col0, #T_1f48f_row24_col1, #T_1f48f_row24_col2, #T_1f48f_row24_col3, #T_1f48f_row24_col4, #T_1f48f_row24_col5, #T_1f48f_row25_col0, #T_1f48f_row25_col1, #T_1f48f_row25_col2, #T_1f48f_row25_col3, #T_1f48f_row25_col4, #T_1f48f_row25_col5, #T_1f48f_row26_col0, #T_1f48f_row26_col1, #T_1f48f_row26_col2, #T_1f48f_row26_col3, #T_1f48f_row26_col4, #T_1f48f_row26_col5, #T_1f48f_row27_col0, #T_1f48f_row27_col1, #T_1f48f_row27_col2, #T_1f48f_row27_col3, #T_1f48f_row27_col4, #T_1f48f_row27_col5, #T_1f48f_row28_col0, #T_1f48f_row28_col1, #T_1f48f_row28_col2, #T_1f48f_row28_col3, #T_1f48f_row28_col4, #T_1f48f_row28_col5, #T_1f48f_row29_col0, #T_1f48f_row29_col1, #T_1f48f_row29_col2, #T_1f48f_row29_col3, #T_1f48f_row29_col4, #T_1f48f_row29_col5, #T_1f48f_row30_col0, #T_1f48f_row30_col1, #T_1f48f_row30_col2, #T_1f48f_row30_col3, #T_1f48f_row30_col4, #T_1f48f_row30_col5, #T_1f48f_row31_col0, #T_1f48f_row31_col1, #T_1f48f_row31_col2, #T_1f48f_row31_col3, #T_1f48f_row31_col4, #T_1f48f_row31_col5, #T_1f48f_row32_col0, #T_1f48f_row32_col1, #T_1f48f_row32_col2, #T_1f48f_row32_col3, #T_1f48f_row32_col4, #T_1f48f_row32_col5, #T_1f48f_row33_col0, #T_1f48f_row33_col1, #T_1f48f_row33_col2, #T_1f48f_row33_col3, #T_1f48f_row33_col4, #T_1f48f_row33_col5, #T_1f48f_row34_col0, #T_1f48f_row34_col1, #T_1f48f_row34_col2, #T_1f48f_row34_col3, #T_1f48f_row34_col4, #T_1f48f_row34_col5, #T_1f48f_row35_col0, #T_1f48f_row35_col1, #T_1f48f_row35_col2, #T_1f48f_row35_col3, #T_1f48f_row35_col4, #T_1f48f_row35_col5, #T_1f48f_row36_col0, #T_1f48f_row36_col1, #T_1f48f_row36_col2, #T_1f48f_row36_col3, #T_1f48f_row36_col4, #T_1f48f_row36_col5 {\n",
       "  text-align: left;\n",
       "}\n",
       "</style>\n",
       "<table id=\"T_1f48f\">\n",
       "  <thead>\n",
       "    <tr>\n",
       "      <th class=\"blank level0\" >&nbsp;</th>\n",
       "      <th id=\"T_1f48f_level0_col0\" class=\"col_heading level0 col0\" >Producto_Codigo</th>\n",
       "      <th id=\"T_1f48f_level0_col1\" class=\"col_heading level0 col1\" >Producto_Nombre</th>\n",
       "      <th id=\"T_1f48f_level0_col2\" class=\"col_heading level0 col2\" >Producto_Precio</th>\n",
       "      <th id=\"T_1f48f_level0_col3\" class=\"col_heading level0 col3\" >Componente_Codigo</th>\n",
       "      <th id=\"T_1f48f_level0_col4\" class=\"col_heading level0 col4\" >Componente_Nombre</th>\n",
       "      <th id=\"T_1f48f_level0_col5\" class=\"col_heading level0 col5\" >Componente_Precio</th>\n",
       "    </tr>\n",
       "  </thead>\n",
       "  <tbody>\n",
       "    <tr>\n",
       "      <th id=\"T_1f48f_level0_row0\" class=\"row_heading level0 row0\" >0</th>\n",
       "      <td id=\"T_1f48f_row0_col0\" class=\"data row0 col0\" >01</td>\n",
       "      <td id=\"T_1f48f_row0_col1\" class=\"data row0 col1\" >Hamburguesa</td>\n",
       "      <td id=\"T_1f48f_row0_col2\" class=\"data row0 col2\" >2.600000</td>\n",
       "      <td id=\"T_1f48f_row0_col3\" class=\"data row0 col3\" >None</td>\n",
       "      <td id=\"T_1f48f_row0_col4\" class=\"data row0 col4\" >None</td>\n",
       "      <td id=\"T_1f48f_row0_col5\" class=\"data row0 col5\" >nan</td>\n",
       "    </tr>\n",
       "    <tr>\n",
       "      <th id=\"T_1f48f_level0_row1\" class=\"row_heading level0 row1\" >1</th>\n",
       "      <td id=\"T_1f48f_row1_col0\" class=\"data row1 col0\" >02</td>\n",
       "      <td id=\"T_1f48f_row1_col1\" class=\"data row1 col1\" >Patatas</td>\n",
       "      <td id=\"T_1f48f_row1_col2\" class=\"data row1 col2\" >2.000000</td>\n",
       "      <td id=\"T_1f48f_row1_col3\" class=\"data row1 col3\" >None</td>\n",
       "      <td id=\"T_1f48f_row1_col4\" class=\"data row1 col4\" >None</td>\n",
       "      <td id=\"T_1f48f_row1_col5\" class=\"data row1 col5\" >nan</td>\n",
       "    </tr>\n",
       "    <tr>\n",
       "      <th id=\"T_1f48f_level0_row2\" class=\"row_heading level0 row2\" >2</th>\n",
       "      <td id=\"T_1f48f_row2_col0\" class=\"data row2 col0\" >03</td>\n",
       "      <td id=\"T_1f48f_row2_col1\" class=\"data row2 col1\" >tomate</td>\n",
       "      <td id=\"T_1f48f_row2_col2\" class=\"data row2 col2\" >0.500000</td>\n",
       "      <td id=\"T_1f48f_row2_col3\" class=\"data row2 col3\" >None</td>\n",
       "      <td id=\"T_1f48f_row2_col4\" class=\"data row2 col4\" >None</td>\n",
       "      <td id=\"T_1f48f_row2_col5\" class=\"data row2 col5\" >nan</td>\n",
       "    </tr>\n",
       "    <tr>\n",
       "      <th id=\"T_1f48f_level0_row3\" class=\"row_heading level0 row3\" >3</th>\n",
       "      <td id=\"T_1f48f_row3_col0\" class=\"data row3 col0\" >04</td>\n",
       "      <td id=\"T_1f48f_row3_col1\" class=\"data row3 col1\" >Queso</td>\n",
       "      <td id=\"T_1f48f_row3_col2\" class=\"data row3 col2\" >1.000000</td>\n",
       "      <td id=\"T_1f48f_row3_col3\" class=\"data row3 col3\" >None</td>\n",
       "      <td id=\"T_1f48f_row3_col4\" class=\"data row3 col4\" >None</td>\n",
       "      <td id=\"T_1f48f_row3_col5\" class=\"data row3 col5\" >nan</td>\n",
       "    </tr>\n",
       "    <tr>\n",
       "      <th id=\"T_1f48f_level0_row4\" class=\"row_heading level0 row4\" >4</th>\n",
       "      <td id=\"T_1f48f_row4_col0\" class=\"data row4 col0\" >05</td>\n",
       "      <td id=\"T_1f48f_row4_col1\" class=\"data row4 col1\" >Lechuga</td>\n",
       "      <td id=\"T_1f48f_row4_col2\" class=\"data row4 col2\" >0.500000</td>\n",
       "      <td id=\"T_1f48f_row4_col3\" class=\"data row4 col3\" >None</td>\n",
       "      <td id=\"T_1f48f_row4_col4\" class=\"data row4 col4\" >None</td>\n",
       "      <td id=\"T_1f48f_row4_col5\" class=\"data row4 col5\" >nan</td>\n",
       "    </tr>\n",
       "    <tr>\n",
       "      <th id=\"T_1f48f_level0_row5\" class=\"row_heading level0 row5\" >5</th>\n",
       "      <td id=\"T_1f48f_row5_col0\" class=\"data row5 col0\" >06</td>\n",
       "      <td id=\"T_1f48f_row5_col1\" class=\"data row5 col1\" >Pollo</td>\n",
       "      <td id=\"T_1f48f_row5_col2\" class=\"data row5 col2\" >3.600000</td>\n",
       "      <td id=\"T_1f48f_row5_col3\" class=\"data row5 col3\" >None</td>\n",
       "      <td id=\"T_1f48f_row5_col4\" class=\"data row5 col4\" >None</td>\n",
       "      <td id=\"T_1f48f_row5_col5\" class=\"data row5 col5\" >nan</td>\n",
       "    </tr>\n",
       "    <tr>\n",
       "      <th id=\"T_1f48f_level0_row6\" class=\"row_heading level0 row6\" >6</th>\n",
       "      <td id=\"T_1f48f_row6_col0\" class=\"data row6 col0\" >08</td>\n",
       "      <td id=\"T_1f48f_row6_col1\" class=\"data row6 col1\" >Bacon</td>\n",
       "      <td id=\"T_1f48f_row6_col2\" class=\"data row6 col2\" >1.500000</td>\n",
       "      <td id=\"T_1f48f_row6_col3\" class=\"data row6 col3\" >None</td>\n",
       "      <td id=\"T_1f48f_row6_col4\" class=\"data row6 col4\" >None</td>\n",
       "      <td id=\"T_1f48f_row6_col5\" class=\"data row6 col5\" >nan</td>\n",
       "    </tr>\n",
       "    <tr>\n",
       "      <th id=\"T_1f48f_level0_row7\" class=\"row_heading level0 row7\" >7</th>\n",
       "      <td id=\"T_1f48f_row7_col0\" class=\"data row7 col0\" >09</td>\n",
       "      <td id=\"T_1f48f_row7_col1\" class=\"data row7 col1\" >Coca cola</td>\n",
       "      <td id=\"T_1f48f_row7_col2\" class=\"data row7 col2\" >3.000000</td>\n",
       "      <td id=\"T_1f48f_row7_col3\" class=\"data row7 col3\" >None</td>\n",
       "      <td id=\"T_1f48f_row7_col4\" class=\"data row7 col4\" >None</td>\n",
       "      <td id=\"T_1f48f_row7_col5\" class=\"data row7 col5\" >nan</td>\n",
       "    </tr>\n",
       "    <tr>\n",
       "      <th id=\"T_1f48f_level0_row8\" class=\"row_heading level0 row8\" >8</th>\n",
       "      <td id=\"T_1f48f_row8_col0\" class=\"data row8 col0\" >10</td>\n",
       "      <td id=\"T_1f48f_row8_col1\" class=\"data row8 col1\" >Nestea</td>\n",
       "      <td id=\"T_1f48f_row8_col2\" class=\"data row8 col2\" >3.000000</td>\n",
       "      <td id=\"T_1f48f_row8_col3\" class=\"data row8 col3\" >None</td>\n",
       "      <td id=\"T_1f48f_row8_col4\" class=\"data row8 col4\" >None</td>\n",
       "      <td id=\"T_1f48f_row8_col5\" class=\"data row8 col5\" >nan</td>\n",
       "    </tr>\n",
       "    <tr>\n",
       "      <th id=\"T_1f48f_level0_row9\" class=\"row_heading level0 row9\" >9</th>\n",
       "      <td id=\"T_1f48f_row9_col0\" class=\"data row9 col0\" >11</td>\n",
       "      <td id=\"T_1f48f_row9_col1\" class=\"data row9 col1\" >Menú de Pollo</td>\n",
       "      <td id=\"T_1f48f_row9_col2\" class=\"data row9 col2\" >5.000000</td>\n",
       "      <td id=\"T_1f48f_row9_col3\" class=\"data row9 col3\" >02</td>\n",
       "      <td id=\"T_1f48f_row9_col4\" class=\"data row9 col4\" >Patatas</td>\n",
       "      <td id=\"T_1f48f_row9_col5\" class=\"data row9 col5\" >2.000000</td>\n",
       "    </tr>\n",
       "    <tr>\n",
       "      <th id=\"T_1f48f_level0_row10\" class=\"row_heading level0 row10\" >10</th>\n",
       "      <td id=\"T_1f48f_row10_col0\" class=\"data row10 col0\" >11</td>\n",
       "      <td id=\"T_1f48f_row10_col1\" class=\"data row10 col1\" >Menú de Pollo</td>\n",
       "      <td id=\"T_1f48f_row10_col2\" class=\"data row10 col2\" >5.000000</td>\n",
       "      <td id=\"T_1f48f_row10_col3\" class=\"data row10 col3\" >03</td>\n",
       "      <td id=\"T_1f48f_row10_col4\" class=\"data row10 col4\" >tomate</td>\n",
       "      <td id=\"T_1f48f_row10_col5\" class=\"data row10 col5\" >0.500000</td>\n",
       "    </tr>\n",
       "    <tr>\n",
       "      <th id=\"T_1f48f_level0_row11\" class=\"row_heading level0 row11\" >11</th>\n",
       "      <td id=\"T_1f48f_row11_col0\" class=\"data row11 col0\" >11</td>\n",
       "      <td id=\"T_1f48f_row11_col1\" class=\"data row11 col1\" >Menú de Pollo</td>\n",
       "      <td id=\"T_1f48f_row11_col2\" class=\"data row11 col2\" >5.000000</td>\n",
       "      <td id=\"T_1f48f_row11_col3\" class=\"data row11 col3\" >06</td>\n",
       "      <td id=\"T_1f48f_row11_col4\" class=\"data row11 col4\" >Pollo</td>\n",
       "      <td id=\"T_1f48f_row11_col5\" class=\"data row11 col5\" >3.600000</td>\n",
       "    </tr>\n",
       "    <tr>\n",
       "      <th id=\"T_1f48f_level0_row12\" class=\"row_heading level0 row12\" >12</th>\n",
       "      <td id=\"T_1f48f_row12_col0\" class=\"data row12 col0\" >11</td>\n",
       "      <td id=\"T_1f48f_row12_col1\" class=\"data row12 col1\" >Menú de Pollo</td>\n",
       "      <td id=\"T_1f48f_row12_col2\" class=\"data row12 col2\" >5.000000</td>\n",
       "      <td id=\"T_1f48f_row12_col3\" class=\"data row12 col3\" >17</td>\n",
       "      <td id=\"T_1f48f_row12_col4\" class=\"data row12 col4\" >Fruta</td>\n",
       "      <td id=\"T_1f48f_row12_col5\" class=\"data row12 col5\" >1.000000</td>\n",
       "    </tr>\n",
       "    <tr>\n",
       "      <th id=\"T_1f48f_level0_row13\" class=\"row_heading level0 row13\" >13</th>\n",
       "      <td id=\"T_1f48f_row13_col0\" class=\"data row13 col0\" >11</td>\n",
       "      <td id=\"T_1f48f_row13_col1\" class=\"data row13 col1\" >Menú de Pollo</td>\n",
       "      <td id=\"T_1f48f_row13_col2\" class=\"data row13 col2\" >5.000000</td>\n",
       "      <td id=\"T_1f48f_row13_col3\" class=\"data row13 col3\" >18</td>\n",
       "      <td id=\"T_1f48f_row13_col4\" class=\"data row13 col4\" >Agua</td>\n",
       "      <td id=\"T_1f48f_row13_col5\" class=\"data row13 col5\" >2.000000</td>\n",
       "    </tr>\n",
       "    <tr>\n",
       "      <th id=\"T_1f48f_level0_row14\" class=\"row_heading level0 row14\" >14</th>\n",
       "      <td id=\"T_1f48f_row14_col0\" class=\"data row14 col0\" >12</td>\n",
       "      <td id=\"T_1f48f_row14_col1\" class=\"data row14 col1\" >Menú de Hamburguesa con queso</td>\n",
       "      <td id=\"T_1f48f_row14_col2\" class=\"data row14 col2\" >6.000000</td>\n",
       "      <td id=\"T_1f48f_row14_col3\" class=\"data row14 col3\" >01</td>\n",
       "      <td id=\"T_1f48f_row14_col4\" class=\"data row14 col4\" >Hamburguesa</td>\n",
       "      <td id=\"T_1f48f_row14_col5\" class=\"data row14 col5\" >2.600000</td>\n",
       "    </tr>\n",
       "    <tr>\n",
       "      <th id=\"T_1f48f_level0_row15\" class=\"row_heading level0 row15\" >15</th>\n",
       "      <td id=\"T_1f48f_row15_col0\" class=\"data row15 col0\" >12</td>\n",
       "      <td id=\"T_1f48f_row15_col1\" class=\"data row15 col1\" >Menú de Hamburguesa con queso</td>\n",
       "      <td id=\"T_1f48f_row15_col2\" class=\"data row15 col2\" >6.000000</td>\n",
       "      <td id=\"T_1f48f_row15_col3\" class=\"data row15 col3\" >02</td>\n",
       "      <td id=\"T_1f48f_row15_col4\" class=\"data row15 col4\" >Patatas</td>\n",
       "      <td id=\"T_1f48f_row15_col5\" class=\"data row15 col5\" >2.000000</td>\n",
       "    </tr>\n",
       "    <tr>\n",
       "      <th id=\"T_1f48f_level0_row16\" class=\"row_heading level0 row16\" >16</th>\n",
       "      <td id=\"T_1f48f_row16_col0\" class=\"data row16 col0\" >12</td>\n",
       "      <td id=\"T_1f48f_row16_col1\" class=\"data row16 col1\" >Menú de Hamburguesa con queso</td>\n",
       "      <td id=\"T_1f48f_row16_col2\" class=\"data row16 col2\" >6.000000</td>\n",
       "      <td id=\"T_1f48f_row16_col3\" class=\"data row16 col3\" >04</td>\n",
       "      <td id=\"T_1f48f_row16_col4\" class=\"data row16 col4\" >Queso</td>\n",
       "      <td id=\"T_1f48f_row16_col5\" class=\"data row16 col5\" >1.000000</td>\n",
       "    </tr>\n",
       "    <tr>\n",
       "      <th id=\"T_1f48f_level0_row17\" class=\"row_heading level0 row17\" >17</th>\n",
       "      <td id=\"T_1f48f_row17_col0\" class=\"data row17 col0\" >12</td>\n",
       "      <td id=\"T_1f48f_row17_col1\" class=\"data row17 col1\" >Menú de Hamburguesa con queso</td>\n",
       "      <td id=\"T_1f48f_row17_col2\" class=\"data row17 col2\" >6.000000</td>\n",
       "      <td id=\"T_1f48f_row17_col3\" class=\"data row17 col3\" >10</td>\n",
       "      <td id=\"T_1f48f_row17_col4\" class=\"data row17 col4\" >Nestea</td>\n",
       "      <td id=\"T_1f48f_row17_col5\" class=\"data row17 col5\" >3.000000</td>\n",
       "    </tr>\n",
       "    <tr>\n",
       "      <th id=\"T_1f48f_level0_row18\" class=\"row_heading level0 row18\" >18</th>\n",
       "      <td id=\"T_1f48f_row18_col0\" class=\"data row18 col0\" >12</td>\n",
       "      <td id=\"T_1f48f_row18_col1\" class=\"data row18 col1\" >Menú de Hamburguesa con queso</td>\n",
       "      <td id=\"T_1f48f_row18_col2\" class=\"data row18 col2\" >6.000000</td>\n",
       "      <td id=\"T_1f48f_row18_col3\" class=\"data row18 col3\" >16</td>\n",
       "      <td id=\"T_1f48f_row18_col4\" class=\"data row18 col4\" >Tarta</td>\n",
       "      <td id=\"T_1f48f_row18_col5\" class=\"data row18 col5\" >2.000000</td>\n",
       "    </tr>\n",
       "    <tr>\n",
       "      <th id=\"T_1f48f_level0_row19\" class=\"row_heading level0 row19\" >19</th>\n",
       "      <td id=\"T_1f48f_row19_col0\" class=\"data row19 col0\" >13</td>\n",
       "      <td id=\"T_1f48f_row19_col1\" class=\"data row19 col1\" >Menú de Pollo con queso</td>\n",
       "      <td id=\"T_1f48f_row19_col2\" class=\"data row19 col2\" >6.000000</td>\n",
       "      <td id=\"T_1f48f_row19_col3\" class=\"data row19 col3\" >02</td>\n",
       "      <td id=\"T_1f48f_row19_col4\" class=\"data row19 col4\" >Patatas</td>\n",
       "      <td id=\"T_1f48f_row19_col5\" class=\"data row19 col5\" >2.000000</td>\n",
       "    </tr>\n",
       "    <tr>\n",
       "      <th id=\"T_1f48f_level0_row20\" class=\"row_heading level0 row20\" >20</th>\n",
       "      <td id=\"T_1f48f_row20_col0\" class=\"data row20 col0\" >13</td>\n",
       "      <td id=\"T_1f48f_row20_col1\" class=\"data row20 col1\" >Menú de Pollo con queso</td>\n",
       "      <td id=\"T_1f48f_row20_col2\" class=\"data row20 col2\" >6.000000</td>\n",
       "      <td id=\"T_1f48f_row20_col3\" class=\"data row20 col3\" >04</td>\n",
       "      <td id=\"T_1f48f_row20_col4\" class=\"data row20 col4\" >Queso</td>\n",
       "      <td id=\"T_1f48f_row20_col5\" class=\"data row20 col5\" >1.000000</td>\n",
       "    </tr>\n",
       "    <tr>\n",
       "      <th id=\"T_1f48f_level0_row21\" class=\"row_heading level0 row21\" >21</th>\n",
       "      <td id=\"T_1f48f_row21_col0\" class=\"data row21 col0\" >13</td>\n",
       "      <td id=\"T_1f48f_row21_col1\" class=\"data row21 col1\" >Menú de Pollo con queso</td>\n",
       "      <td id=\"T_1f48f_row21_col2\" class=\"data row21 col2\" >6.000000</td>\n",
       "      <td id=\"T_1f48f_row21_col3\" class=\"data row21 col3\" >06</td>\n",
       "      <td id=\"T_1f48f_row21_col4\" class=\"data row21 col4\" >Pollo</td>\n",
       "      <td id=\"T_1f48f_row21_col5\" class=\"data row21 col5\" >3.600000</td>\n",
       "    </tr>\n",
       "    <tr>\n",
       "      <th id=\"T_1f48f_level0_row22\" class=\"row_heading level0 row22\" >22</th>\n",
       "      <td id=\"T_1f48f_row22_col0\" class=\"data row22 col0\" >13</td>\n",
       "      <td id=\"T_1f48f_row22_col1\" class=\"data row22 col1\" >Menú de Pollo con queso</td>\n",
       "      <td id=\"T_1f48f_row22_col2\" class=\"data row22 col2\" >6.000000</td>\n",
       "      <td id=\"T_1f48f_row22_col3\" class=\"data row22 col3\" >08</td>\n",
       "      <td id=\"T_1f48f_row22_col4\" class=\"data row22 col4\" >Bacon</td>\n",
       "      <td id=\"T_1f48f_row22_col5\" class=\"data row22 col5\" >1.500000</td>\n",
       "    </tr>\n",
       "    <tr>\n",
       "      <th id=\"T_1f48f_level0_row23\" class=\"row_heading level0 row23\" >23</th>\n",
       "      <td id=\"T_1f48f_row23_col0\" class=\"data row23 col0\" >13</td>\n",
       "      <td id=\"T_1f48f_row23_col1\" class=\"data row23 col1\" >Menú de Pollo con queso</td>\n",
       "      <td id=\"T_1f48f_row23_col2\" class=\"data row23 col2\" >6.000000</td>\n",
       "      <td id=\"T_1f48f_row23_col3\" class=\"data row23 col3\" >09</td>\n",
       "      <td id=\"T_1f48f_row23_col4\" class=\"data row23 col4\" >Coca cola</td>\n",
       "      <td id=\"T_1f48f_row23_col5\" class=\"data row23 col5\" >3.000000</td>\n",
       "    </tr>\n",
       "    <tr>\n",
       "      <th id=\"T_1f48f_level0_row24\" class=\"row_heading level0 row24\" >24</th>\n",
       "      <td id=\"T_1f48f_row24_col0\" class=\"data row24 col0\" >13</td>\n",
       "      <td id=\"T_1f48f_row24_col1\" class=\"data row24 col1\" >Menú de Pollo con queso</td>\n",
       "      <td id=\"T_1f48f_row24_col2\" class=\"data row24 col2\" >6.000000</td>\n",
       "      <td id=\"T_1f48f_row24_col3\" class=\"data row24 col3\" >15</td>\n",
       "      <td id=\"T_1f48f_row24_col4\" class=\"data row24 col4\" >Helado</td>\n",
       "      <td id=\"T_1f48f_row24_col5\" class=\"data row24 col5\" >1.000000</td>\n",
       "    </tr>\n",
       "    <tr>\n",
       "      <th id=\"T_1f48f_level0_row25\" class=\"row_heading level0 row25\" >25</th>\n",
       "      <td id=\"T_1f48f_row25_col0\" class=\"data row25 col0\" >14</td>\n",
       "      <td id=\"T_1f48f_row25_col1\" class=\"data row25 col1\" >Menú de Hamburguesa</td>\n",
       "      <td id=\"T_1f48f_row25_col2\" class=\"data row25 col2\" >6.000000</td>\n",
       "      <td id=\"T_1f48f_row25_col3\" class=\"data row25 col3\" >01</td>\n",
       "      <td id=\"T_1f48f_row25_col4\" class=\"data row25 col4\" >Hamburguesa</td>\n",
       "      <td id=\"T_1f48f_row25_col5\" class=\"data row25 col5\" >2.600000</td>\n",
       "    </tr>\n",
       "    <tr>\n",
       "      <th id=\"T_1f48f_level0_row26\" class=\"row_heading level0 row26\" >26</th>\n",
       "      <td id=\"T_1f48f_row26_col0\" class=\"data row26 col0\" >14</td>\n",
       "      <td id=\"T_1f48f_row26_col1\" class=\"data row26 col1\" >Menú de Hamburguesa</td>\n",
       "      <td id=\"T_1f48f_row26_col2\" class=\"data row26 col2\" >6.000000</td>\n",
       "      <td id=\"T_1f48f_row26_col3\" class=\"data row26 col3\" >02</td>\n",
       "      <td id=\"T_1f48f_row26_col4\" class=\"data row26 col4\" >Patatas</td>\n",
       "      <td id=\"T_1f48f_row26_col5\" class=\"data row26 col5\" >2.000000</td>\n",
       "    </tr>\n",
       "    <tr>\n",
       "      <th id=\"T_1f48f_level0_row27\" class=\"row_heading level0 row27\" >27</th>\n",
       "      <td id=\"T_1f48f_row27_col0\" class=\"data row27 col0\" >14</td>\n",
       "      <td id=\"T_1f48f_row27_col1\" class=\"data row27 col1\" >Menú de Hamburguesa</td>\n",
       "      <td id=\"T_1f48f_row27_col2\" class=\"data row27 col2\" >6.000000</td>\n",
       "      <td id=\"T_1f48f_row27_col3\" class=\"data row27 col3\" >03</td>\n",
       "      <td id=\"T_1f48f_row27_col4\" class=\"data row27 col4\" >tomate</td>\n",
       "      <td id=\"T_1f48f_row27_col5\" class=\"data row27 col5\" >0.500000</td>\n",
       "    </tr>\n",
       "    <tr>\n",
       "      <th id=\"T_1f48f_level0_row28\" class=\"row_heading level0 row28\" >28</th>\n",
       "      <td id=\"T_1f48f_row28_col0\" class=\"data row28 col0\" >14</td>\n",
       "      <td id=\"T_1f48f_row28_col1\" class=\"data row28 col1\" >Menú de Hamburguesa</td>\n",
       "      <td id=\"T_1f48f_row28_col2\" class=\"data row28 col2\" >6.000000</td>\n",
       "      <td id=\"T_1f48f_row28_col3\" class=\"data row28 col3\" >05</td>\n",
       "      <td id=\"T_1f48f_row28_col4\" class=\"data row28 col4\" >Lechuga</td>\n",
       "      <td id=\"T_1f48f_row28_col5\" class=\"data row28 col5\" >0.500000</td>\n",
       "    </tr>\n",
       "    <tr>\n",
       "      <th id=\"T_1f48f_level0_row29\" class=\"row_heading level0 row29\" >29</th>\n",
       "      <td id=\"T_1f48f_row29_col0\" class=\"data row29 col0\" >14</td>\n",
       "      <td id=\"T_1f48f_row29_col1\" class=\"data row29 col1\" >Menú de Hamburguesa</td>\n",
       "      <td id=\"T_1f48f_row29_col2\" class=\"data row29 col2\" >6.000000</td>\n",
       "      <td id=\"T_1f48f_row29_col3\" class=\"data row29 col3\" >08</td>\n",
       "      <td id=\"T_1f48f_row29_col4\" class=\"data row29 col4\" >Bacon</td>\n",
       "      <td id=\"T_1f48f_row29_col5\" class=\"data row29 col5\" >1.500000</td>\n",
       "    </tr>\n",
       "    <tr>\n",
       "      <th id=\"T_1f48f_level0_row30\" class=\"row_heading level0 row30\" >30</th>\n",
       "      <td id=\"T_1f48f_row30_col0\" class=\"data row30 col0\" >14</td>\n",
       "      <td id=\"T_1f48f_row30_col1\" class=\"data row30 col1\" >Menú de Hamburguesa</td>\n",
       "      <td id=\"T_1f48f_row30_col2\" class=\"data row30 col2\" >6.000000</td>\n",
       "      <td id=\"T_1f48f_row30_col3\" class=\"data row30 col3\" >09</td>\n",
       "      <td id=\"T_1f48f_row30_col4\" class=\"data row30 col4\" >Coca cola</td>\n",
       "      <td id=\"T_1f48f_row30_col5\" class=\"data row30 col5\" >3.000000</td>\n",
       "    </tr>\n",
       "    <tr>\n",
       "      <th id=\"T_1f48f_level0_row31\" class=\"row_heading level0 row31\" >31</th>\n",
       "      <td id=\"T_1f48f_row31_col0\" class=\"data row31 col0\" >14</td>\n",
       "      <td id=\"T_1f48f_row31_col1\" class=\"data row31 col1\" >Menú de Hamburguesa</td>\n",
       "      <td id=\"T_1f48f_row31_col2\" class=\"data row31 col2\" >6.000000</td>\n",
       "      <td id=\"T_1f48f_row31_col3\" class=\"data row31 col3\" >15</td>\n",
       "      <td id=\"T_1f48f_row31_col4\" class=\"data row31 col4\" >Helado</td>\n",
       "      <td id=\"T_1f48f_row31_col5\" class=\"data row31 col5\" >1.000000</td>\n",
       "    </tr>\n",
       "    <tr>\n",
       "      <th id=\"T_1f48f_level0_row32\" class=\"row_heading level0 row32\" >32</th>\n",
       "      <td id=\"T_1f48f_row32_col0\" class=\"data row32 col0\" >15</td>\n",
       "      <td id=\"T_1f48f_row32_col1\" class=\"data row32 col1\" >Helado</td>\n",
       "      <td id=\"T_1f48f_row32_col2\" class=\"data row32 col2\" >1.000000</td>\n",
       "      <td id=\"T_1f48f_row32_col3\" class=\"data row32 col3\" >None</td>\n",
       "      <td id=\"T_1f48f_row32_col4\" class=\"data row32 col4\" >None</td>\n",
       "      <td id=\"T_1f48f_row32_col5\" class=\"data row32 col5\" >nan</td>\n",
       "    </tr>\n",
       "    <tr>\n",
       "      <th id=\"T_1f48f_level0_row33\" class=\"row_heading level0 row33\" >33</th>\n",
       "      <td id=\"T_1f48f_row33_col0\" class=\"data row33 col0\" >16</td>\n",
       "      <td id=\"T_1f48f_row33_col1\" class=\"data row33 col1\" >Tarta</td>\n",
       "      <td id=\"T_1f48f_row33_col2\" class=\"data row33 col2\" >2.000000</td>\n",
       "      <td id=\"T_1f48f_row33_col3\" class=\"data row33 col3\" >None</td>\n",
       "      <td id=\"T_1f48f_row33_col4\" class=\"data row33 col4\" >None</td>\n",
       "      <td id=\"T_1f48f_row33_col5\" class=\"data row33 col5\" >nan</td>\n",
       "    </tr>\n",
       "    <tr>\n",
       "      <th id=\"T_1f48f_level0_row34\" class=\"row_heading level0 row34\" >34</th>\n",
       "      <td id=\"T_1f48f_row34_col0\" class=\"data row34 col0\" >17</td>\n",
       "      <td id=\"T_1f48f_row34_col1\" class=\"data row34 col1\" >Fruta</td>\n",
       "      <td id=\"T_1f48f_row34_col2\" class=\"data row34 col2\" >1.000000</td>\n",
       "      <td id=\"T_1f48f_row34_col3\" class=\"data row34 col3\" >None</td>\n",
       "      <td id=\"T_1f48f_row34_col4\" class=\"data row34 col4\" >None</td>\n",
       "      <td id=\"T_1f48f_row34_col5\" class=\"data row34 col5\" >nan</td>\n",
       "    </tr>\n",
       "    <tr>\n",
       "      <th id=\"T_1f48f_level0_row35\" class=\"row_heading level0 row35\" >35</th>\n",
       "      <td id=\"T_1f48f_row35_col0\" class=\"data row35 col0\" >18</td>\n",
       "      <td id=\"T_1f48f_row35_col1\" class=\"data row35 col1\" >Agua</td>\n",
       "      <td id=\"T_1f48f_row35_col2\" class=\"data row35 col2\" >2.000000</td>\n",
       "      <td id=\"T_1f48f_row35_col3\" class=\"data row35 col3\" >None</td>\n",
       "      <td id=\"T_1f48f_row35_col4\" class=\"data row35 col4\" >None</td>\n",
       "      <td id=\"T_1f48f_row35_col5\" class=\"data row35 col5\" >nan</td>\n",
       "    </tr>\n",
       "    <tr>\n",
       "      <th id=\"T_1f48f_level0_row36\" class=\"row_heading level0 row36\" >36</th>\n",
       "      <td id=\"T_1f48f_row36_col0\" class=\"data row36 col0\" >19</td>\n",
       "      <td id=\"T_1f48f_row36_col1\" class=\"data row36 col1\" >Fanta</td>\n",
       "      <td id=\"T_1f48f_row36_col2\" class=\"data row36 col2\" >3.000000</td>\n",
       "      <td id=\"T_1f48f_row36_col3\" class=\"data row36 col3\" >None</td>\n",
       "      <td id=\"T_1f48f_row36_col4\" class=\"data row36 col4\" >None</td>\n",
       "      <td id=\"T_1f48f_row36_col5\" class=\"data row36 col5\" >nan</td>\n",
       "    </tr>\n",
       "  </tbody>\n",
       "</table>\n"
      ],
      "text/plain": [
       "<pandas.io.formats.style.Styler at 0x1ed578618d0>"
      ]
     },
     "execution_count": 36,
     "metadata": {},
     "output_type": "execute_result"
    }
   ],
   "source": [
    "df11 = pd.read_sql(query11, connection)\n",
    "left_align(df11)\n"
   ]
  },
  {
   "cell_type": "code",
   "execution_count": 37,
   "metadata": {},
   "outputs": [],
   "source": [
    "df11.to_csv('prductos_componentes.csv', index=False)"
   ]
  },
  {
   "cell_type": "markdown",
   "metadata": {},
   "source": [
    "### 12. Obtener el importe total de todos los pedidos."
   ]
  },
  {
   "cell_type": "code",
   "execution_count": 118,
   "metadata": {},
   "outputs": [
    {
     "data": {
      "text/plain": [
       "234.0"
      ]
     },
     "execution_count": 118,
     "metadata": {},
     "output_type": "execute_result"
    }
   ],
   "source": [
    "connection = mysql.connector.connect(host=' ', database=  , user=   , password=   , connection_timeout=180)\n",
    "cursor = connection.cursor()\n",
    "query12 = \"\"\"select sum(importe) from PEDIDO;\"\"\"\n",
    "cursor.execute(query12)\n",
    "cursor.fetchall()[0][0]"
   ]
  },
  {
   "cell_type": "code",
   "execution_count": 39,
   "metadata": {},
   "outputs": [
    {
     "name": "stderr",
     "output_type": "stream",
     "text": [
      "C:\\Users\\Win10\\AppData\\Local\\Temp\\ipykernel_3652\\1580659282.py:1: UserWarning: pandas only supports SQLAlchemy connectable (engine/connection) or database string URI or sqlite3 DBAPI2 connection. Other DBAPI2 objects are not tested. Please consider using SQLAlchemy.\n",
      "  df12 = pd.read_sql(query12, connection)\n"
     ]
    },
    {
     "data": {
      "text/html": [
       "<div>\n",
       "<style scoped>\n",
       "    .dataframe tbody tr th:only-of-type {\n",
       "        vertical-align: middle;\n",
       "    }\n",
       "\n",
       "    .dataframe tbody tr th {\n",
       "        vertical-align: top;\n",
       "    }\n",
       "\n",
       "    .dataframe thead th {\n",
       "        text-align: right;\n",
       "    }\n",
       "</style>\n",
       "<table border=\"1\" class=\"dataframe\">\n",
       "  <thead>\n",
       "    <tr style=\"text-align: right;\">\n",
       "      <th></th>\n",
       "      <th>sum(importe)</th>\n",
       "    </tr>\n",
       "  </thead>\n",
       "  <tbody>\n",
       "    <tr>\n",
       "      <th>0</th>\n",
       "      <td>234.0</td>\n",
       "    </tr>\n",
       "  </tbody>\n",
       "</table>\n",
       "</div>"
      ],
      "text/plain": [
       "   sum(importe)\n",
       "0         234.0"
      ]
     },
     "execution_count": 39,
     "metadata": {},
     "output_type": "execute_result"
    }
   ],
   "source": [
    "df12 = pd.read_sql(query12, connection)\n",
    "df12"
   ]
  },
  {
   "cell_type": "code",
   "execution_count": 40,
   "metadata": {},
   "outputs": [],
   "source": [
    "df12.to_csv('importe_total_pedidos.csv', index=False)"
   ]
  },
  {
   "cell_type": "markdown",
   "metadata": {},
   "source": [
    "### 13. Mostrar los empleados que no son repartidores."
   ]
  },
  {
   "cell_type": "code",
   "execution_count": 41,
   "metadata": {},
   "outputs": [
    {
     "data": {
      "text/plain": [
       "[('03232323P', 'María Luisa Galdón Ter', '43534534567', 'noche', 1200.0),\n",
       " ('04444444T', 'Úrsula Delta Camacho', '11177788899', 'mañana', 900.0),\n",
       " ('11111111Q', 'Luis Ramírez Pardo', '23445556666', 'mañana', 900.0),\n",
       " ('14111155T', 'Sergio Lérida Campos', '55577700089', 'tarde', 1000.0),\n",
       " ('14567555L', 'Piedad Colmenero Zapillo', '23456734534', 'noche', 1200.0),\n",
       " ('22222222S', 'María Sánchez Cid', '11112223334', 'tarde', 1000.0),\n",
       " ('33333333M', 'Martín Guerrero López', '33344455566', 'tarde', 1000.0),\n",
       " ('55555555J', 'Carmen Hernández Pío', '99966633311', 'mañana', 900.0),\n",
       " ('77777777M', 'Pedro Jiménez Ruiz', '23456785432', 'tarde', 1000.0),\n",
       " ('88888888O', 'Soledad Campillo Molina', '00088877754', 'noche', 1200.0),\n",
       " ('99999999X', 'Raúl Rodrigo Roca', '55566677789', 'tarde', 1000.0)]"
      ]
     },
     "execution_count": 41,
     "metadata": {},
     "output_type": "execute_result"
    }
   ],
   "source": [
    "connection = mysql.connector.connect(host=' ', database=  , user=   , password=   , connection_timeout=180)\n",
    "cursor=connection.cursor()\n",
    "query13=\"\"\"select * from EMPLEADO;\"\"\"\n",
    "cursor.execute(query13)\n",
    "\n",
    "cursor.fetchall()"
   ]
  },
  {
   "cell_type": "code",
   "execution_count": 42,
   "metadata": {},
   "outputs": [
    {
     "name": "stderr",
     "output_type": "stream",
     "text": [
      "C:\\Users\\Win10\\AppData\\Local\\Temp\\ipykernel_3652\\3883311498.py:1: UserWarning: pandas only supports SQLAlchemy connectable (engine/connection) or database string URI or sqlite3 DBAPI2 connection. Other DBAPI2 objects are not tested. Please consider using SQLAlchemy.\n",
      "  df13 = pd.read_sql(query13, connection)\n"
     ]
    },
    {
     "data": {
      "text/html": [
       "<style type=\"text/css\">\n",
       "#T_2cbea th {\n",
       "  text-align: left;\n",
       "}\n",
       "#T_2cbea_row0_col0, #T_2cbea_row0_col1, #T_2cbea_row0_col2, #T_2cbea_row0_col3, #T_2cbea_row0_col4, #T_2cbea_row1_col0, #T_2cbea_row1_col1, #T_2cbea_row1_col2, #T_2cbea_row1_col3, #T_2cbea_row1_col4, #T_2cbea_row2_col0, #T_2cbea_row2_col1, #T_2cbea_row2_col2, #T_2cbea_row2_col3, #T_2cbea_row2_col4, #T_2cbea_row3_col0, #T_2cbea_row3_col1, #T_2cbea_row3_col2, #T_2cbea_row3_col3, #T_2cbea_row3_col4, #T_2cbea_row4_col0, #T_2cbea_row4_col1, #T_2cbea_row4_col2, #T_2cbea_row4_col3, #T_2cbea_row4_col4, #T_2cbea_row5_col0, #T_2cbea_row5_col1, #T_2cbea_row5_col2, #T_2cbea_row5_col3, #T_2cbea_row5_col4, #T_2cbea_row6_col0, #T_2cbea_row6_col1, #T_2cbea_row6_col2, #T_2cbea_row6_col3, #T_2cbea_row6_col4, #T_2cbea_row7_col0, #T_2cbea_row7_col1, #T_2cbea_row7_col2, #T_2cbea_row7_col3, #T_2cbea_row7_col4, #T_2cbea_row8_col0, #T_2cbea_row8_col1, #T_2cbea_row8_col2, #T_2cbea_row8_col3, #T_2cbea_row8_col4, #T_2cbea_row9_col0, #T_2cbea_row9_col1, #T_2cbea_row9_col2, #T_2cbea_row9_col3, #T_2cbea_row9_col4, #T_2cbea_row10_col0, #T_2cbea_row10_col1, #T_2cbea_row10_col2, #T_2cbea_row10_col3, #T_2cbea_row10_col4 {\n",
       "  text-align: left;\n",
       "}\n",
       "</style>\n",
       "<table id=\"T_2cbea\">\n",
       "  <thead>\n",
       "    <tr>\n",
       "      <th class=\"blank level0\" >&nbsp;</th>\n",
       "      <th id=\"T_2cbea_level0_col0\" class=\"col_heading level0 col0\" >DNI</th>\n",
       "      <th id=\"T_2cbea_level0_col1\" class=\"col_heading level0 col1\" >Nombre</th>\n",
       "      <th id=\"T_2cbea_level0_col2\" class=\"col_heading level0 col2\" >Nss</th>\n",
       "      <th id=\"T_2cbea_level0_col3\" class=\"col_heading level0 col3\" >Turno</th>\n",
       "      <th id=\"T_2cbea_level0_col4\" class=\"col_heading level0 col4\" >Salario</th>\n",
       "    </tr>\n",
       "  </thead>\n",
       "  <tbody>\n",
       "    <tr>\n",
       "      <th id=\"T_2cbea_level0_row0\" class=\"row_heading level0 row0\" >0</th>\n",
       "      <td id=\"T_2cbea_row0_col0\" class=\"data row0 col0\" >03232323P</td>\n",
       "      <td id=\"T_2cbea_row0_col1\" class=\"data row0 col1\" >María Luisa Galdón Ter</td>\n",
       "      <td id=\"T_2cbea_row0_col2\" class=\"data row0 col2\" >43534534567</td>\n",
       "      <td id=\"T_2cbea_row0_col3\" class=\"data row0 col3\" >noche</td>\n",
       "      <td id=\"T_2cbea_row0_col4\" class=\"data row0 col4\" >1200.000000</td>\n",
       "    </tr>\n",
       "    <tr>\n",
       "      <th id=\"T_2cbea_level0_row1\" class=\"row_heading level0 row1\" >1</th>\n",
       "      <td id=\"T_2cbea_row1_col0\" class=\"data row1 col0\" >04444444T</td>\n",
       "      <td id=\"T_2cbea_row1_col1\" class=\"data row1 col1\" >Úrsula Delta Camacho</td>\n",
       "      <td id=\"T_2cbea_row1_col2\" class=\"data row1 col2\" >11177788899</td>\n",
       "      <td id=\"T_2cbea_row1_col3\" class=\"data row1 col3\" >mañana</td>\n",
       "      <td id=\"T_2cbea_row1_col4\" class=\"data row1 col4\" >900.000000</td>\n",
       "    </tr>\n",
       "    <tr>\n",
       "      <th id=\"T_2cbea_level0_row2\" class=\"row_heading level0 row2\" >2</th>\n",
       "      <td id=\"T_2cbea_row2_col0\" class=\"data row2 col0\" >11111111Q</td>\n",
       "      <td id=\"T_2cbea_row2_col1\" class=\"data row2 col1\" >Luis Ramírez Pardo</td>\n",
       "      <td id=\"T_2cbea_row2_col2\" class=\"data row2 col2\" >23445556666</td>\n",
       "      <td id=\"T_2cbea_row2_col3\" class=\"data row2 col3\" >mañana</td>\n",
       "      <td id=\"T_2cbea_row2_col4\" class=\"data row2 col4\" >900.000000</td>\n",
       "    </tr>\n",
       "    <tr>\n",
       "      <th id=\"T_2cbea_level0_row3\" class=\"row_heading level0 row3\" >3</th>\n",
       "      <td id=\"T_2cbea_row3_col0\" class=\"data row3 col0\" >14111155T</td>\n",
       "      <td id=\"T_2cbea_row3_col1\" class=\"data row3 col1\" >Sergio Lérida Campos</td>\n",
       "      <td id=\"T_2cbea_row3_col2\" class=\"data row3 col2\" >55577700089</td>\n",
       "      <td id=\"T_2cbea_row3_col3\" class=\"data row3 col3\" >tarde</td>\n",
       "      <td id=\"T_2cbea_row3_col4\" class=\"data row3 col4\" >1000.000000</td>\n",
       "    </tr>\n",
       "    <tr>\n",
       "      <th id=\"T_2cbea_level0_row4\" class=\"row_heading level0 row4\" >4</th>\n",
       "      <td id=\"T_2cbea_row4_col0\" class=\"data row4 col0\" >14567555L</td>\n",
       "      <td id=\"T_2cbea_row4_col1\" class=\"data row4 col1\" >Piedad Colmenero Zapillo</td>\n",
       "      <td id=\"T_2cbea_row4_col2\" class=\"data row4 col2\" >23456734534</td>\n",
       "      <td id=\"T_2cbea_row4_col3\" class=\"data row4 col3\" >noche</td>\n",
       "      <td id=\"T_2cbea_row4_col4\" class=\"data row4 col4\" >1200.000000</td>\n",
       "    </tr>\n",
       "    <tr>\n",
       "      <th id=\"T_2cbea_level0_row5\" class=\"row_heading level0 row5\" >5</th>\n",
       "      <td id=\"T_2cbea_row5_col0\" class=\"data row5 col0\" >22222222S</td>\n",
       "      <td id=\"T_2cbea_row5_col1\" class=\"data row5 col1\" >María Sánchez Cid</td>\n",
       "      <td id=\"T_2cbea_row5_col2\" class=\"data row5 col2\" >11112223334</td>\n",
       "      <td id=\"T_2cbea_row5_col3\" class=\"data row5 col3\" >tarde</td>\n",
       "      <td id=\"T_2cbea_row5_col4\" class=\"data row5 col4\" >1000.000000</td>\n",
       "    </tr>\n",
       "    <tr>\n",
       "      <th id=\"T_2cbea_level0_row6\" class=\"row_heading level0 row6\" >6</th>\n",
       "      <td id=\"T_2cbea_row6_col0\" class=\"data row6 col0\" >33333333M</td>\n",
       "      <td id=\"T_2cbea_row6_col1\" class=\"data row6 col1\" >Martín Guerrero López</td>\n",
       "      <td id=\"T_2cbea_row6_col2\" class=\"data row6 col2\" >33344455566</td>\n",
       "      <td id=\"T_2cbea_row6_col3\" class=\"data row6 col3\" >tarde</td>\n",
       "      <td id=\"T_2cbea_row6_col4\" class=\"data row6 col4\" >1000.000000</td>\n",
       "    </tr>\n",
       "    <tr>\n",
       "      <th id=\"T_2cbea_level0_row7\" class=\"row_heading level0 row7\" >7</th>\n",
       "      <td id=\"T_2cbea_row7_col0\" class=\"data row7 col0\" >55555555J</td>\n",
       "      <td id=\"T_2cbea_row7_col1\" class=\"data row7 col1\" >Carmen Hernández Pío</td>\n",
       "      <td id=\"T_2cbea_row7_col2\" class=\"data row7 col2\" >99966633311</td>\n",
       "      <td id=\"T_2cbea_row7_col3\" class=\"data row7 col3\" >mañana</td>\n",
       "      <td id=\"T_2cbea_row7_col4\" class=\"data row7 col4\" >900.000000</td>\n",
       "    </tr>\n",
       "    <tr>\n",
       "      <th id=\"T_2cbea_level0_row8\" class=\"row_heading level0 row8\" >8</th>\n",
       "      <td id=\"T_2cbea_row8_col0\" class=\"data row8 col0\" >77777777M</td>\n",
       "      <td id=\"T_2cbea_row8_col1\" class=\"data row8 col1\" >Pedro Jiménez Ruiz</td>\n",
       "      <td id=\"T_2cbea_row8_col2\" class=\"data row8 col2\" >23456785432</td>\n",
       "      <td id=\"T_2cbea_row8_col3\" class=\"data row8 col3\" >tarde</td>\n",
       "      <td id=\"T_2cbea_row8_col4\" class=\"data row8 col4\" >1000.000000</td>\n",
       "    </tr>\n",
       "    <tr>\n",
       "      <th id=\"T_2cbea_level0_row9\" class=\"row_heading level0 row9\" >9</th>\n",
       "      <td id=\"T_2cbea_row9_col0\" class=\"data row9 col0\" >88888888O</td>\n",
       "      <td id=\"T_2cbea_row9_col1\" class=\"data row9 col1\" >Soledad Campillo Molina</td>\n",
       "      <td id=\"T_2cbea_row9_col2\" class=\"data row9 col2\" >00088877754</td>\n",
       "      <td id=\"T_2cbea_row9_col3\" class=\"data row9 col3\" >noche</td>\n",
       "      <td id=\"T_2cbea_row9_col4\" class=\"data row9 col4\" >1200.000000</td>\n",
       "    </tr>\n",
       "    <tr>\n",
       "      <th id=\"T_2cbea_level0_row10\" class=\"row_heading level0 row10\" >10</th>\n",
       "      <td id=\"T_2cbea_row10_col0\" class=\"data row10 col0\" >99999999X</td>\n",
       "      <td id=\"T_2cbea_row10_col1\" class=\"data row10 col1\" >Raúl Rodrigo Roca</td>\n",
       "      <td id=\"T_2cbea_row10_col2\" class=\"data row10 col2\" >55566677789</td>\n",
       "      <td id=\"T_2cbea_row10_col3\" class=\"data row10 col3\" >tarde</td>\n",
       "      <td id=\"T_2cbea_row10_col4\" class=\"data row10 col4\" >1000.000000</td>\n",
       "    </tr>\n",
       "  </tbody>\n",
       "</table>\n"
      ],
      "text/plain": [
       "<pandas.io.formats.style.Styler at 0x1ed69950e50>"
      ]
     },
     "execution_count": 42,
     "metadata": {},
     "output_type": "execute_result"
    }
   ],
   "source": [
    "df13 = pd.read_sql(query13, connection)\n",
    "left_align(df13)"
   ]
  },
  {
   "cell_type": "code",
   "execution_count": 43,
   "metadata": {},
   "outputs": [],
   "source": [
    "df13.to_csv('empeados_no_repartidores.csv', index=False)"
   ]
  },
  {
   "cell_type": "markdown",
   "metadata": {},
   "source": [
    "### 14.Listar los pedidos junto con el nombre del empleado que tomó el pedido."
   ]
  },
  {
   "cell_type": "code",
   "execution_count": 44,
   "metadata": {},
   "outputs": [
    {
     "data": {
      "text/plain": [
       "[('0001',\n",
       "  datetime.date(2020, 10, 15),\n",
       "  10.0,\n",
       "  '11111111Q',\n",
       "  '04444444T',\n",
       "  '55675675J',\n",
       "  datetime.timedelta(seconds=43200),\n",
       "  datetime.timedelta(seconds=44100),\n",
       "  datetime.timedelta(seconds=45900),\n",
       "  'Luis Ramírez Pardo'),\n",
       " ('0002',\n",
       "  datetime.date(2020, 11, 11),\n",
       "  15.0,\n",
       "  '22222222S',\n",
       "  '77777777M',\n",
       "  '99009900J',\n",
       "  datetime.timedelta(seconds=48600),\n",
       "  datetime.timedelta(seconds=49500),\n",
       "  datetime.timedelta(seconds=50700),\n",
       "  'María Sánchez Cid'),\n",
       " ('0003',\n",
       "  datetime.date(2020, 10, 15),\n",
       "  13.0,\n",
       "  '77777777M',\n",
       "  '22222222S',\n",
       "  '99009900J',\n",
       "  datetime.timedelta(seconds=54000),\n",
       "  datetime.timedelta(seconds=54900),\n",
       "  datetime.timedelta(seconds=56700),\n",
       "  'Pedro Jiménez Ruiz'),\n",
       " ('0004',\n",
       "  datetime.date(2020, 11, 10),\n",
       "  13.0,\n",
       "  '99999999X',\n",
       "  '77777777M',\n",
       "  '04477744T',\n",
       "  datetime.timedelta(seconds=50520),\n",
       "  datetime.timedelta(seconds=52200),\n",
       "  datetime.timedelta(seconds=53100),\n",
       "  'Raúl Rodrigo Roca'),\n",
       " ('0005',\n",
       "  datetime.date(2020, 9, 5),\n",
       "  14.0,\n",
       "  '14567555L',\n",
       "  '03232323P',\n",
       "  '14188151T',\n",
       "  datetime.timedelta(seconds=68520),\n",
       "  datetime.timedelta(seconds=70200),\n",
       "  datetime.timedelta(seconds=71100),\n",
       "  'Piedad Colmenero Zapillo'),\n",
       " ('0006',\n",
       "  datetime.date(2020, 11, 15),\n",
       "  23.0,\n",
       "  '14567555L',\n",
       "  '88888888O',\n",
       "  '04477744T',\n",
       "  datetime.timedelta(seconds=75720),\n",
       "  datetime.timedelta(seconds=77700),\n",
       "  datetime.timedelta(seconds=78300),\n",
       "  'Piedad Colmenero Zapillo'),\n",
       " ('0007',\n",
       "  datetime.date(2020, 9, 25),\n",
       "  17.0,\n",
       "  '03232323P',\n",
       "  '88888888O',\n",
       "  '14188151T',\n",
       "  datetime.timedelta(seconds=83100),\n",
       "  datetime.timedelta(seconds=83520),\n",
       "  datetime.timedelta(seconds=84900),\n",
       "  'María Luisa Galdón Ter'),\n",
       " ('0008',\n",
       "  datetime.date(2020, 9, 15),\n",
       "  14.0,\n",
       "  '99999999X',\n",
       "  '33333333M',\n",
       "  '11245621Q',\n",
       "  datetime.timedelta(seconds=64920),\n",
       "  datetime.timedelta(seconds=66600),\n",
       "  datetime.timedelta(seconds=67500),\n",
       "  'Raúl Rodrigo Roca'),\n",
       " ('0009',\n",
       "  datetime.date(2020, 11, 23),\n",
       "  25.0,\n",
       "  '04444444T',\n",
       "  '55555555J',\n",
       "  '99009900J',\n",
       "  datetime.timedelta(seconds=39720),\n",
       "  datetime.timedelta(seconds=41400),\n",
       "  datetime.timedelta(seconds=42900),\n",
       "  'Úrsula Delta Camacho'),\n",
       " ('0010',\n",
       "  datetime.date(2020, 11, 5),\n",
       "  45.0,\n",
       "  '88888888O',\n",
       "  '14567555L',\n",
       "  None,\n",
       "  datetime.timedelta(seconds=79500),\n",
       "  datetime.timedelta(seconds=79920),\n",
       "  None,\n",
       "  'Soledad Campillo Molina'),\n",
       " ('0011',\n",
       "  datetime.date(2020, 11, 5),\n",
       "  45.0,\n",
       "  '88888888O',\n",
       "  '14567555L',\n",
       "  None,\n",
       "  datetime.timedelta(seconds=79500),\n",
       "  None,\n",
       "  None,\n",
       "  'Soledad Campillo Molina')]"
      ]
     },
     "execution_count": 44,
     "metadata": {},
     "output_type": "execute_result"
    }
   ],
   "source": [
    "connection = mysql.connector.connect(host=' ', database=  , user=   , password=   , connection_timeout=180)\n",
    "cursor=connection.cursor()\n",
    "query14=\"\"\"select PEDIDO.*, EMPLEADO.nombre from PEDIDO\n",
    "left join EMPLEADO ON EMPLEADO.DNI=PEDIDO.DNI_ETM;\n",
    "\"\"\"\n",
    "cursor.execute(query14)\n",
    "cursor.fetchall()"
   ]
  },
  {
   "cell_type": "code",
   "execution_count": 45,
   "metadata": {},
   "outputs": [
    {
     "name": "stderr",
     "output_type": "stream",
     "text": [
      "C:\\Users\\Win10\\AppData\\Local\\Temp\\ipykernel_3652\\2416693713.py:1: UserWarning: pandas only supports SQLAlchemy connectable (engine/connection) or database string URI or sqlite3 DBAPI2 connection. Other DBAPI2 objects are not tested. Please consider using SQLAlchemy.\n",
      "  df14 = pd.read_sql(query14, connection)\n"
     ]
    },
    {
     "data": {
      "text/html": [
       "<style type=\"text/css\">\n",
       "#T_209cc th {\n",
       "  text-align: left;\n",
       "}\n",
       "#T_209cc_row0_col0, #T_209cc_row0_col1, #T_209cc_row0_col2, #T_209cc_row0_col3, #T_209cc_row0_col4, #T_209cc_row0_col5, #T_209cc_row0_col6, #T_209cc_row0_col7, #T_209cc_row0_col8, #T_209cc_row0_col9, #T_209cc_row1_col0, #T_209cc_row1_col1, #T_209cc_row1_col2, #T_209cc_row1_col3, #T_209cc_row1_col4, #T_209cc_row1_col5, #T_209cc_row1_col6, #T_209cc_row1_col7, #T_209cc_row1_col8, #T_209cc_row1_col9, #T_209cc_row2_col0, #T_209cc_row2_col1, #T_209cc_row2_col2, #T_209cc_row2_col3, #T_209cc_row2_col4, #T_209cc_row2_col5, #T_209cc_row2_col6, #T_209cc_row2_col7, #T_209cc_row2_col8, #T_209cc_row2_col9, #T_209cc_row3_col0, #T_209cc_row3_col1, #T_209cc_row3_col2, #T_209cc_row3_col3, #T_209cc_row3_col4, #T_209cc_row3_col5, #T_209cc_row3_col6, #T_209cc_row3_col7, #T_209cc_row3_col8, #T_209cc_row3_col9, #T_209cc_row4_col0, #T_209cc_row4_col1, #T_209cc_row4_col2, #T_209cc_row4_col3, #T_209cc_row4_col4, #T_209cc_row4_col5, #T_209cc_row4_col6, #T_209cc_row4_col7, #T_209cc_row4_col8, #T_209cc_row4_col9, #T_209cc_row5_col0, #T_209cc_row5_col1, #T_209cc_row5_col2, #T_209cc_row5_col3, #T_209cc_row5_col4, #T_209cc_row5_col5, #T_209cc_row5_col6, #T_209cc_row5_col7, #T_209cc_row5_col8, #T_209cc_row5_col9, #T_209cc_row6_col0, #T_209cc_row6_col1, #T_209cc_row6_col2, #T_209cc_row6_col3, #T_209cc_row6_col4, #T_209cc_row6_col5, #T_209cc_row6_col6, #T_209cc_row6_col7, #T_209cc_row6_col8, #T_209cc_row6_col9, #T_209cc_row7_col0, #T_209cc_row7_col1, #T_209cc_row7_col2, #T_209cc_row7_col3, #T_209cc_row7_col4, #T_209cc_row7_col5, #T_209cc_row7_col6, #T_209cc_row7_col7, #T_209cc_row7_col8, #T_209cc_row7_col9, #T_209cc_row8_col0, #T_209cc_row8_col1, #T_209cc_row8_col2, #T_209cc_row8_col3, #T_209cc_row8_col4, #T_209cc_row8_col5, #T_209cc_row8_col6, #T_209cc_row8_col7, #T_209cc_row8_col8, #T_209cc_row8_col9, #T_209cc_row9_col0, #T_209cc_row9_col1, #T_209cc_row9_col2, #T_209cc_row9_col3, #T_209cc_row9_col4, #T_209cc_row9_col5, #T_209cc_row9_col6, #T_209cc_row9_col7, #T_209cc_row9_col8, #T_209cc_row9_col9, #T_209cc_row10_col0, #T_209cc_row10_col1, #T_209cc_row10_col2, #T_209cc_row10_col3, #T_209cc_row10_col4, #T_209cc_row10_col5, #T_209cc_row10_col6, #T_209cc_row10_col7, #T_209cc_row10_col8, #T_209cc_row10_col9 {\n",
       "  text-align: left;\n",
       "}\n",
       "</style>\n",
       "<table id=\"T_209cc\">\n",
       "  <thead>\n",
       "    <tr>\n",
       "      <th class=\"blank level0\" >&nbsp;</th>\n",
       "      <th id=\"T_209cc_level0_col0\" class=\"col_heading level0 col0\" >Numero</th>\n",
       "      <th id=\"T_209cc_level0_col1\" class=\"col_heading level0 col1\" >Fecha</th>\n",
       "      <th id=\"T_209cc_level0_col2\" class=\"col_heading level0 col2\" >Importe</th>\n",
       "      <th id=\"T_209cc_level0_col3\" class=\"col_heading level0 col3\" >DNI_ETM</th>\n",
       "      <th id=\"T_209cc_level0_col4\" class=\"col_heading level0 col4\" >DNI_EP</th>\n",
       "      <th id=\"T_209cc_level0_col5\" class=\"col_heading level0 col5\" >DNI_R</th>\n",
       "      <th id=\"T_209cc_level0_col6\" class=\"col_heading level0 col6\" >Hora_tm</th>\n",
       "      <th id=\"T_209cc_level0_col7\" class=\"col_heading level0 col7\" >Hora_pre</th>\n",
       "      <th id=\"T_209cc_level0_col8\" class=\"col_heading level0 col8\" >Hora_rep</th>\n",
       "      <th id=\"T_209cc_level0_col9\" class=\"col_heading level0 col9\" >nombre</th>\n",
       "    </tr>\n",
       "  </thead>\n",
       "  <tbody>\n",
       "    <tr>\n",
       "      <th id=\"T_209cc_level0_row0\" class=\"row_heading level0 row0\" >0</th>\n",
       "      <td id=\"T_209cc_row0_col0\" class=\"data row0 col0\" >0001</td>\n",
       "      <td id=\"T_209cc_row0_col1\" class=\"data row0 col1\" >2020-10-15</td>\n",
       "      <td id=\"T_209cc_row0_col2\" class=\"data row0 col2\" >10.000000</td>\n",
       "      <td id=\"T_209cc_row0_col3\" class=\"data row0 col3\" >11111111Q</td>\n",
       "      <td id=\"T_209cc_row0_col4\" class=\"data row0 col4\" >04444444T</td>\n",
       "      <td id=\"T_209cc_row0_col5\" class=\"data row0 col5\" >55675675J</td>\n",
       "      <td id=\"T_209cc_row0_col6\" class=\"data row0 col6\" >0 days 12:00:00</td>\n",
       "      <td id=\"T_209cc_row0_col7\" class=\"data row0 col7\" >0 days 12:15:00</td>\n",
       "      <td id=\"T_209cc_row0_col8\" class=\"data row0 col8\" >0 days 12:45:00</td>\n",
       "      <td id=\"T_209cc_row0_col9\" class=\"data row0 col9\" >Luis Ramírez Pardo</td>\n",
       "    </tr>\n",
       "    <tr>\n",
       "      <th id=\"T_209cc_level0_row1\" class=\"row_heading level0 row1\" >1</th>\n",
       "      <td id=\"T_209cc_row1_col0\" class=\"data row1 col0\" >0002</td>\n",
       "      <td id=\"T_209cc_row1_col1\" class=\"data row1 col1\" >2020-11-11</td>\n",
       "      <td id=\"T_209cc_row1_col2\" class=\"data row1 col2\" >15.000000</td>\n",
       "      <td id=\"T_209cc_row1_col3\" class=\"data row1 col3\" >22222222S</td>\n",
       "      <td id=\"T_209cc_row1_col4\" class=\"data row1 col4\" >77777777M</td>\n",
       "      <td id=\"T_209cc_row1_col5\" class=\"data row1 col5\" >99009900J</td>\n",
       "      <td id=\"T_209cc_row1_col6\" class=\"data row1 col6\" >0 days 13:30:00</td>\n",
       "      <td id=\"T_209cc_row1_col7\" class=\"data row1 col7\" >0 days 13:45:00</td>\n",
       "      <td id=\"T_209cc_row1_col8\" class=\"data row1 col8\" >0 days 14:05:00</td>\n",
       "      <td id=\"T_209cc_row1_col9\" class=\"data row1 col9\" >María Sánchez Cid</td>\n",
       "    </tr>\n",
       "    <tr>\n",
       "      <th id=\"T_209cc_level0_row2\" class=\"row_heading level0 row2\" >2</th>\n",
       "      <td id=\"T_209cc_row2_col0\" class=\"data row2 col0\" >0003</td>\n",
       "      <td id=\"T_209cc_row2_col1\" class=\"data row2 col1\" >2020-10-15</td>\n",
       "      <td id=\"T_209cc_row2_col2\" class=\"data row2 col2\" >13.000000</td>\n",
       "      <td id=\"T_209cc_row2_col3\" class=\"data row2 col3\" >77777777M</td>\n",
       "      <td id=\"T_209cc_row2_col4\" class=\"data row2 col4\" >22222222S</td>\n",
       "      <td id=\"T_209cc_row2_col5\" class=\"data row2 col5\" >99009900J</td>\n",
       "      <td id=\"T_209cc_row2_col6\" class=\"data row2 col6\" >0 days 15:00:00</td>\n",
       "      <td id=\"T_209cc_row2_col7\" class=\"data row2 col7\" >0 days 15:15:00</td>\n",
       "      <td id=\"T_209cc_row2_col8\" class=\"data row2 col8\" >0 days 15:45:00</td>\n",
       "      <td id=\"T_209cc_row2_col9\" class=\"data row2 col9\" >Pedro Jiménez Ruiz</td>\n",
       "    </tr>\n",
       "    <tr>\n",
       "      <th id=\"T_209cc_level0_row3\" class=\"row_heading level0 row3\" >3</th>\n",
       "      <td id=\"T_209cc_row3_col0\" class=\"data row3 col0\" >0004</td>\n",
       "      <td id=\"T_209cc_row3_col1\" class=\"data row3 col1\" >2020-11-10</td>\n",
       "      <td id=\"T_209cc_row3_col2\" class=\"data row3 col2\" >13.000000</td>\n",
       "      <td id=\"T_209cc_row3_col3\" class=\"data row3 col3\" >99999999X</td>\n",
       "      <td id=\"T_209cc_row3_col4\" class=\"data row3 col4\" >77777777M</td>\n",
       "      <td id=\"T_209cc_row3_col5\" class=\"data row3 col5\" >04477744T</td>\n",
       "      <td id=\"T_209cc_row3_col6\" class=\"data row3 col6\" >0 days 14:02:00</td>\n",
       "      <td id=\"T_209cc_row3_col7\" class=\"data row3 col7\" >0 days 14:30:00</td>\n",
       "      <td id=\"T_209cc_row3_col8\" class=\"data row3 col8\" >0 days 14:45:00</td>\n",
       "      <td id=\"T_209cc_row3_col9\" class=\"data row3 col9\" >Raúl Rodrigo Roca</td>\n",
       "    </tr>\n",
       "    <tr>\n",
       "      <th id=\"T_209cc_level0_row4\" class=\"row_heading level0 row4\" >4</th>\n",
       "      <td id=\"T_209cc_row4_col0\" class=\"data row4 col0\" >0005</td>\n",
       "      <td id=\"T_209cc_row4_col1\" class=\"data row4 col1\" >2020-09-05</td>\n",
       "      <td id=\"T_209cc_row4_col2\" class=\"data row4 col2\" >14.000000</td>\n",
       "      <td id=\"T_209cc_row4_col3\" class=\"data row4 col3\" >14567555L</td>\n",
       "      <td id=\"T_209cc_row4_col4\" class=\"data row4 col4\" >03232323P</td>\n",
       "      <td id=\"T_209cc_row4_col5\" class=\"data row4 col5\" >14188151T</td>\n",
       "      <td id=\"T_209cc_row4_col6\" class=\"data row4 col6\" >0 days 19:02:00</td>\n",
       "      <td id=\"T_209cc_row4_col7\" class=\"data row4 col7\" >0 days 19:30:00</td>\n",
       "      <td id=\"T_209cc_row4_col8\" class=\"data row4 col8\" >0 days 19:45:00</td>\n",
       "      <td id=\"T_209cc_row4_col9\" class=\"data row4 col9\" >Piedad Colmenero Zapillo</td>\n",
       "    </tr>\n",
       "    <tr>\n",
       "      <th id=\"T_209cc_level0_row5\" class=\"row_heading level0 row5\" >5</th>\n",
       "      <td id=\"T_209cc_row5_col0\" class=\"data row5 col0\" >0006</td>\n",
       "      <td id=\"T_209cc_row5_col1\" class=\"data row5 col1\" >2020-11-15</td>\n",
       "      <td id=\"T_209cc_row5_col2\" class=\"data row5 col2\" >23.000000</td>\n",
       "      <td id=\"T_209cc_row5_col3\" class=\"data row5 col3\" >14567555L</td>\n",
       "      <td id=\"T_209cc_row5_col4\" class=\"data row5 col4\" >88888888O</td>\n",
       "      <td id=\"T_209cc_row5_col5\" class=\"data row5 col5\" >04477744T</td>\n",
       "      <td id=\"T_209cc_row5_col6\" class=\"data row5 col6\" >0 days 21:02:00</td>\n",
       "      <td id=\"T_209cc_row5_col7\" class=\"data row5 col7\" >0 days 21:35:00</td>\n",
       "      <td id=\"T_209cc_row5_col8\" class=\"data row5 col8\" >0 days 21:45:00</td>\n",
       "      <td id=\"T_209cc_row5_col9\" class=\"data row5 col9\" >Piedad Colmenero Zapillo</td>\n",
       "    </tr>\n",
       "    <tr>\n",
       "      <th id=\"T_209cc_level0_row6\" class=\"row_heading level0 row6\" >6</th>\n",
       "      <td id=\"T_209cc_row6_col0\" class=\"data row6 col0\" >0007</td>\n",
       "      <td id=\"T_209cc_row6_col1\" class=\"data row6 col1\" >2020-09-25</td>\n",
       "      <td id=\"T_209cc_row6_col2\" class=\"data row6 col2\" >17.000000</td>\n",
       "      <td id=\"T_209cc_row6_col3\" class=\"data row6 col3\" >03232323P</td>\n",
       "      <td id=\"T_209cc_row6_col4\" class=\"data row6 col4\" >88888888O</td>\n",
       "      <td id=\"T_209cc_row6_col5\" class=\"data row6 col5\" >14188151T</td>\n",
       "      <td id=\"T_209cc_row6_col6\" class=\"data row6 col6\" >0 days 23:05:00</td>\n",
       "      <td id=\"T_209cc_row6_col7\" class=\"data row6 col7\" >0 days 23:12:00</td>\n",
       "      <td id=\"T_209cc_row6_col8\" class=\"data row6 col8\" >0 days 23:35:00</td>\n",
       "      <td id=\"T_209cc_row6_col9\" class=\"data row6 col9\" >María Luisa Galdón Ter</td>\n",
       "    </tr>\n",
       "    <tr>\n",
       "      <th id=\"T_209cc_level0_row7\" class=\"row_heading level0 row7\" >7</th>\n",
       "      <td id=\"T_209cc_row7_col0\" class=\"data row7 col0\" >0008</td>\n",
       "      <td id=\"T_209cc_row7_col1\" class=\"data row7 col1\" >2020-09-15</td>\n",
       "      <td id=\"T_209cc_row7_col2\" class=\"data row7 col2\" >14.000000</td>\n",
       "      <td id=\"T_209cc_row7_col3\" class=\"data row7 col3\" >99999999X</td>\n",
       "      <td id=\"T_209cc_row7_col4\" class=\"data row7 col4\" >33333333M</td>\n",
       "      <td id=\"T_209cc_row7_col5\" class=\"data row7 col5\" >11245621Q</td>\n",
       "      <td id=\"T_209cc_row7_col6\" class=\"data row7 col6\" >0 days 18:02:00</td>\n",
       "      <td id=\"T_209cc_row7_col7\" class=\"data row7 col7\" >0 days 18:30:00</td>\n",
       "      <td id=\"T_209cc_row7_col8\" class=\"data row7 col8\" >0 days 18:45:00</td>\n",
       "      <td id=\"T_209cc_row7_col9\" class=\"data row7 col9\" >Raúl Rodrigo Roca</td>\n",
       "    </tr>\n",
       "    <tr>\n",
       "      <th id=\"T_209cc_level0_row8\" class=\"row_heading level0 row8\" >8</th>\n",
       "      <td id=\"T_209cc_row8_col0\" class=\"data row8 col0\" >0009</td>\n",
       "      <td id=\"T_209cc_row8_col1\" class=\"data row8 col1\" >2020-11-23</td>\n",
       "      <td id=\"T_209cc_row8_col2\" class=\"data row8 col2\" >25.000000</td>\n",
       "      <td id=\"T_209cc_row8_col3\" class=\"data row8 col3\" >04444444T</td>\n",
       "      <td id=\"T_209cc_row8_col4\" class=\"data row8 col4\" >55555555J</td>\n",
       "      <td id=\"T_209cc_row8_col5\" class=\"data row8 col5\" >99009900J</td>\n",
       "      <td id=\"T_209cc_row8_col6\" class=\"data row8 col6\" >0 days 11:02:00</td>\n",
       "      <td id=\"T_209cc_row8_col7\" class=\"data row8 col7\" >0 days 11:30:00</td>\n",
       "      <td id=\"T_209cc_row8_col8\" class=\"data row8 col8\" >0 days 11:55:00</td>\n",
       "      <td id=\"T_209cc_row8_col9\" class=\"data row8 col9\" >Úrsula Delta Camacho</td>\n",
       "    </tr>\n",
       "    <tr>\n",
       "      <th id=\"T_209cc_level0_row9\" class=\"row_heading level0 row9\" >9</th>\n",
       "      <td id=\"T_209cc_row9_col0\" class=\"data row9 col0\" >0010</td>\n",
       "      <td id=\"T_209cc_row9_col1\" class=\"data row9 col1\" >2020-11-05</td>\n",
       "      <td id=\"T_209cc_row9_col2\" class=\"data row9 col2\" >45.000000</td>\n",
       "      <td id=\"T_209cc_row9_col3\" class=\"data row9 col3\" >88888888O</td>\n",
       "      <td id=\"T_209cc_row9_col4\" class=\"data row9 col4\" >14567555L</td>\n",
       "      <td id=\"T_209cc_row9_col5\" class=\"data row9 col5\" >None</td>\n",
       "      <td id=\"T_209cc_row9_col6\" class=\"data row9 col6\" >0 days 22:05:00</td>\n",
       "      <td id=\"T_209cc_row9_col7\" class=\"data row9 col7\" >0 days 22:12:00</td>\n",
       "      <td id=\"T_209cc_row9_col8\" class=\"data row9 col8\" >NaT</td>\n",
       "      <td id=\"T_209cc_row9_col9\" class=\"data row9 col9\" >Soledad Campillo Molina</td>\n",
       "    </tr>\n",
       "    <tr>\n",
       "      <th id=\"T_209cc_level0_row10\" class=\"row_heading level0 row10\" >10</th>\n",
       "      <td id=\"T_209cc_row10_col0\" class=\"data row10 col0\" >0011</td>\n",
       "      <td id=\"T_209cc_row10_col1\" class=\"data row10 col1\" >2020-11-05</td>\n",
       "      <td id=\"T_209cc_row10_col2\" class=\"data row10 col2\" >45.000000</td>\n",
       "      <td id=\"T_209cc_row10_col3\" class=\"data row10 col3\" >88888888O</td>\n",
       "      <td id=\"T_209cc_row10_col4\" class=\"data row10 col4\" >14567555L</td>\n",
       "      <td id=\"T_209cc_row10_col5\" class=\"data row10 col5\" >None</td>\n",
       "      <td id=\"T_209cc_row10_col6\" class=\"data row10 col6\" >0 days 22:05:00</td>\n",
       "      <td id=\"T_209cc_row10_col7\" class=\"data row10 col7\" >NaT</td>\n",
       "      <td id=\"T_209cc_row10_col8\" class=\"data row10 col8\" >NaT</td>\n",
       "      <td id=\"T_209cc_row10_col9\" class=\"data row10 col9\" >Soledad Campillo Molina</td>\n",
       "    </tr>\n",
       "  </tbody>\n",
       "</table>\n"
      ],
      "text/plain": [
       "<pandas.io.formats.style.Styler at 0x1ed682fb690>"
      ]
     },
     "execution_count": 45,
     "metadata": {},
     "output_type": "execute_result"
    }
   ],
   "source": [
    "df14 = pd.read_sql(query14, connection)\n",
    "left_align(df14)"
   ]
  },
  {
   "cell_type": "code",
   "execution_count": 46,
   "metadata": {},
   "outputs": [],
   "source": [
    "df14.to_csv('pedidos_por_empleado_tomado.csv', index=False)"
   ]
  },
  {
   "cell_type": "markdown",
   "metadata": {},
   "source": [
    "### 15.Encontrar la cantidad total de productos en cada pedido."
   ]
  },
  {
   "cell_type": "code",
   "execution_count": 47,
   "metadata": {},
   "outputs": [
    {
     "data": {
      "text/plain": [
       "[('0001',\n",
       "  datetime.date(2020, 10, 15),\n",
       "  10.0,\n",
       "  '11111111Q',\n",
       "  '04444444T',\n",
       "  '55675675J',\n",
       "  datetime.timedelta(seconds=43200),\n",
       "  datetime.timedelta(seconds=44100),\n",
       "  datetime.timedelta(seconds=45900),\n",
       "  2),\n",
       " ('0002',\n",
       "  datetime.date(2020, 11, 11),\n",
       "  15.0,\n",
       "  '22222222S',\n",
       "  '77777777M',\n",
       "  '99009900J',\n",
       "  datetime.timedelta(seconds=48600),\n",
       "  datetime.timedelta(seconds=49500),\n",
       "  datetime.timedelta(seconds=50700),\n",
       "  3),\n",
       " ('0003',\n",
       "  datetime.date(2020, 10, 15),\n",
       "  13.0,\n",
       "  '77777777M',\n",
       "  '22222222S',\n",
       "  '99009900J',\n",
       "  datetime.timedelta(seconds=54000),\n",
       "  datetime.timedelta(seconds=54900),\n",
       "  datetime.timedelta(seconds=56700),\n",
       "  2),\n",
       " ('0004',\n",
       "  datetime.date(2020, 11, 10),\n",
       "  13.0,\n",
       "  '99999999X',\n",
       "  '77777777M',\n",
       "  '04477744T',\n",
       "  datetime.timedelta(seconds=50520),\n",
       "  datetime.timedelta(seconds=52200),\n",
       "  datetime.timedelta(seconds=53100),\n",
       "  2),\n",
       " ('0005',\n",
       "  datetime.date(2020, 9, 5),\n",
       "  14.0,\n",
       "  '14567555L',\n",
       "  '03232323P',\n",
       "  '14188151T',\n",
       "  datetime.timedelta(seconds=68520),\n",
       "  datetime.timedelta(seconds=70200),\n",
       "  datetime.timedelta(seconds=71100),\n",
       "  3),\n",
       " ('0006',\n",
       "  datetime.date(2020, 11, 15),\n",
       "  23.0,\n",
       "  '14567555L',\n",
       "  '88888888O',\n",
       "  '04477744T',\n",
       "  datetime.timedelta(seconds=75720),\n",
       "  datetime.timedelta(seconds=77700),\n",
       "  datetime.timedelta(seconds=78300),\n",
       "  4),\n",
       " ('0007',\n",
       "  datetime.date(2020, 9, 25),\n",
       "  17.0,\n",
       "  '03232323P',\n",
       "  '88888888O',\n",
       "  '14188151T',\n",
       "  datetime.timedelta(seconds=83100),\n",
       "  datetime.timedelta(seconds=83520),\n",
       "  datetime.timedelta(seconds=84900),\n",
       "  3),\n",
       " ('0008',\n",
       "  datetime.date(2020, 9, 15),\n",
       "  14.0,\n",
       "  '99999999X',\n",
       "  '33333333M',\n",
       "  '11245621Q',\n",
       "  datetime.timedelta(seconds=64920),\n",
       "  datetime.timedelta(seconds=66600),\n",
       "  datetime.timedelta(seconds=67500),\n",
       "  2),\n",
       " ('0009',\n",
       "  datetime.date(2020, 11, 23),\n",
       "  25.0,\n",
       "  '04444444T',\n",
       "  '55555555J',\n",
       "  '99009900J',\n",
       "  datetime.timedelta(seconds=39720),\n",
       "  datetime.timedelta(seconds=41400),\n",
       "  datetime.timedelta(seconds=42900),\n",
       "  2),\n",
       " ('0010',\n",
       "  datetime.date(2020, 11, 5),\n",
       "  45.0,\n",
       "  '88888888O',\n",
       "  '14567555L',\n",
       "  None,\n",
       "  datetime.timedelta(seconds=79500),\n",
       "  datetime.timedelta(seconds=79920),\n",
       "  None,\n",
       "  4),\n",
       " ('0011',\n",
       "  datetime.date(2020, 11, 5),\n",
       "  45.0,\n",
       "  '88888888O',\n",
       "  '14567555L',\n",
       "  None,\n",
       "  datetime.timedelta(seconds=79500),\n",
       "  None,\n",
       "  None,\n",
       "  1)]"
      ]
     },
     "execution_count": 47,
     "metadata": {},
     "output_type": "execute_result"
    }
   ],
   "source": [
    "connection = mysql.connector.connect(host=' ', database=  , user=   , password=   , connection_timeout=180)\n",
    "cursor=connection.cursor()\n",
    "query15=\"\"\"select PEDIDO.*, count(PRODUCTO.Codigo) from PEDIDO\n",
    "left join consta on PEDIDO.Numero = consta.Numero_P \n",
    "left join PRODUCTO on consta.Codigo_Pr=PRODUCTO.Codigo\n",
    "group by PEDIDO.Numero;\"\"\"\n",
    "cursor.execute(query15)\n",
    "cursor.fetchall()\n"
   ]
  },
  {
   "cell_type": "code",
   "execution_count": 48,
   "metadata": {},
   "outputs": [
    {
     "name": "stderr",
     "output_type": "stream",
     "text": [
      "C:\\Users\\Win10\\AppData\\Local\\Temp\\ipykernel_3652\\2532978199.py:1: UserWarning: pandas only supports SQLAlchemy connectable (engine/connection) or database string URI or sqlite3 DBAPI2 connection. Other DBAPI2 objects are not tested. Please consider using SQLAlchemy.\n",
      "  df15 = pd.read_sql(query15, connection)\n"
     ]
    },
    {
     "data": {
      "text/html": [
       "<div>\n",
       "<style scoped>\n",
       "    .dataframe tbody tr th:only-of-type {\n",
       "        vertical-align: middle;\n",
       "    }\n",
       "\n",
       "    .dataframe tbody tr th {\n",
       "        vertical-align: top;\n",
       "    }\n",
       "\n",
       "    .dataframe thead th {\n",
       "        text-align: right;\n",
       "    }\n",
       "</style>\n",
       "<table border=\"1\" class=\"dataframe\">\n",
       "  <thead>\n",
       "    <tr style=\"text-align: right;\">\n",
       "      <th></th>\n",
       "      <th>Numero</th>\n",
       "      <th>Fecha</th>\n",
       "      <th>Importe</th>\n",
       "      <th>DNI_ETM</th>\n",
       "      <th>DNI_EP</th>\n",
       "      <th>DNI_R</th>\n",
       "      <th>Hora_tm</th>\n",
       "      <th>Hora_pre</th>\n",
       "      <th>Hora_rep</th>\n",
       "      <th>count(PRODUCTO.Codigo)</th>\n",
       "    </tr>\n",
       "  </thead>\n",
       "  <tbody>\n",
       "    <tr>\n",
       "      <th>0</th>\n",
       "      <td>0001</td>\n",
       "      <td>2020-10-15</td>\n",
       "      <td>10.0</td>\n",
       "      <td>11111111Q</td>\n",
       "      <td>04444444T</td>\n",
       "      <td>55675675J</td>\n",
       "      <td>0 days 12:00:00</td>\n",
       "      <td>0 days 12:15:00</td>\n",
       "      <td>0 days 12:45:00</td>\n",
       "      <td>2</td>\n",
       "    </tr>\n",
       "    <tr>\n",
       "      <th>1</th>\n",
       "      <td>0002</td>\n",
       "      <td>2020-11-11</td>\n",
       "      <td>15.0</td>\n",
       "      <td>22222222S</td>\n",
       "      <td>77777777M</td>\n",
       "      <td>99009900J</td>\n",
       "      <td>0 days 13:30:00</td>\n",
       "      <td>0 days 13:45:00</td>\n",
       "      <td>0 days 14:05:00</td>\n",
       "      <td>3</td>\n",
       "    </tr>\n",
       "    <tr>\n",
       "      <th>2</th>\n",
       "      <td>0003</td>\n",
       "      <td>2020-10-15</td>\n",
       "      <td>13.0</td>\n",
       "      <td>77777777M</td>\n",
       "      <td>22222222S</td>\n",
       "      <td>99009900J</td>\n",
       "      <td>0 days 15:00:00</td>\n",
       "      <td>0 days 15:15:00</td>\n",
       "      <td>0 days 15:45:00</td>\n",
       "      <td>2</td>\n",
       "    </tr>\n",
       "    <tr>\n",
       "      <th>3</th>\n",
       "      <td>0004</td>\n",
       "      <td>2020-11-10</td>\n",
       "      <td>13.0</td>\n",
       "      <td>99999999X</td>\n",
       "      <td>77777777M</td>\n",
       "      <td>04477744T</td>\n",
       "      <td>0 days 14:02:00</td>\n",
       "      <td>0 days 14:30:00</td>\n",
       "      <td>0 days 14:45:00</td>\n",
       "      <td>2</td>\n",
       "    </tr>\n",
       "    <tr>\n",
       "      <th>4</th>\n",
       "      <td>0005</td>\n",
       "      <td>2020-09-05</td>\n",
       "      <td>14.0</td>\n",
       "      <td>14567555L</td>\n",
       "      <td>03232323P</td>\n",
       "      <td>14188151T</td>\n",
       "      <td>0 days 19:02:00</td>\n",
       "      <td>0 days 19:30:00</td>\n",
       "      <td>0 days 19:45:00</td>\n",
       "      <td>3</td>\n",
       "    </tr>\n",
       "    <tr>\n",
       "      <th>5</th>\n",
       "      <td>0006</td>\n",
       "      <td>2020-11-15</td>\n",
       "      <td>23.0</td>\n",
       "      <td>14567555L</td>\n",
       "      <td>88888888O</td>\n",
       "      <td>04477744T</td>\n",
       "      <td>0 days 21:02:00</td>\n",
       "      <td>0 days 21:35:00</td>\n",
       "      <td>0 days 21:45:00</td>\n",
       "      <td>4</td>\n",
       "    </tr>\n",
       "    <tr>\n",
       "      <th>6</th>\n",
       "      <td>0007</td>\n",
       "      <td>2020-09-25</td>\n",
       "      <td>17.0</td>\n",
       "      <td>03232323P</td>\n",
       "      <td>88888888O</td>\n",
       "      <td>14188151T</td>\n",
       "      <td>0 days 23:05:00</td>\n",
       "      <td>0 days 23:12:00</td>\n",
       "      <td>0 days 23:35:00</td>\n",
       "      <td>3</td>\n",
       "    </tr>\n",
       "    <tr>\n",
       "      <th>7</th>\n",
       "      <td>0008</td>\n",
       "      <td>2020-09-15</td>\n",
       "      <td>14.0</td>\n",
       "      <td>99999999X</td>\n",
       "      <td>33333333M</td>\n",
       "      <td>11245621Q</td>\n",
       "      <td>0 days 18:02:00</td>\n",
       "      <td>0 days 18:30:00</td>\n",
       "      <td>0 days 18:45:00</td>\n",
       "      <td>2</td>\n",
       "    </tr>\n",
       "    <tr>\n",
       "      <th>8</th>\n",
       "      <td>0009</td>\n",
       "      <td>2020-11-23</td>\n",
       "      <td>25.0</td>\n",
       "      <td>04444444T</td>\n",
       "      <td>55555555J</td>\n",
       "      <td>99009900J</td>\n",
       "      <td>0 days 11:02:00</td>\n",
       "      <td>0 days 11:30:00</td>\n",
       "      <td>0 days 11:55:00</td>\n",
       "      <td>2</td>\n",
       "    </tr>\n",
       "    <tr>\n",
       "      <th>9</th>\n",
       "      <td>0010</td>\n",
       "      <td>2020-11-05</td>\n",
       "      <td>45.0</td>\n",
       "      <td>88888888O</td>\n",
       "      <td>14567555L</td>\n",
       "      <td>None</td>\n",
       "      <td>0 days 22:05:00</td>\n",
       "      <td>0 days 22:12:00</td>\n",
       "      <td>NaT</td>\n",
       "      <td>4</td>\n",
       "    </tr>\n",
       "    <tr>\n",
       "      <th>10</th>\n",
       "      <td>0011</td>\n",
       "      <td>2020-11-05</td>\n",
       "      <td>45.0</td>\n",
       "      <td>88888888O</td>\n",
       "      <td>14567555L</td>\n",
       "      <td>None</td>\n",
       "      <td>0 days 22:05:00</td>\n",
       "      <td>NaT</td>\n",
       "      <td>NaT</td>\n",
       "      <td>1</td>\n",
       "    </tr>\n",
       "  </tbody>\n",
       "</table>\n",
       "</div>"
      ],
      "text/plain": [
       "   Numero       Fecha  Importe    DNI_ETM     DNI_EP      DNI_R  \\\n",
       "0    0001  2020-10-15     10.0  11111111Q  04444444T  55675675J   \n",
       "1    0002  2020-11-11     15.0  22222222S  77777777M  99009900J   \n",
       "2    0003  2020-10-15     13.0  77777777M  22222222S  99009900J   \n",
       "3    0004  2020-11-10     13.0  99999999X  77777777M  04477744T   \n",
       "4    0005  2020-09-05     14.0  14567555L  03232323P  14188151T   \n",
       "5    0006  2020-11-15     23.0  14567555L  88888888O  04477744T   \n",
       "6    0007  2020-09-25     17.0  03232323P  88888888O  14188151T   \n",
       "7    0008  2020-09-15     14.0  99999999X  33333333M  11245621Q   \n",
       "8    0009  2020-11-23     25.0  04444444T  55555555J  99009900J   \n",
       "9    0010  2020-11-05     45.0  88888888O  14567555L       None   \n",
       "10   0011  2020-11-05     45.0  88888888O  14567555L       None   \n",
       "\n",
       "           Hora_tm        Hora_pre        Hora_rep  count(PRODUCTO.Codigo)  \n",
       "0  0 days 12:00:00 0 days 12:15:00 0 days 12:45:00                       2  \n",
       "1  0 days 13:30:00 0 days 13:45:00 0 days 14:05:00                       3  \n",
       "2  0 days 15:00:00 0 days 15:15:00 0 days 15:45:00                       2  \n",
       "3  0 days 14:02:00 0 days 14:30:00 0 days 14:45:00                       2  \n",
       "4  0 days 19:02:00 0 days 19:30:00 0 days 19:45:00                       3  \n",
       "5  0 days 21:02:00 0 days 21:35:00 0 days 21:45:00                       4  \n",
       "6  0 days 23:05:00 0 days 23:12:00 0 days 23:35:00                       3  \n",
       "7  0 days 18:02:00 0 days 18:30:00 0 days 18:45:00                       2  \n",
       "8  0 days 11:02:00 0 days 11:30:00 0 days 11:55:00                       2  \n",
       "9  0 days 22:05:00 0 days 22:12:00             NaT                       4  \n",
       "10 0 days 22:05:00             NaT             NaT                       1  "
      ]
     },
     "execution_count": 48,
     "metadata": {},
     "output_type": "execute_result"
    }
   ],
   "source": [
    "\n",
    "df15 = pd.read_sql(query15, connection)\n",
    "df15\n"
   ]
  },
  {
   "cell_type": "code",
   "execution_count": 49,
   "metadata": {},
   "outputs": [],
   "source": [
    "df15.to_csv('productos_por_pedido.csv', index=False)"
   ]
  },
  {
   "cell_type": "markdown",
   "metadata": {},
   "source": [
    "### 16.Obtener el nombre del repartidor y el importe de los pedidos que ha entregado."
   ]
  },
  {
   "cell_type": "code",
   "execution_count": 50,
   "metadata": {},
   "outputs": [
    {
     "data": {
      "text/plain": [
       "[('Laura Jiménez Jiménez', 36.0),\n",
       " ('Juan Pardo Rubio', 14.0),\n",
       " ('Carlos Sánchez Ruíz', 31.0),\n",
       " ('Carmen Capel Pío', None),\n",
       " ('Juan Sánchez López', 10.0),\n",
       " ('Alejandro Pardo López', 53.0)]"
      ]
     },
     "execution_count": 50,
     "metadata": {},
     "output_type": "execute_result"
    }
   ],
   "source": [
    "connection = mysql.connector.connect(host=' ', database=  , user=   , password=   , connection_timeout=180)\n",
    "cursor=connection.cursor()\n",
    "query16=\"\"\"select REPARTIDOR.nombre, sum(PEDIDO.importe) AS total_importe from REPARTIDOR\n",
    "\tleft join PEDIDO ON PEDIDO.DNI_R=REPARTIDOR.DNI\n",
    "    group by REPARTIDOR.Nombre;\"\"\"\n",
    "cursor.execute(query16)\n",
    "\n",
    "cursor.fetchall()\n"
   ]
  },
  {
   "cell_type": "code",
   "execution_count": 119,
   "metadata": {},
   "outputs": [
    {
     "name": "stderr",
     "output_type": "stream",
     "text": [
      "C:\\Users\\Win10\\AppData\\Local\\Temp\\ipykernel_3652\\476473060.py:1: UserWarning: pandas only supports SQLAlchemy connectable (engine/connection) or database string URI or sqlite3 DBAPI2 connection. Other DBAPI2 objects are not tested. Please consider using SQLAlchemy.\n",
      "  df16= pd.read_sql(query16, connection)\n"
     ]
    },
    {
     "data": {
      "text/html": [
       "<style type=\"text/css\">\n",
       "#T_50fd4 th {\n",
       "  text-align: left;\n",
       "}\n",
       "#T_50fd4_row0_col0, #T_50fd4_row0_col1, #T_50fd4_row1_col0, #T_50fd4_row1_col1, #T_50fd4_row2_col0, #T_50fd4_row2_col1, #T_50fd4_row3_col0, #T_50fd4_row3_col1, #T_50fd4_row4_col0, #T_50fd4_row4_col1, #T_50fd4_row5_col0, #T_50fd4_row5_col1 {\n",
       "  text-align: left;\n",
       "}\n",
       "</style>\n",
       "<table id=\"T_50fd4\">\n",
       "  <thead>\n",
       "    <tr>\n",
       "      <th class=\"blank level0\" >&nbsp;</th>\n",
       "      <th id=\"T_50fd4_level0_col0\" class=\"col_heading level0 col0\" >nombre</th>\n",
       "      <th id=\"T_50fd4_level0_col1\" class=\"col_heading level0 col1\" >total_importe</th>\n",
       "    </tr>\n",
       "  </thead>\n",
       "  <tbody>\n",
       "    <tr>\n",
       "      <th id=\"T_50fd4_level0_row0\" class=\"row_heading level0 row0\" >0</th>\n",
       "      <td id=\"T_50fd4_row0_col0\" class=\"data row0 col0\" >Laura Jiménez Jiménez</td>\n",
       "      <td id=\"T_50fd4_row0_col1\" class=\"data row0 col1\" >36.000000</td>\n",
       "    </tr>\n",
       "    <tr>\n",
       "      <th id=\"T_50fd4_level0_row1\" class=\"row_heading level0 row1\" >1</th>\n",
       "      <td id=\"T_50fd4_row1_col0\" class=\"data row1 col0\" >Juan Pardo Rubio</td>\n",
       "      <td id=\"T_50fd4_row1_col1\" class=\"data row1 col1\" >14.000000</td>\n",
       "    </tr>\n",
       "    <tr>\n",
       "      <th id=\"T_50fd4_level0_row2\" class=\"row_heading level0 row2\" >2</th>\n",
       "      <td id=\"T_50fd4_row2_col0\" class=\"data row2 col0\" >Carlos Sánchez Ruíz</td>\n",
       "      <td id=\"T_50fd4_row2_col1\" class=\"data row2 col1\" >31.000000</td>\n",
       "    </tr>\n",
       "    <tr>\n",
       "      <th id=\"T_50fd4_level0_row3\" class=\"row_heading level0 row3\" >3</th>\n",
       "      <td id=\"T_50fd4_row3_col0\" class=\"data row3 col0\" >Carmen Capel Pío</td>\n",
       "      <td id=\"T_50fd4_row3_col1\" class=\"data row3 col1\" >nan</td>\n",
       "    </tr>\n",
       "    <tr>\n",
       "      <th id=\"T_50fd4_level0_row4\" class=\"row_heading level0 row4\" >4</th>\n",
       "      <td id=\"T_50fd4_row4_col0\" class=\"data row4 col0\" >Juan Sánchez López</td>\n",
       "      <td id=\"T_50fd4_row4_col1\" class=\"data row4 col1\" >10.000000</td>\n",
       "    </tr>\n",
       "    <tr>\n",
       "      <th id=\"T_50fd4_level0_row5\" class=\"row_heading level0 row5\" >5</th>\n",
       "      <td id=\"T_50fd4_row5_col0\" class=\"data row5 col0\" >Alejandro Pardo López</td>\n",
       "      <td id=\"T_50fd4_row5_col1\" class=\"data row5 col1\" >53.000000</td>\n",
       "    </tr>\n",
       "  </tbody>\n",
       "</table>\n"
      ],
      "text/plain": [
       "<pandas.io.formats.style.Styler at 0x1ed699fb690>"
      ]
     },
     "execution_count": 119,
     "metadata": {},
     "output_type": "execute_result"
    }
   ],
   "source": [
    "\n",
    "df16= pd.read_sql(query16, connection)\n",
    "left_align(df16)\n"
   ]
  },
  {
   "cell_type": "code",
   "execution_count": 52,
   "metadata": {},
   "outputs": [],
   "source": [
    "\n",
    "df16.to_csv('repartidor_importe.csv', index=False)"
   ]
  },
  {
   "cell_type": "markdown",
   "metadata": {},
   "source": [
    "### 17. Listar todos los pedidos junto con la hora en que fueron tomados y preparados."
   ]
  },
  {
   "cell_type": "code",
   "execution_count": 53,
   "metadata": {},
   "outputs": [
    {
     "data": {
      "text/plain": [
       "[('0001',\n",
       "  datetime.timedelta(seconds=43200),\n",
       "  datetime.timedelta(seconds=44100)),\n",
       " ('0002',\n",
       "  datetime.timedelta(seconds=48600),\n",
       "  datetime.timedelta(seconds=49500)),\n",
       " ('0003',\n",
       "  datetime.timedelta(seconds=54000),\n",
       "  datetime.timedelta(seconds=54900)),\n",
       " ('0004',\n",
       "  datetime.timedelta(seconds=50520),\n",
       "  datetime.timedelta(seconds=52200)),\n",
       " ('0005',\n",
       "  datetime.timedelta(seconds=68520),\n",
       "  datetime.timedelta(seconds=70200)),\n",
       " ('0006',\n",
       "  datetime.timedelta(seconds=75720),\n",
       "  datetime.timedelta(seconds=77700)),\n",
       " ('0007',\n",
       "  datetime.timedelta(seconds=83100),\n",
       "  datetime.timedelta(seconds=83520)),\n",
       " ('0008',\n",
       "  datetime.timedelta(seconds=64920),\n",
       "  datetime.timedelta(seconds=66600)),\n",
       " ('0009',\n",
       "  datetime.timedelta(seconds=39720),\n",
       "  datetime.timedelta(seconds=41400)),\n",
       " ('0010',\n",
       "  datetime.timedelta(seconds=79500),\n",
       "  datetime.timedelta(seconds=79920)),\n",
       " ('0011', datetime.timedelta(seconds=79500), None)]"
      ]
     },
     "execution_count": 53,
     "metadata": {},
     "output_type": "execute_result"
    }
   ],
   "source": [
    "connection = mysql.connector.connect(host=' ', database=  , user=   , password=   , connection_timeout=180)\n",
    "cursor=connection.cursor()\n",
    "query17=\"\"\"select PEDIDO.Numero, PEDIDO.Hora_tm, PEDIDO.Hora_pre from PEDIDO;\"\"\"\n",
    "cursor.execute(query17)\n",
    "cursor.fetchall()"
   ]
  },
  {
   "cell_type": "code",
   "execution_count": 54,
   "metadata": {},
   "outputs": [
    {
     "name": "stderr",
     "output_type": "stream",
     "text": [
      "C:\\Users\\Win10\\AppData\\Local\\Temp\\ipykernel_3652\\2083312550.py:1: UserWarning: pandas only supports SQLAlchemy connectable (engine/connection) or database string URI or sqlite3 DBAPI2 connection. Other DBAPI2 objects are not tested. Please consider using SQLAlchemy.\n",
      "  df17 = pd.read_sql(query17, connection)\n"
     ]
    },
    {
     "data": {
      "text/html": [
       "<div>\n",
       "<style scoped>\n",
       "    .dataframe tbody tr th:only-of-type {\n",
       "        vertical-align: middle;\n",
       "    }\n",
       "\n",
       "    .dataframe tbody tr th {\n",
       "        vertical-align: top;\n",
       "    }\n",
       "\n",
       "    .dataframe thead th {\n",
       "        text-align: right;\n",
       "    }\n",
       "</style>\n",
       "<table border=\"1\" class=\"dataframe\">\n",
       "  <thead>\n",
       "    <tr style=\"text-align: right;\">\n",
       "      <th></th>\n",
       "      <th>Numero</th>\n",
       "      <th>Hora_tm</th>\n",
       "      <th>Hora_pre</th>\n",
       "    </tr>\n",
       "  </thead>\n",
       "  <tbody>\n",
       "    <tr>\n",
       "      <th>0</th>\n",
       "      <td>0001</td>\n",
       "      <td>0 days 12:00:00</td>\n",
       "      <td>0 days 12:15:00</td>\n",
       "    </tr>\n",
       "    <tr>\n",
       "      <th>1</th>\n",
       "      <td>0002</td>\n",
       "      <td>0 days 13:30:00</td>\n",
       "      <td>0 days 13:45:00</td>\n",
       "    </tr>\n",
       "    <tr>\n",
       "      <th>2</th>\n",
       "      <td>0003</td>\n",
       "      <td>0 days 15:00:00</td>\n",
       "      <td>0 days 15:15:00</td>\n",
       "    </tr>\n",
       "    <tr>\n",
       "      <th>3</th>\n",
       "      <td>0004</td>\n",
       "      <td>0 days 14:02:00</td>\n",
       "      <td>0 days 14:30:00</td>\n",
       "    </tr>\n",
       "    <tr>\n",
       "      <th>4</th>\n",
       "      <td>0005</td>\n",
       "      <td>0 days 19:02:00</td>\n",
       "      <td>0 days 19:30:00</td>\n",
       "    </tr>\n",
       "    <tr>\n",
       "      <th>5</th>\n",
       "      <td>0006</td>\n",
       "      <td>0 days 21:02:00</td>\n",
       "      <td>0 days 21:35:00</td>\n",
       "    </tr>\n",
       "    <tr>\n",
       "      <th>6</th>\n",
       "      <td>0007</td>\n",
       "      <td>0 days 23:05:00</td>\n",
       "      <td>0 days 23:12:00</td>\n",
       "    </tr>\n",
       "    <tr>\n",
       "      <th>7</th>\n",
       "      <td>0008</td>\n",
       "      <td>0 days 18:02:00</td>\n",
       "      <td>0 days 18:30:00</td>\n",
       "    </tr>\n",
       "    <tr>\n",
       "      <th>8</th>\n",
       "      <td>0009</td>\n",
       "      <td>0 days 11:02:00</td>\n",
       "      <td>0 days 11:30:00</td>\n",
       "    </tr>\n",
       "    <tr>\n",
       "      <th>9</th>\n",
       "      <td>0010</td>\n",
       "      <td>0 days 22:05:00</td>\n",
       "      <td>0 days 22:12:00</td>\n",
       "    </tr>\n",
       "    <tr>\n",
       "      <th>10</th>\n",
       "      <td>0011</td>\n",
       "      <td>0 days 22:05:00</td>\n",
       "      <td>NaT</td>\n",
       "    </tr>\n",
       "  </tbody>\n",
       "</table>\n",
       "</div>"
      ],
      "text/plain": [
       "   Numero         Hora_tm        Hora_pre\n",
       "0    0001 0 days 12:00:00 0 days 12:15:00\n",
       "1    0002 0 days 13:30:00 0 days 13:45:00\n",
       "2    0003 0 days 15:00:00 0 days 15:15:00\n",
       "3    0004 0 days 14:02:00 0 days 14:30:00\n",
       "4    0005 0 days 19:02:00 0 days 19:30:00\n",
       "5    0006 0 days 21:02:00 0 days 21:35:00\n",
       "6    0007 0 days 23:05:00 0 days 23:12:00\n",
       "7    0008 0 days 18:02:00 0 days 18:30:00\n",
       "8    0009 0 days 11:02:00 0 days 11:30:00\n",
       "9    0010 0 days 22:05:00 0 days 22:12:00\n",
       "10   0011 0 days 22:05:00             NaT"
      ]
     },
     "execution_count": 54,
     "metadata": {},
     "output_type": "execute_result"
    }
   ],
   "source": [
    "df17 = pd.read_sql(query17, connection)\n",
    "df17"
   ]
  },
  {
   "cell_type": "code",
   "execution_count": 55,
   "metadata": {},
   "outputs": [],
   "source": [
    "df17.to_csv('pedido_por_hora.csv', index=False)"
   ]
  },
  {
   "cell_type": "markdown",
   "metadata": {},
   "source": [
    "### 18.Mostrar el total de incentivos pagados a los repartidores."
   ]
  },
  {
   "cell_type": "code",
   "execution_count": 120,
   "metadata": {},
   "outputs": [
    {
     "data": {
      "text/plain": [
       "2000.0"
      ]
     },
     "execution_count": 120,
     "metadata": {},
     "output_type": "execute_result"
    }
   ],
   "source": [
    "connection = mysql.connector.connect(host=' ', database=  , user=   , password=   , connection_timeout=180)\n",
    "cursor=connection.cursor()\n",
    "query18=\"\"\"select sum(REPARTIDOR.Incentivo) as total_incentivos from REPARTIDOR;;\"\"\"\n",
    "cursor.execute(query18)\n",
    "cursor.fetchall()[0][0]\n"
   ]
  },
  {
   "cell_type": "code",
   "execution_count": 121,
   "metadata": {},
   "outputs": [
    {
     "name": "stderr",
     "output_type": "stream",
     "text": [
      "C:\\Users\\Win10\\AppData\\Local\\Temp\\ipykernel_3652\\2319126293.py:1: UserWarning: pandas only supports SQLAlchemy connectable (engine/connection) or database string URI or sqlite3 DBAPI2 connection. Other DBAPI2 objects are not tested. Please consider using SQLAlchemy.\n",
      "  df18 = pd.read_sql(query18, connection)\n"
     ]
    },
    {
     "data": {
      "text/html": [
       "<div>\n",
       "<style scoped>\n",
       "    .dataframe tbody tr th:only-of-type {\n",
       "        vertical-align: middle;\n",
       "    }\n",
       "\n",
       "    .dataframe tbody tr th {\n",
       "        vertical-align: top;\n",
       "    }\n",
       "\n",
       "    .dataframe thead th {\n",
       "        text-align: right;\n",
       "    }\n",
       "</style>\n",
       "<table border=\"1\" class=\"dataframe\">\n",
       "  <thead>\n",
       "    <tr style=\"text-align: right;\">\n",
       "      <th></th>\n",
       "      <th>total_incentivos</th>\n",
       "    </tr>\n",
       "  </thead>\n",
       "  <tbody>\n",
       "    <tr>\n",
       "      <th>0</th>\n",
       "      <td>2000.0</td>\n",
       "    </tr>\n",
       "  </tbody>\n",
       "</table>\n",
       "</div>"
      ],
      "text/plain": [
       "   total_incentivos\n",
       "0            2000.0"
      ]
     },
     "execution_count": 121,
     "metadata": {},
     "output_type": "execute_result"
    }
   ],
   "source": [
    "df18 = pd.read_sql(query18, connection)\n",
    "df18\n"
   ]
  },
  {
   "cell_type": "code",
   "execution_count": 58,
   "metadata": {},
   "outputs": [],
   "source": [
    "df18.to_csv('incentivos_total.csv', index=False)"
   ]
  },
  {
   "cell_type": "markdown",
   "metadata": {},
   "source": [
    "### 19.Encontrar los empleados que han tomado más de 5 pedidos."
   ]
  },
  {
   "cell_type": "code",
   "execution_count": 59,
   "metadata": {},
   "outputs": [
    {
     "data": {
      "text/plain": [
       "[]"
      ]
     },
     "execution_count": 59,
     "metadata": {},
     "output_type": "execute_result"
    }
   ],
   "source": [
    "connection = mysql.connector.connect(host=' ', database=  , user=   , password=   , connection_timeout=180)\n",
    "cursor=connection.cursor()\n",
    "query19=\"\"\"select EMPLEADO.*, count(PEDIDO.Numero) as total_pedidos from EMPLEADO\n",
    "left join PEDIDO on PEDIDO.DNI_ETM = EMPLEADO.dni\n",
    "group by EMPLEADO.dni\n",
    "having count(PEDIDO.Numero) > 5;\"\"\"\n",
    "cursor.execute(query19)\n",
    "cursor.fetchall()\n"
   ]
  },
  {
   "cell_type": "code",
   "execution_count": 60,
   "metadata": {},
   "outputs": [
    {
     "name": "stderr",
     "output_type": "stream",
     "text": [
      "C:\\Users\\Win10\\AppData\\Local\\Temp\\ipykernel_3652\\2734780120.py:1: UserWarning: pandas only supports SQLAlchemy connectable (engine/connection) or database string URI or sqlite3 DBAPI2 connection. Other DBAPI2 objects are not tested. Please consider using SQLAlchemy.\n",
      "  df19 = pd.read_sql(query19, connection)\n"
     ]
    },
    {
     "data": {
      "text/html": [
       "<div>\n",
       "<style scoped>\n",
       "    .dataframe tbody tr th:only-of-type {\n",
       "        vertical-align: middle;\n",
       "    }\n",
       "\n",
       "    .dataframe tbody tr th {\n",
       "        vertical-align: top;\n",
       "    }\n",
       "\n",
       "    .dataframe thead th {\n",
       "        text-align: right;\n",
       "    }\n",
       "</style>\n",
       "<table border=\"1\" class=\"dataframe\">\n",
       "  <thead>\n",
       "    <tr style=\"text-align: right;\">\n",
       "      <th></th>\n",
       "      <th>DNI</th>\n",
       "      <th>Nombre</th>\n",
       "      <th>Nss</th>\n",
       "      <th>Turno</th>\n",
       "      <th>Salario</th>\n",
       "      <th>total_pedidos</th>\n",
       "    </tr>\n",
       "  </thead>\n",
       "  <tbody>\n",
       "  </tbody>\n",
       "</table>\n",
       "</div>"
      ],
      "text/plain": [
       "Empty DataFrame\n",
       "Columns: [DNI, Nombre, Nss, Turno, Salario, total_pedidos]\n",
       "Index: []"
      ]
     },
     "execution_count": 60,
     "metadata": {},
     "output_type": "execute_result"
    }
   ],
   "source": [
    "df19 = pd.read_sql(query19, connection)\n",
    "df19\n"
   ]
  },
  {
   "cell_type": "code",
   "execution_count": 61,
   "metadata": {},
   "outputs": [],
   "source": [
    "df19.to_csv('mas_5_pedidos.csv', index=False)"
   ]
  },
  {
   "cell_type": "markdown",
   "metadata": {},
   "source": [
    "### 20. Listar todos los pedidos junto con el nombre del empleado que los preparó."
   ]
  },
  {
   "cell_type": "code",
   "execution_count": 62,
   "metadata": {},
   "outputs": [
    {
     "data": {
      "text/plain": [
       "[('0005', 'María Luisa Galdón Ter'),\n",
       " ('0001', 'Úrsula Delta Camacho'),\n",
       " ('0010', 'Piedad Colmenero Zapillo'),\n",
       " ('0011', 'Piedad Colmenero Zapillo'),\n",
       " ('0003', 'María Sánchez Cid'),\n",
       " ('0008', 'Martín Guerrero López'),\n",
       " ('0009', 'Carmen Hernández Pío'),\n",
       " ('0002', 'Pedro Jiménez Ruiz'),\n",
       " ('0004', 'Pedro Jiménez Ruiz'),\n",
       " ('0006', 'Soledad Campillo Molina'),\n",
       " ('0007', 'Soledad Campillo Molina')]"
      ]
     },
     "execution_count": 62,
     "metadata": {},
     "output_type": "execute_result"
    }
   ],
   "source": [
    "connection = mysql.connector.connect(host=' ', database=  , user=   , password=   , connection_timeout=180)\n",
    "cursor=connection.cursor()\n",
    "query20=\"\"\"select PEDIDO.numero, EMPLEADO.nombre from PEDIDO\n",
    "LEFT JOIN EMPLEADO ON PEDIDO.dni_EP = EMPLEADO.dni;\"\"\"\n",
    "cursor.execute(query20)\n",
    "cursor.fetchall()"
   ]
  },
  {
   "cell_type": "code",
   "execution_count": 63,
   "metadata": {},
   "outputs": [
    {
     "name": "stderr",
     "output_type": "stream",
     "text": [
      "C:\\Users\\Win10\\AppData\\Local\\Temp\\ipykernel_3652\\3065400573.py:1: UserWarning: pandas only supports SQLAlchemy connectable (engine/connection) or database string URI or sqlite3 DBAPI2 connection. Other DBAPI2 objects are not tested. Please consider using SQLAlchemy.\n",
      "  df20 = pd.read_sql(query20, connection)\n"
     ]
    },
    {
     "data": {
      "text/html": [
       "<style type=\"text/css\">\n",
       "#T_dc097 th {\n",
       "  text-align: left;\n",
       "}\n",
       "#T_dc097_row0_col0, #T_dc097_row0_col1, #T_dc097_row1_col0, #T_dc097_row1_col1, #T_dc097_row2_col0, #T_dc097_row2_col1, #T_dc097_row3_col0, #T_dc097_row3_col1, #T_dc097_row4_col0, #T_dc097_row4_col1, #T_dc097_row5_col0, #T_dc097_row5_col1, #T_dc097_row6_col0, #T_dc097_row6_col1, #T_dc097_row7_col0, #T_dc097_row7_col1, #T_dc097_row8_col0, #T_dc097_row8_col1, #T_dc097_row9_col0, #T_dc097_row9_col1, #T_dc097_row10_col0, #T_dc097_row10_col1 {\n",
       "  text-align: left;\n",
       "}\n",
       "</style>\n",
       "<table id=\"T_dc097\">\n",
       "  <thead>\n",
       "    <tr>\n",
       "      <th class=\"blank level0\" >&nbsp;</th>\n",
       "      <th id=\"T_dc097_level0_col0\" class=\"col_heading level0 col0\" >numero</th>\n",
       "      <th id=\"T_dc097_level0_col1\" class=\"col_heading level0 col1\" >nombre</th>\n",
       "    </tr>\n",
       "  </thead>\n",
       "  <tbody>\n",
       "    <tr>\n",
       "      <th id=\"T_dc097_level0_row0\" class=\"row_heading level0 row0\" >0</th>\n",
       "      <td id=\"T_dc097_row0_col0\" class=\"data row0 col0\" >0005</td>\n",
       "      <td id=\"T_dc097_row0_col1\" class=\"data row0 col1\" >María Luisa Galdón Ter</td>\n",
       "    </tr>\n",
       "    <tr>\n",
       "      <th id=\"T_dc097_level0_row1\" class=\"row_heading level0 row1\" >1</th>\n",
       "      <td id=\"T_dc097_row1_col0\" class=\"data row1 col0\" >0001</td>\n",
       "      <td id=\"T_dc097_row1_col1\" class=\"data row1 col1\" >Úrsula Delta Camacho</td>\n",
       "    </tr>\n",
       "    <tr>\n",
       "      <th id=\"T_dc097_level0_row2\" class=\"row_heading level0 row2\" >2</th>\n",
       "      <td id=\"T_dc097_row2_col0\" class=\"data row2 col0\" >0010</td>\n",
       "      <td id=\"T_dc097_row2_col1\" class=\"data row2 col1\" >Piedad Colmenero Zapillo</td>\n",
       "    </tr>\n",
       "    <tr>\n",
       "      <th id=\"T_dc097_level0_row3\" class=\"row_heading level0 row3\" >3</th>\n",
       "      <td id=\"T_dc097_row3_col0\" class=\"data row3 col0\" >0011</td>\n",
       "      <td id=\"T_dc097_row3_col1\" class=\"data row3 col1\" >Piedad Colmenero Zapillo</td>\n",
       "    </tr>\n",
       "    <tr>\n",
       "      <th id=\"T_dc097_level0_row4\" class=\"row_heading level0 row4\" >4</th>\n",
       "      <td id=\"T_dc097_row4_col0\" class=\"data row4 col0\" >0003</td>\n",
       "      <td id=\"T_dc097_row4_col1\" class=\"data row4 col1\" >María Sánchez Cid</td>\n",
       "    </tr>\n",
       "    <tr>\n",
       "      <th id=\"T_dc097_level0_row5\" class=\"row_heading level0 row5\" >5</th>\n",
       "      <td id=\"T_dc097_row5_col0\" class=\"data row5 col0\" >0008</td>\n",
       "      <td id=\"T_dc097_row5_col1\" class=\"data row5 col1\" >Martín Guerrero López</td>\n",
       "    </tr>\n",
       "    <tr>\n",
       "      <th id=\"T_dc097_level0_row6\" class=\"row_heading level0 row6\" >6</th>\n",
       "      <td id=\"T_dc097_row6_col0\" class=\"data row6 col0\" >0009</td>\n",
       "      <td id=\"T_dc097_row6_col1\" class=\"data row6 col1\" >Carmen Hernández Pío</td>\n",
       "    </tr>\n",
       "    <tr>\n",
       "      <th id=\"T_dc097_level0_row7\" class=\"row_heading level0 row7\" >7</th>\n",
       "      <td id=\"T_dc097_row7_col0\" class=\"data row7 col0\" >0002</td>\n",
       "      <td id=\"T_dc097_row7_col1\" class=\"data row7 col1\" >Pedro Jiménez Ruiz</td>\n",
       "    </tr>\n",
       "    <tr>\n",
       "      <th id=\"T_dc097_level0_row8\" class=\"row_heading level0 row8\" >8</th>\n",
       "      <td id=\"T_dc097_row8_col0\" class=\"data row8 col0\" >0004</td>\n",
       "      <td id=\"T_dc097_row8_col1\" class=\"data row8 col1\" >Pedro Jiménez Ruiz</td>\n",
       "    </tr>\n",
       "    <tr>\n",
       "      <th id=\"T_dc097_level0_row9\" class=\"row_heading level0 row9\" >9</th>\n",
       "      <td id=\"T_dc097_row9_col0\" class=\"data row9 col0\" >0006</td>\n",
       "      <td id=\"T_dc097_row9_col1\" class=\"data row9 col1\" >Soledad Campillo Molina</td>\n",
       "    </tr>\n",
       "    <tr>\n",
       "      <th id=\"T_dc097_level0_row10\" class=\"row_heading level0 row10\" >10</th>\n",
       "      <td id=\"T_dc097_row10_col0\" class=\"data row10 col0\" >0007</td>\n",
       "      <td id=\"T_dc097_row10_col1\" class=\"data row10 col1\" >Soledad Campillo Molina</td>\n",
       "    </tr>\n",
       "  </tbody>\n",
       "</table>\n"
      ],
      "text/plain": [
       "<pandas.io.formats.style.Styler at 0x1ed661f7c50>"
      ]
     },
     "execution_count": 63,
     "metadata": {},
     "output_type": "execute_result"
    }
   ],
   "source": [
    "df20 = pd.read_sql(query20, connection)\n",
    "left_align(df20)\n"
   ]
  },
  {
   "cell_type": "code",
   "execution_count": 64,
   "metadata": {},
   "outputs": [],
   "source": [
    "df20.to_csv('empleado_preparado.csv', index=False)"
   ]
  },
  {
   "cell_type": "markdown",
   "metadata": {},
   "source": [
    "### 21.Mostrar los productos cuyo precio es mayor que el precio promedio de todos los productos."
   ]
  },
  {
   "cell_type": "code",
   "execution_count": 65,
   "metadata": {},
   "outputs": [
    {
     "data": {
      "text/plain": [
       "[('Pollo',),\n",
       " ('Coca cola',),\n",
       " ('Nestea',),\n",
       " ('Menú de Pollo',),\n",
       " ('Menú de Hamburguesa con queso',),\n",
       " ('Menú de Pollo con queso',),\n",
       " ('Menú de Hamburguesa',),\n",
       " ('Fanta',)]"
      ]
     },
     "execution_count": 65,
     "metadata": {},
     "output_type": "execute_result"
    }
   ],
   "source": [
    "connection = mysql.connector.connect(host=' ', database=  , user=   , password=   , connection_timeout=180)\n",
    "cursor=connection.cursor()\n",
    "query21=\"\"\"select nombre from PRODUCTO\n",
    "where precio > (select avg(precio) from PRODUCTO);\"\"\"\n",
    "cursor.execute(query21)\n",
    "cursor.fetchall()\n"
   ]
  },
  {
   "cell_type": "code",
   "execution_count": 66,
   "metadata": {},
   "outputs": [
    {
     "name": "stderr",
     "output_type": "stream",
     "text": [
      "C:\\Users\\Win10\\AppData\\Local\\Temp\\ipykernel_3652\\3105170350.py:1: UserWarning: pandas only supports SQLAlchemy connectable (engine/connection) or database string URI or sqlite3 DBAPI2 connection. Other DBAPI2 objects are not tested. Please consider using SQLAlchemy.\n",
      "  df21 = pd.read_sql(query21, connection)\n"
     ]
    },
    {
     "data": {
      "text/html": [
       "<style type=\"text/css\">\n",
       "#T_bbdf5 th {\n",
       "  text-align: left;\n",
       "}\n",
       "#T_bbdf5_row0_col0, #T_bbdf5_row1_col0, #T_bbdf5_row2_col0, #T_bbdf5_row3_col0, #T_bbdf5_row4_col0, #T_bbdf5_row5_col0, #T_bbdf5_row6_col0, #T_bbdf5_row7_col0 {\n",
       "  text-align: left;\n",
       "}\n",
       "</style>\n",
       "<table id=\"T_bbdf5\">\n",
       "  <thead>\n",
       "    <tr>\n",
       "      <th class=\"blank level0\" >&nbsp;</th>\n",
       "      <th id=\"T_bbdf5_level0_col0\" class=\"col_heading level0 col0\" >nombre</th>\n",
       "    </tr>\n",
       "  </thead>\n",
       "  <tbody>\n",
       "    <tr>\n",
       "      <th id=\"T_bbdf5_level0_row0\" class=\"row_heading level0 row0\" >0</th>\n",
       "      <td id=\"T_bbdf5_row0_col0\" class=\"data row0 col0\" >Pollo</td>\n",
       "    </tr>\n",
       "    <tr>\n",
       "      <th id=\"T_bbdf5_level0_row1\" class=\"row_heading level0 row1\" >1</th>\n",
       "      <td id=\"T_bbdf5_row1_col0\" class=\"data row1 col0\" >Coca cola</td>\n",
       "    </tr>\n",
       "    <tr>\n",
       "      <th id=\"T_bbdf5_level0_row2\" class=\"row_heading level0 row2\" >2</th>\n",
       "      <td id=\"T_bbdf5_row2_col0\" class=\"data row2 col0\" >Nestea</td>\n",
       "    </tr>\n",
       "    <tr>\n",
       "      <th id=\"T_bbdf5_level0_row3\" class=\"row_heading level0 row3\" >3</th>\n",
       "      <td id=\"T_bbdf5_row3_col0\" class=\"data row3 col0\" >Menú de Pollo</td>\n",
       "    </tr>\n",
       "    <tr>\n",
       "      <th id=\"T_bbdf5_level0_row4\" class=\"row_heading level0 row4\" >4</th>\n",
       "      <td id=\"T_bbdf5_row4_col0\" class=\"data row4 col0\" >Menú de Hamburguesa con queso</td>\n",
       "    </tr>\n",
       "    <tr>\n",
       "      <th id=\"T_bbdf5_level0_row5\" class=\"row_heading level0 row5\" >5</th>\n",
       "      <td id=\"T_bbdf5_row5_col0\" class=\"data row5 col0\" >Menú de Pollo con queso</td>\n",
       "    </tr>\n",
       "    <tr>\n",
       "      <th id=\"T_bbdf5_level0_row6\" class=\"row_heading level0 row6\" >6</th>\n",
       "      <td id=\"T_bbdf5_row6_col0\" class=\"data row6 col0\" >Menú de Hamburguesa</td>\n",
       "    </tr>\n",
       "    <tr>\n",
       "      <th id=\"T_bbdf5_level0_row7\" class=\"row_heading level0 row7\" >7</th>\n",
       "      <td id=\"T_bbdf5_row7_col0\" class=\"data row7 col0\" >Fanta</td>\n",
       "    </tr>\n",
       "  </tbody>\n",
       "</table>\n"
      ],
      "text/plain": [
       "<pandas.io.formats.style.Styler at 0x1ed699718d0>"
      ]
     },
     "execution_count": 66,
     "metadata": {},
     "output_type": "execute_result"
    }
   ],
   "source": [
    "df21 = pd.read_sql(query21, connection)\n",
    "left_align(df21)\n"
   ]
  },
  {
   "cell_type": "code",
   "execution_count": 67,
   "metadata": {},
   "outputs": [],
   "source": [
    "df21.to_csv('precio_mayor_promedio.csv', index=False)"
   ]
  },
  {
   "cell_type": "markdown",
   "metadata": {},
   "source": [
    "### 22. Listar los empleados y repartidores con el mismo turno."
   ]
  },
  {
   "cell_type": "code",
   "execution_count": 68,
   "metadata": {},
   "outputs": [
    {
     "data": {
      "text/plain": [
       "[('03232323P', 'María Luisa Galdón Ter', 'noche', 'EMPLEADO'),\n",
       " ('14567555L', 'Piedad Colmenero Zapillo', 'noche', 'EMPLEADO'),\n",
       " ('88888888O', 'Soledad Campillo Molina', 'noche', 'EMPLEADO'),\n",
       " ('04477744T', 'Laura Jiménez Jiménez', 'noche', 'REPARTIDOR'),\n",
       " ('11245621Q', 'Juan Pardo Rubio', 'noche', 'REPARTIDOR')]"
      ]
     },
     "execution_count": 68,
     "metadata": {},
     "output_type": "execute_result"
    }
   ],
   "source": [
    "connection = mysql.connector.connect(host=' ', database=  , user=   , password=   , connection_timeout=180)\n",
    "cursor=connection.cursor()\n",
    "query22=\"\"\"select * from\n",
    "(select EMPLEADO.DNI, \n",
    "\t\tEMPLEADO.Nombre,\n",
    "\t\tEMPLEADO.Turno,\n",
    "        \"EMPLEADO\" as clase\n",
    "from EMPLEADO\n",
    "union \n",
    "select  REPARTIDOR.dni,\n",
    "        REPARTIDOR.Nombre,\n",
    "        REPARTIDOR.Turno,\n",
    "        \"REPARTIDOR\" as clase\n",
    "from REPARTIDOR) as total_empleados\n",
    "where turno = \"noche\";\"\"\"\n",
    "cursor.execute(query22)\n",
    "cursor.fetchall()\n"
   ]
  },
  {
   "cell_type": "code",
   "execution_count": 69,
   "metadata": {},
   "outputs": [
    {
     "name": "stderr",
     "output_type": "stream",
     "text": [
      "C:\\Users\\Win10\\AppData\\Local\\Temp\\ipykernel_3652\\16324022.py:1: UserWarning: pandas only supports SQLAlchemy connectable (engine/connection) or database string URI or sqlite3 DBAPI2 connection. Other DBAPI2 objects are not tested. Please consider using SQLAlchemy.\n",
      "  df22 = pd.read_sql(query22, connection)\n"
     ]
    },
    {
     "data": {
      "text/html": [
       "<style type=\"text/css\">\n",
       "#T_1f4a9 th {\n",
       "  text-align: left;\n",
       "}\n",
       "#T_1f4a9_row0_col0, #T_1f4a9_row0_col1, #T_1f4a9_row0_col2, #T_1f4a9_row0_col3, #T_1f4a9_row1_col0, #T_1f4a9_row1_col1, #T_1f4a9_row1_col2, #T_1f4a9_row1_col3, #T_1f4a9_row2_col0, #T_1f4a9_row2_col1, #T_1f4a9_row2_col2, #T_1f4a9_row2_col3, #T_1f4a9_row3_col0, #T_1f4a9_row3_col1, #T_1f4a9_row3_col2, #T_1f4a9_row3_col3, #T_1f4a9_row4_col0, #T_1f4a9_row4_col1, #T_1f4a9_row4_col2, #T_1f4a9_row4_col3 {\n",
       "  text-align: left;\n",
       "}\n",
       "</style>\n",
       "<table id=\"T_1f4a9\">\n",
       "  <thead>\n",
       "    <tr>\n",
       "      <th class=\"blank level0\" >&nbsp;</th>\n",
       "      <th id=\"T_1f4a9_level0_col0\" class=\"col_heading level0 col0\" >DNI</th>\n",
       "      <th id=\"T_1f4a9_level0_col1\" class=\"col_heading level0 col1\" >Nombre</th>\n",
       "      <th id=\"T_1f4a9_level0_col2\" class=\"col_heading level0 col2\" >Turno</th>\n",
       "      <th id=\"T_1f4a9_level0_col3\" class=\"col_heading level0 col3\" >clase</th>\n",
       "    </tr>\n",
       "  </thead>\n",
       "  <tbody>\n",
       "    <tr>\n",
       "      <th id=\"T_1f4a9_level0_row0\" class=\"row_heading level0 row0\" >0</th>\n",
       "      <td id=\"T_1f4a9_row0_col0\" class=\"data row0 col0\" >03232323P</td>\n",
       "      <td id=\"T_1f4a9_row0_col1\" class=\"data row0 col1\" >María Luisa Galdón Ter</td>\n",
       "      <td id=\"T_1f4a9_row0_col2\" class=\"data row0 col2\" >noche</td>\n",
       "      <td id=\"T_1f4a9_row0_col3\" class=\"data row0 col3\" >EMPLEADO</td>\n",
       "    </tr>\n",
       "    <tr>\n",
       "      <th id=\"T_1f4a9_level0_row1\" class=\"row_heading level0 row1\" >1</th>\n",
       "      <td id=\"T_1f4a9_row1_col0\" class=\"data row1 col0\" >14567555L</td>\n",
       "      <td id=\"T_1f4a9_row1_col1\" class=\"data row1 col1\" >Piedad Colmenero Zapillo</td>\n",
       "      <td id=\"T_1f4a9_row1_col2\" class=\"data row1 col2\" >noche</td>\n",
       "      <td id=\"T_1f4a9_row1_col3\" class=\"data row1 col3\" >EMPLEADO</td>\n",
       "    </tr>\n",
       "    <tr>\n",
       "      <th id=\"T_1f4a9_level0_row2\" class=\"row_heading level0 row2\" >2</th>\n",
       "      <td id=\"T_1f4a9_row2_col0\" class=\"data row2 col0\" >88888888O</td>\n",
       "      <td id=\"T_1f4a9_row2_col1\" class=\"data row2 col1\" >Soledad Campillo Molina</td>\n",
       "      <td id=\"T_1f4a9_row2_col2\" class=\"data row2 col2\" >noche</td>\n",
       "      <td id=\"T_1f4a9_row2_col3\" class=\"data row2 col3\" >EMPLEADO</td>\n",
       "    </tr>\n",
       "    <tr>\n",
       "      <th id=\"T_1f4a9_level0_row3\" class=\"row_heading level0 row3\" >3</th>\n",
       "      <td id=\"T_1f4a9_row3_col0\" class=\"data row3 col0\" >04477744T</td>\n",
       "      <td id=\"T_1f4a9_row3_col1\" class=\"data row3 col1\" >Laura Jiménez Jiménez</td>\n",
       "      <td id=\"T_1f4a9_row3_col2\" class=\"data row3 col2\" >noche</td>\n",
       "      <td id=\"T_1f4a9_row3_col3\" class=\"data row3 col3\" >REPARTIDOR</td>\n",
       "    </tr>\n",
       "    <tr>\n",
       "      <th id=\"T_1f4a9_level0_row4\" class=\"row_heading level0 row4\" >4</th>\n",
       "      <td id=\"T_1f4a9_row4_col0\" class=\"data row4 col0\" >11245621Q</td>\n",
       "      <td id=\"T_1f4a9_row4_col1\" class=\"data row4 col1\" >Juan Pardo Rubio</td>\n",
       "      <td id=\"T_1f4a9_row4_col2\" class=\"data row4 col2\" >noche</td>\n",
       "      <td id=\"T_1f4a9_row4_col3\" class=\"data row4 col3\" >REPARTIDOR</td>\n",
       "    </tr>\n",
       "  </tbody>\n",
       "</table>\n"
      ],
      "text/plain": [
       "<pandas.io.formats.style.Styler at 0x1ed682f97d0>"
      ]
     },
     "execution_count": 69,
     "metadata": {},
     "output_type": "execute_result"
    }
   ],
   "source": [
    "df22 = pd.read_sql(query22, connection)\n",
    "left_align(df22)\n"
   ]
  },
  {
   "cell_type": "code",
   "execution_count": 70,
   "metadata": {},
   "outputs": [],
   "source": [
    "df22.to_csv('empleados_repartidores_turnos', index=False)"
   ]
  },
  {
   "cell_type": "markdown",
   "metadata": {},
   "source": [
    "### 23.Obtener los pedidos junto con el nombre del empleado que los tomó y el nombre del repartidor que los entregó."
   ]
  },
  {
   "cell_type": "code",
   "execution_count": 71,
   "metadata": {},
   "outputs": [
    {
     "data": {
      "text/plain": [
       "[('0001', 'Juan Sánchez López', 'Luis Ramírez Pardo'),\n",
       " ('0002', 'Alejandro Pardo López', 'María Sánchez Cid'),\n",
       " ('0003', 'Alejandro Pardo López', 'Pedro Jiménez Ruiz'),\n",
       " ('0004', 'Laura Jiménez Jiménez', 'Raúl Rodrigo Roca'),\n",
       " ('0005', 'Carlos Sánchez Ruíz', 'Piedad Colmenero Zapillo'),\n",
       " ('0006', 'Laura Jiménez Jiménez', 'Piedad Colmenero Zapillo'),\n",
       " ('0007', 'Carlos Sánchez Ruíz', 'María Luisa Galdón Ter'),\n",
       " ('0008', 'Juan Pardo Rubio', 'Raúl Rodrigo Roca'),\n",
       " ('0009', 'Alejandro Pardo López', 'Úrsula Delta Camacho'),\n",
       " ('0010', None, 'Soledad Campillo Molina'),\n",
       " ('0011', None, 'Soledad Campillo Molina')]"
      ]
     },
     "execution_count": 71,
     "metadata": {},
     "output_type": "execute_result"
    }
   ],
   "source": [
    "connection = mysql.connector.connect(host=' ', database=  , user=   , password=   , connection_timeout=180)\n",
    "cursor=connection.cursor()\n",
    "query23=\"\"\"select PEDIDO.numero, REPARTIDOR.Nombre as Nombre_repartidor , EMPLEADO.Nombre as Nombre_empleado from PEDIDO\n",
    "\tleft join EMPLEADO ON EMPLEADO.DNI=PEDIDO.DNI_ETM\n",
    "    left join REPARTIDOR on REPARTIDOR.dni=PEDIDO.DNI_R;\"\"\"\n",
    "cursor.execute(query23)\n",
    "cursor.fetchall()\n"
   ]
  },
  {
   "cell_type": "code",
   "execution_count": 72,
   "metadata": {},
   "outputs": [
    {
     "name": "stderr",
     "output_type": "stream",
     "text": [
      "C:\\Users\\Win10\\AppData\\Local\\Temp\\ipykernel_3652\\1424131854.py:1: UserWarning: pandas only supports SQLAlchemy connectable (engine/connection) or database string URI or sqlite3 DBAPI2 connection. Other DBAPI2 objects are not tested. Please consider using SQLAlchemy.\n",
      "  df23 = pd.read_sql(query23, connection)\n"
     ]
    },
    {
     "data": {
      "text/html": [
       "<style type=\"text/css\">\n",
       "#T_c1263 th {\n",
       "  text-align: left;\n",
       "}\n",
       "#T_c1263_row0_col0, #T_c1263_row0_col1, #T_c1263_row0_col2, #T_c1263_row1_col0, #T_c1263_row1_col1, #T_c1263_row1_col2, #T_c1263_row2_col0, #T_c1263_row2_col1, #T_c1263_row2_col2, #T_c1263_row3_col0, #T_c1263_row3_col1, #T_c1263_row3_col2, #T_c1263_row4_col0, #T_c1263_row4_col1, #T_c1263_row4_col2, #T_c1263_row5_col0, #T_c1263_row5_col1, #T_c1263_row5_col2, #T_c1263_row6_col0, #T_c1263_row6_col1, #T_c1263_row6_col2, #T_c1263_row7_col0, #T_c1263_row7_col1, #T_c1263_row7_col2, #T_c1263_row8_col0, #T_c1263_row8_col1, #T_c1263_row8_col2, #T_c1263_row9_col0, #T_c1263_row9_col1, #T_c1263_row9_col2, #T_c1263_row10_col0, #T_c1263_row10_col1, #T_c1263_row10_col2 {\n",
       "  text-align: left;\n",
       "}\n",
       "</style>\n",
       "<table id=\"T_c1263\">\n",
       "  <thead>\n",
       "    <tr>\n",
       "      <th class=\"blank level0\" >&nbsp;</th>\n",
       "      <th id=\"T_c1263_level0_col0\" class=\"col_heading level0 col0\" >numero</th>\n",
       "      <th id=\"T_c1263_level0_col1\" class=\"col_heading level0 col1\" >Nombre_repartidor</th>\n",
       "      <th id=\"T_c1263_level0_col2\" class=\"col_heading level0 col2\" >Nombre_empleado</th>\n",
       "    </tr>\n",
       "  </thead>\n",
       "  <tbody>\n",
       "    <tr>\n",
       "      <th id=\"T_c1263_level0_row0\" class=\"row_heading level0 row0\" >0</th>\n",
       "      <td id=\"T_c1263_row0_col0\" class=\"data row0 col0\" >0001</td>\n",
       "      <td id=\"T_c1263_row0_col1\" class=\"data row0 col1\" >Juan Sánchez López</td>\n",
       "      <td id=\"T_c1263_row0_col2\" class=\"data row0 col2\" >Luis Ramírez Pardo</td>\n",
       "    </tr>\n",
       "    <tr>\n",
       "      <th id=\"T_c1263_level0_row1\" class=\"row_heading level0 row1\" >1</th>\n",
       "      <td id=\"T_c1263_row1_col0\" class=\"data row1 col0\" >0002</td>\n",
       "      <td id=\"T_c1263_row1_col1\" class=\"data row1 col1\" >Alejandro Pardo López</td>\n",
       "      <td id=\"T_c1263_row1_col2\" class=\"data row1 col2\" >María Sánchez Cid</td>\n",
       "    </tr>\n",
       "    <tr>\n",
       "      <th id=\"T_c1263_level0_row2\" class=\"row_heading level0 row2\" >2</th>\n",
       "      <td id=\"T_c1263_row2_col0\" class=\"data row2 col0\" >0003</td>\n",
       "      <td id=\"T_c1263_row2_col1\" class=\"data row2 col1\" >Alejandro Pardo López</td>\n",
       "      <td id=\"T_c1263_row2_col2\" class=\"data row2 col2\" >Pedro Jiménez Ruiz</td>\n",
       "    </tr>\n",
       "    <tr>\n",
       "      <th id=\"T_c1263_level0_row3\" class=\"row_heading level0 row3\" >3</th>\n",
       "      <td id=\"T_c1263_row3_col0\" class=\"data row3 col0\" >0004</td>\n",
       "      <td id=\"T_c1263_row3_col1\" class=\"data row3 col1\" >Laura Jiménez Jiménez</td>\n",
       "      <td id=\"T_c1263_row3_col2\" class=\"data row3 col2\" >Raúl Rodrigo Roca</td>\n",
       "    </tr>\n",
       "    <tr>\n",
       "      <th id=\"T_c1263_level0_row4\" class=\"row_heading level0 row4\" >4</th>\n",
       "      <td id=\"T_c1263_row4_col0\" class=\"data row4 col0\" >0005</td>\n",
       "      <td id=\"T_c1263_row4_col1\" class=\"data row4 col1\" >Carlos Sánchez Ruíz</td>\n",
       "      <td id=\"T_c1263_row4_col2\" class=\"data row4 col2\" >Piedad Colmenero Zapillo</td>\n",
       "    </tr>\n",
       "    <tr>\n",
       "      <th id=\"T_c1263_level0_row5\" class=\"row_heading level0 row5\" >5</th>\n",
       "      <td id=\"T_c1263_row5_col0\" class=\"data row5 col0\" >0006</td>\n",
       "      <td id=\"T_c1263_row5_col1\" class=\"data row5 col1\" >Laura Jiménez Jiménez</td>\n",
       "      <td id=\"T_c1263_row5_col2\" class=\"data row5 col2\" >Piedad Colmenero Zapillo</td>\n",
       "    </tr>\n",
       "    <tr>\n",
       "      <th id=\"T_c1263_level0_row6\" class=\"row_heading level0 row6\" >6</th>\n",
       "      <td id=\"T_c1263_row6_col0\" class=\"data row6 col0\" >0007</td>\n",
       "      <td id=\"T_c1263_row6_col1\" class=\"data row6 col1\" >Carlos Sánchez Ruíz</td>\n",
       "      <td id=\"T_c1263_row6_col2\" class=\"data row6 col2\" >María Luisa Galdón Ter</td>\n",
       "    </tr>\n",
       "    <tr>\n",
       "      <th id=\"T_c1263_level0_row7\" class=\"row_heading level0 row7\" >7</th>\n",
       "      <td id=\"T_c1263_row7_col0\" class=\"data row7 col0\" >0008</td>\n",
       "      <td id=\"T_c1263_row7_col1\" class=\"data row7 col1\" >Juan Pardo Rubio</td>\n",
       "      <td id=\"T_c1263_row7_col2\" class=\"data row7 col2\" >Raúl Rodrigo Roca</td>\n",
       "    </tr>\n",
       "    <tr>\n",
       "      <th id=\"T_c1263_level0_row8\" class=\"row_heading level0 row8\" >8</th>\n",
       "      <td id=\"T_c1263_row8_col0\" class=\"data row8 col0\" >0009</td>\n",
       "      <td id=\"T_c1263_row8_col1\" class=\"data row8 col1\" >Alejandro Pardo López</td>\n",
       "      <td id=\"T_c1263_row8_col2\" class=\"data row8 col2\" >Úrsula Delta Camacho</td>\n",
       "    </tr>\n",
       "    <tr>\n",
       "      <th id=\"T_c1263_level0_row9\" class=\"row_heading level0 row9\" >9</th>\n",
       "      <td id=\"T_c1263_row9_col0\" class=\"data row9 col0\" >0010</td>\n",
       "      <td id=\"T_c1263_row9_col1\" class=\"data row9 col1\" >None</td>\n",
       "      <td id=\"T_c1263_row9_col2\" class=\"data row9 col2\" >Soledad Campillo Molina</td>\n",
       "    </tr>\n",
       "    <tr>\n",
       "      <th id=\"T_c1263_level0_row10\" class=\"row_heading level0 row10\" >10</th>\n",
       "      <td id=\"T_c1263_row10_col0\" class=\"data row10 col0\" >0011</td>\n",
       "      <td id=\"T_c1263_row10_col1\" class=\"data row10 col1\" >None</td>\n",
       "      <td id=\"T_c1263_row10_col2\" class=\"data row10 col2\" >Soledad Campillo Molina</td>\n",
       "    </tr>\n",
       "  </tbody>\n",
       "</table>\n"
      ],
      "text/plain": [
       "<pandas.io.formats.style.Styler at 0x1ed68f0a7d0>"
      ]
     },
     "execution_count": 72,
     "metadata": {},
     "output_type": "execute_result"
    }
   ],
   "source": [
    "df23 = pd.read_sql(query23, connection)\n",
    "left_align(df23)\n"
   ]
  },
  {
   "cell_type": "code",
   "execution_count": 73,
   "metadata": {},
   "outputs": [],
   "source": [
    "df23.to_csv('pedidos_empleadotomo_repartidor.csv', index=False)"
   ]
  },
  {
   "cell_type": "markdown",
   "metadata": {},
   "source": [
    "### 24.Mostrar los nombres de los productos en mayúsculas."
   ]
  },
  {
   "cell_type": "code",
   "execution_count": 122,
   "metadata": {},
   "outputs": [
    {
     "data": {
      "text/plain": [
       "[('AGUA',),\n",
       " ('BACON',),\n",
       " ('COCA COLA',),\n",
       " ('FANTA',),\n",
       " ('FRUTA',),\n",
       " ('HAMBURGUESA',),\n",
       " ('HELADO',),\n",
       " ('LECHUGA',),\n",
       " ('MENÚ DE HAMBURGUESA',),\n",
       " ('MENÚ DE HAMBURGUESA CON QUESO',),\n",
       " ('MENÚ DE POLLO',),\n",
       " ('MENÚ DE POLLO CON QUESO',),\n",
       " ('NESTEA',),\n",
       " ('PATATAS',),\n",
       " ('POLLO',),\n",
       " ('QUESO',),\n",
       " ('TARTA',),\n",
       " ('TOMATE',)]"
      ]
     },
     "execution_count": 122,
     "metadata": {},
     "output_type": "execute_result"
    }
   ],
   "source": [
    "connection = mysql.connector.connect(host=' ', database=  , user=   , password=   , connection_timeout=180)\n",
    "cursor=connection.cursor()\n",
    "query24=\"\"\"select upper(nombre) as PRODUCTOS from PRODUCTO;\"\"\"\n",
    "cursor.execute(query24)\n",
    "cursor.fetchall()\n"
   ]
  },
  {
   "cell_type": "code",
   "execution_count": 123,
   "metadata": {},
   "outputs": [
    {
     "name": "stderr",
     "output_type": "stream",
     "text": [
      "C:\\Users\\Win10\\AppData\\Local\\Temp\\ipykernel_3652\\1852967716.py:1: UserWarning: pandas only supports SQLAlchemy connectable (engine/connection) or database string URI or sqlite3 DBAPI2 connection. Other DBAPI2 objects are not tested. Please consider using SQLAlchemy.\n",
      "  df24 = pd.read_sql(query24, connection)\n"
     ]
    },
    {
     "data": {
      "text/html": [
       "<style type=\"text/css\">\n",
       "#T_f50fb th {\n",
       "  text-align: left;\n",
       "}\n",
       "#T_f50fb_row0_col0, #T_f50fb_row1_col0, #T_f50fb_row2_col0, #T_f50fb_row3_col0, #T_f50fb_row4_col0, #T_f50fb_row5_col0, #T_f50fb_row6_col0, #T_f50fb_row7_col0, #T_f50fb_row8_col0, #T_f50fb_row9_col0, #T_f50fb_row10_col0, #T_f50fb_row11_col0, #T_f50fb_row12_col0, #T_f50fb_row13_col0, #T_f50fb_row14_col0, #T_f50fb_row15_col0, #T_f50fb_row16_col0, #T_f50fb_row17_col0 {\n",
       "  text-align: left;\n",
       "}\n",
       "</style>\n",
       "<table id=\"T_f50fb\">\n",
       "  <thead>\n",
       "    <tr>\n",
       "      <th class=\"blank level0\" >&nbsp;</th>\n",
       "      <th id=\"T_f50fb_level0_col0\" class=\"col_heading level0 col0\" >PRODUCTOS</th>\n",
       "    </tr>\n",
       "  </thead>\n",
       "  <tbody>\n",
       "    <tr>\n",
       "      <th id=\"T_f50fb_level0_row0\" class=\"row_heading level0 row0\" >0</th>\n",
       "      <td id=\"T_f50fb_row0_col0\" class=\"data row0 col0\" >AGUA</td>\n",
       "    </tr>\n",
       "    <tr>\n",
       "      <th id=\"T_f50fb_level0_row1\" class=\"row_heading level0 row1\" >1</th>\n",
       "      <td id=\"T_f50fb_row1_col0\" class=\"data row1 col0\" >BACON</td>\n",
       "    </tr>\n",
       "    <tr>\n",
       "      <th id=\"T_f50fb_level0_row2\" class=\"row_heading level0 row2\" >2</th>\n",
       "      <td id=\"T_f50fb_row2_col0\" class=\"data row2 col0\" >COCA COLA</td>\n",
       "    </tr>\n",
       "    <tr>\n",
       "      <th id=\"T_f50fb_level0_row3\" class=\"row_heading level0 row3\" >3</th>\n",
       "      <td id=\"T_f50fb_row3_col0\" class=\"data row3 col0\" >FANTA</td>\n",
       "    </tr>\n",
       "    <tr>\n",
       "      <th id=\"T_f50fb_level0_row4\" class=\"row_heading level0 row4\" >4</th>\n",
       "      <td id=\"T_f50fb_row4_col0\" class=\"data row4 col0\" >FRUTA</td>\n",
       "    </tr>\n",
       "    <tr>\n",
       "      <th id=\"T_f50fb_level0_row5\" class=\"row_heading level0 row5\" >5</th>\n",
       "      <td id=\"T_f50fb_row5_col0\" class=\"data row5 col0\" >HAMBURGUESA</td>\n",
       "    </tr>\n",
       "    <tr>\n",
       "      <th id=\"T_f50fb_level0_row6\" class=\"row_heading level0 row6\" >6</th>\n",
       "      <td id=\"T_f50fb_row6_col0\" class=\"data row6 col0\" >HELADO</td>\n",
       "    </tr>\n",
       "    <tr>\n",
       "      <th id=\"T_f50fb_level0_row7\" class=\"row_heading level0 row7\" >7</th>\n",
       "      <td id=\"T_f50fb_row7_col0\" class=\"data row7 col0\" >LECHUGA</td>\n",
       "    </tr>\n",
       "    <tr>\n",
       "      <th id=\"T_f50fb_level0_row8\" class=\"row_heading level0 row8\" >8</th>\n",
       "      <td id=\"T_f50fb_row8_col0\" class=\"data row8 col0\" >MENÚ DE HAMBURGUESA</td>\n",
       "    </tr>\n",
       "    <tr>\n",
       "      <th id=\"T_f50fb_level0_row9\" class=\"row_heading level0 row9\" >9</th>\n",
       "      <td id=\"T_f50fb_row9_col0\" class=\"data row9 col0\" >MENÚ DE HAMBURGUESA CON QUESO</td>\n",
       "    </tr>\n",
       "    <tr>\n",
       "      <th id=\"T_f50fb_level0_row10\" class=\"row_heading level0 row10\" >10</th>\n",
       "      <td id=\"T_f50fb_row10_col0\" class=\"data row10 col0\" >MENÚ DE POLLO</td>\n",
       "    </tr>\n",
       "    <tr>\n",
       "      <th id=\"T_f50fb_level0_row11\" class=\"row_heading level0 row11\" >11</th>\n",
       "      <td id=\"T_f50fb_row11_col0\" class=\"data row11 col0\" >MENÚ DE POLLO CON QUESO</td>\n",
       "    </tr>\n",
       "    <tr>\n",
       "      <th id=\"T_f50fb_level0_row12\" class=\"row_heading level0 row12\" >12</th>\n",
       "      <td id=\"T_f50fb_row12_col0\" class=\"data row12 col0\" >NESTEA</td>\n",
       "    </tr>\n",
       "    <tr>\n",
       "      <th id=\"T_f50fb_level0_row13\" class=\"row_heading level0 row13\" >13</th>\n",
       "      <td id=\"T_f50fb_row13_col0\" class=\"data row13 col0\" >PATATAS</td>\n",
       "    </tr>\n",
       "    <tr>\n",
       "      <th id=\"T_f50fb_level0_row14\" class=\"row_heading level0 row14\" >14</th>\n",
       "      <td id=\"T_f50fb_row14_col0\" class=\"data row14 col0\" >POLLO</td>\n",
       "    </tr>\n",
       "    <tr>\n",
       "      <th id=\"T_f50fb_level0_row15\" class=\"row_heading level0 row15\" >15</th>\n",
       "      <td id=\"T_f50fb_row15_col0\" class=\"data row15 col0\" >QUESO</td>\n",
       "    </tr>\n",
       "    <tr>\n",
       "      <th id=\"T_f50fb_level0_row16\" class=\"row_heading level0 row16\" >16</th>\n",
       "      <td id=\"T_f50fb_row16_col0\" class=\"data row16 col0\" >TARTA</td>\n",
       "    </tr>\n",
       "    <tr>\n",
       "      <th id=\"T_f50fb_level0_row17\" class=\"row_heading level0 row17\" >17</th>\n",
       "      <td id=\"T_f50fb_row17_col0\" class=\"data row17 col0\" >TOMATE</td>\n",
       "    </tr>\n",
       "  </tbody>\n",
       "</table>\n"
      ],
      "text/plain": [
       "<pandas.io.formats.style.Styler at 0x1ed69988f10>"
      ]
     },
     "execution_count": 123,
     "metadata": {},
     "output_type": "execute_result"
    }
   ],
   "source": [
    "df24 = pd.read_sql(query24, connection)\n",
    "left_align(df24)\n"
   ]
  },
  {
   "cell_type": "code",
   "execution_count": 76,
   "metadata": {},
   "outputs": [],
   "source": [
    "df24.to_csv('producto_mayuscula.csv', index=False)"
   ]
  },
  {
   "cell_type": "markdown",
   "metadata": {},
   "source": [
    "### 25.Obtener el número de pedidos y el total del importe para cada repartidor."
   ]
  },
  {
   "cell_type": "code",
   "execution_count": 77,
   "metadata": {},
   "outputs": [
    {
     "data": {
      "text/plain": [
       "[('04477744T', 'Laura Jiménez Jiménez', 'noche', 400.0, 36.0, 2),\n",
       " ('11245621Q', 'Juan Pardo Rubio', 'noche', 400.0, 14.0, 1),\n",
       " ('14188151T', 'Carlos Sánchez Ruíz', 'tarde', 300.0, 31.0, 2),\n",
       " ('51235555J', 'Carmen Capel Pío', 'tarde', 300.0, None, 0),\n",
       " ('55675675J', 'Juan Sánchez López', 'mañana', 200.0, 10.0, 1),\n",
       " ('99009900J', 'Alejandro Pardo López', 'mañana', 400.0, 53.0, 3)]"
      ]
     },
     "execution_count": 77,
     "metadata": {},
     "output_type": "execute_result"
    }
   ],
   "source": [
    "connection = mysql.connector.connect(host=' ', database=  , user=   , password=   , connection_timeout=180)\n",
    "cursor=connection.cursor()\n",
    "query25=\"\"\"select \tREPARTIDOR.*,\n",
    "\t\tsum(PEDIDO.importe) as importe_total ,\n",
    "        count(PEDIDO.Numero) as pedidos\n",
    "from REPARTIDOR\n",
    "left join PEDIDO ON PEDIDO.DNI_R=REPARTIDOR.DNI\n",
    "group by REPARTIDOR.dni;\"\"\"\n",
    "cursor.execute(query25)\n",
    "cursor.fetchall()\n"
   ]
  },
  {
   "cell_type": "code",
   "execution_count": 78,
   "metadata": {},
   "outputs": [
    {
     "name": "stderr",
     "output_type": "stream",
     "text": [
      "C:\\Users\\Win10\\AppData\\Local\\Temp\\ipykernel_3652\\1461834953.py:1: UserWarning: pandas only supports SQLAlchemy connectable (engine/connection) or database string URI or sqlite3 DBAPI2 connection. Other DBAPI2 objects are not tested. Please consider using SQLAlchemy.\n",
      "  df25 = pd.read_sql(query25, connection)\n"
     ]
    },
    {
     "data": {
      "text/html": [
       "<style type=\"text/css\">\n",
       "#T_0f660 th {\n",
       "  text-align: left;\n",
       "}\n",
       "#T_0f660_row0_col0, #T_0f660_row0_col1, #T_0f660_row0_col2, #T_0f660_row0_col3, #T_0f660_row0_col4, #T_0f660_row0_col5, #T_0f660_row1_col0, #T_0f660_row1_col1, #T_0f660_row1_col2, #T_0f660_row1_col3, #T_0f660_row1_col4, #T_0f660_row1_col5, #T_0f660_row2_col0, #T_0f660_row2_col1, #T_0f660_row2_col2, #T_0f660_row2_col3, #T_0f660_row2_col4, #T_0f660_row2_col5, #T_0f660_row3_col0, #T_0f660_row3_col1, #T_0f660_row3_col2, #T_0f660_row3_col3, #T_0f660_row3_col4, #T_0f660_row3_col5, #T_0f660_row4_col0, #T_0f660_row4_col1, #T_0f660_row4_col2, #T_0f660_row4_col3, #T_0f660_row4_col4, #T_0f660_row4_col5, #T_0f660_row5_col0, #T_0f660_row5_col1, #T_0f660_row5_col2, #T_0f660_row5_col3, #T_0f660_row5_col4, #T_0f660_row5_col5 {\n",
       "  text-align: left;\n",
       "}\n",
       "</style>\n",
       "<table id=\"T_0f660\">\n",
       "  <thead>\n",
       "    <tr>\n",
       "      <th class=\"blank level0\" >&nbsp;</th>\n",
       "      <th id=\"T_0f660_level0_col0\" class=\"col_heading level0 col0\" >DNI</th>\n",
       "      <th id=\"T_0f660_level0_col1\" class=\"col_heading level0 col1\" >Nombre</th>\n",
       "      <th id=\"T_0f660_level0_col2\" class=\"col_heading level0 col2\" >Turno</th>\n",
       "      <th id=\"T_0f660_level0_col3\" class=\"col_heading level0 col3\" >Incentivo</th>\n",
       "      <th id=\"T_0f660_level0_col4\" class=\"col_heading level0 col4\" >importe_total</th>\n",
       "      <th id=\"T_0f660_level0_col5\" class=\"col_heading level0 col5\" >pedidos</th>\n",
       "    </tr>\n",
       "  </thead>\n",
       "  <tbody>\n",
       "    <tr>\n",
       "      <th id=\"T_0f660_level0_row0\" class=\"row_heading level0 row0\" >0</th>\n",
       "      <td id=\"T_0f660_row0_col0\" class=\"data row0 col0\" >04477744T</td>\n",
       "      <td id=\"T_0f660_row0_col1\" class=\"data row0 col1\" >Laura Jiménez Jiménez</td>\n",
       "      <td id=\"T_0f660_row0_col2\" class=\"data row0 col2\" >noche</td>\n",
       "      <td id=\"T_0f660_row0_col3\" class=\"data row0 col3\" >400.000000</td>\n",
       "      <td id=\"T_0f660_row0_col4\" class=\"data row0 col4\" >36.000000</td>\n",
       "      <td id=\"T_0f660_row0_col5\" class=\"data row0 col5\" >2</td>\n",
       "    </tr>\n",
       "    <tr>\n",
       "      <th id=\"T_0f660_level0_row1\" class=\"row_heading level0 row1\" >1</th>\n",
       "      <td id=\"T_0f660_row1_col0\" class=\"data row1 col0\" >11245621Q</td>\n",
       "      <td id=\"T_0f660_row1_col1\" class=\"data row1 col1\" >Juan Pardo Rubio</td>\n",
       "      <td id=\"T_0f660_row1_col2\" class=\"data row1 col2\" >noche</td>\n",
       "      <td id=\"T_0f660_row1_col3\" class=\"data row1 col3\" >400.000000</td>\n",
       "      <td id=\"T_0f660_row1_col4\" class=\"data row1 col4\" >14.000000</td>\n",
       "      <td id=\"T_0f660_row1_col5\" class=\"data row1 col5\" >1</td>\n",
       "    </tr>\n",
       "    <tr>\n",
       "      <th id=\"T_0f660_level0_row2\" class=\"row_heading level0 row2\" >2</th>\n",
       "      <td id=\"T_0f660_row2_col0\" class=\"data row2 col0\" >14188151T</td>\n",
       "      <td id=\"T_0f660_row2_col1\" class=\"data row2 col1\" >Carlos Sánchez Ruíz</td>\n",
       "      <td id=\"T_0f660_row2_col2\" class=\"data row2 col2\" >tarde</td>\n",
       "      <td id=\"T_0f660_row2_col3\" class=\"data row2 col3\" >300.000000</td>\n",
       "      <td id=\"T_0f660_row2_col4\" class=\"data row2 col4\" >31.000000</td>\n",
       "      <td id=\"T_0f660_row2_col5\" class=\"data row2 col5\" >2</td>\n",
       "    </tr>\n",
       "    <tr>\n",
       "      <th id=\"T_0f660_level0_row3\" class=\"row_heading level0 row3\" >3</th>\n",
       "      <td id=\"T_0f660_row3_col0\" class=\"data row3 col0\" >51235555J</td>\n",
       "      <td id=\"T_0f660_row3_col1\" class=\"data row3 col1\" >Carmen Capel Pío</td>\n",
       "      <td id=\"T_0f660_row3_col2\" class=\"data row3 col2\" >tarde</td>\n",
       "      <td id=\"T_0f660_row3_col3\" class=\"data row3 col3\" >300.000000</td>\n",
       "      <td id=\"T_0f660_row3_col4\" class=\"data row3 col4\" >nan</td>\n",
       "      <td id=\"T_0f660_row3_col5\" class=\"data row3 col5\" >0</td>\n",
       "    </tr>\n",
       "    <tr>\n",
       "      <th id=\"T_0f660_level0_row4\" class=\"row_heading level0 row4\" >4</th>\n",
       "      <td id=\"T_0f660_row4_col0\" class=\"data row4 col0\" >55675675J</td>\n",
       "      <td id=\"T_0f660_row4_col1\" class=\"data row4 col1\" >Juan Sánchez López</td>\n",
       "      <td id=\"T_0f660_row4_col2\" class=\"data row4 col2\" >mañana</td>\n",
       "      <td id=\"T_0f660_row4_col3\" class=\"data row4 col3\" >200.000000</td>\n",
       "      <td id=\"T_0f660_row4_col4\" class=\"data row4 col4\" >10.000000</td>\n",
       "      <td id=\"T_0f660_row4_col5\" class=\"data row4 col5\" >1</td>\n",
       "    </tr>\n",
       "    <tr>\n",
       "      <th id=\"T_0f660_level0_row5\" class=\"row_heading level0 row5\" >5</th>\n",
       "      <td id=\"T_0f660_row5_col0\" class=\"data row5 col0\" >99009900J</td>\n",
       "      <td id=\"T_0f660_row5_col1\" class=\"data row5 col1\" >Alejandro Pardo López</td>\n",
       "      <td id=\"T_0f660_row5_col2\" class=\"data row5 col2\" >mañana</td>\n",
       "      <td id=\"T_0f660_row5_col3\" class=\"data row5 col3\" >400.000000</td>\n",
       "      <td id=\"T_0f660_row5_col4\" class=\"data row5 col4\" >53.000000</td>\n",
       "      <td id=\"T_0f660_row5_col5\" class=\"data row5 col5\" >3</td>\n",
       "    </tr>\n",
       "  </tbody>\n",
       "</table>\n"
      ],
      "text/plain": [
       "<pandas.io.formats.style.Styler at 0x1ed69968710>"
      ]
     },
     "execution_count": 78,
     "metadata": {},
     "output_type": "execute_result"
    }
   ],
   "source": [
    "df25 = pd.read_sql(query25, connection)\n",
    "left_align(df25)\n",
    "\n"
   ]
  },
  {
   "cell_type": "code",
   "execution_count": 79,
   "metadata": {},
   "outputs": [],
   "source": [
    "df25.to_csv('pedidos_importe_repartidor.csv', index=False)"
   ]
  },
  {
   "cell_type": "markdown",
   "metadata": {},
   "source": [
    "### 26. Mostrar los pedidos realizados en el año 2023."
   ]
  },
  {
   "cell_type": "code",
   "execution_count": 80,
   "metadata": {},
   "outputs": [
    {
     "data": {
      "text/plain": [
       "[]"
      ]
     },
     "execution_count": 80,
     "metadata": {},
     "output_type": "execute_result"
    }
   ],
   "source": [
    "connection = mysql.connector.connect(host=' ', database=  , user=   , password=   , connection_timeout=180)\n",
    "cursor=connection.cursor()\n",
    "query26=\"\"\"select * from PEDIDO\n",
    "where year(PEDIDO.fecha)=2023;\"\"\"\n",
    "cursor.execute(query26)\n",
    "cursor.fetchall()\n"
   ]
  },
  {
   "cell_type": "code",
   "execution_count": 81,
   "metadata": {},
   "outputs": [
    {
     "name": "stderr",
     "output_type": "stream",
     "text": [
      "C:\\Users\\Win10\\AppData\\Local\\Temp\\ipykernel_3652\\3900559074.py:1: UserWarning: pandas only supports SQLAlchemy connectable (engine/connection) or database string URI or sqlite3 DBAPI2 connection. Other DBAPI2 objects are not tested. Please consider using SQLAlchemy.\n",
      "  df26 = pd.read_sql(query26, connection)\n"
     ]
    },
    {
     "data": {
      "text/html": [
       "<div>\n",
       "<style scoped>\n",
       "    .dataframe tbody tr th:only-of-type {\n",
       "        vertical-align: middle;\n",
       "    }\n",
       "\n",
       "    .dataframe tbody tr th {\n",
       "        vertical-align: top;\n",
       "    }\n",
       "\n",
       "    .dataframe thead th {\n",
       "        text-align: right;\n",
       "    }\n",
       "</style>\n",
       "<table border=\"1\" class=\"dataframe\">\n",
       "  <thead>\n",
       "    <tr style=\"text-align: right;\">\n",
       "      <th></th>\n",
       "      <th>Numero</th>\n",
       "      <th>Fecha</th>\n",
       "      <th>Importe</th>\n",
       "      <th>DNI_ETM</th>\n",
       "      <th>DNI_EP</th>\n",
       "      <th>DNI_R</th>\n",
       "      <th>Hora_tm</th>\n",
       "      <th>Hora_pre</th>\n",
       "      <th>Hora_rep</th>\n",
       "    </tr>\n",
       "  </thead>\n",
       "  <tbody>\n",
       "  </tbody>\n",
       "</table>\n",
       "</div>"
      ],
      "text/plain": [
       "Empty DataFrame\n",
       "Columns: [Numero, Fecha, Importe, DNI_ETM, DNI_EP, DNI_R, Hora_tm, Hora_pre, Hora_rep]\n",
       "Index: []"
      ]
     },
     "execution_count": 81,
     "metadata": {},
     "output_type": "execute_result"
    }
   ],
   "source": [
    "df26 = pd.read_sql(query26, connection)\n",
    "df26\n"
   ]
  },
  {
   "cell_type": "code",
   "execution_count": 82,
   "metadata": {},
   "outputs": [],
   "source": [
    "df26.to_csv('pedidos2023.csv', index=False)"
   ]
  },
  {
   "cell_type": "markdown",
   "metadata": {},
   "source": [
    "### 27.Listar los repartidores que han entregado pedidos en la última semana."
   ]
  },
  {
   "cell_type": "code",
   "execution_count": 83,
   "metadata": {},
   "outputs": [
    {
     "data": {
      "text/plain": [
       "[]"
      ]
     },
     "execution_count": 83,
     "metadata": {},
     "output_type": "execute_result"
    }
   ],
   "source": [
    "connection = mysql.connector.connect(host=' ', database=  , user=   , password=   , connection_timeout=180)\n",
    "cursor=connection.cursor()\n",
    "query27=\"\"\"SELECT nombre FROM REPARTIDOR \n",
    "LEFT JOIN PEDIDO ON REPARTIDOR.dni = PEDIDO.dni_r\n",
    "WHERE Fecha >= DATE_SUB(CURDATE(), INTERVAL 1 WEEK);\"\"\"\n",
    "cursor.execute(query27)\n",
    "cursor.fetchall()\n"
   ]
  },
  {
   "cell_type": "code",
   "execution_count": 84,
   "metadata": {},
   "outputs": [
    {
     "name": "stderr",
     "output_type": "stream",
     "text": [
      "C:\\Users\\Win10\\AppData\\Local\\Temp\\ipykernel_3652\\2349410479.py:1: UserWarning: pandas only supports SQLAlchemy connectable (engine/connection) or database string URI or sqlite3 DBAPI2 connection. Other DBAPI2 objects are not tested. Please consider using SQLAlchemy.\n",
      "  df27 = pd.read_sql(query27, connection)\n"
     ]
    },
    {
     "data": {
      "text/html": [
       "<div>\n",
       "<style scoped>\n",
       "    .dataframe tbody tr th:only-of-type {\n",
       "        vertical-align: middle;\n",
       "    }\n",
       "\n",
       "    .dataframe tbody tr th {\n",
       "        vertical-align: top;\n",
       "    }\n",
       "\n",
       "    .dataframe thead th {\n",
       "        text-align: right;\n",
       "    }\n",
       "</style>\n",
       "<table border=\"1\" class=\"dataframe\">\n",
       "  <thead>\n",
       "    <tr style=\"text-align: right;\">\n",
       "      <th></th>\n",
       "      <th>nombre</th>\n",
       "    </tr>\n",
       "  </thead>\n",
       "  <tbody>\n",
       "  </tbody>\n",
       "</table>\n",
       "</div>"
      ],
      "text/plain": [
       "Empty DataFrame\n",
       "Columns: [nombre]\n",
       "Index: []"
      ]
     },
     "execution_count": 84,
     "metadata": {},
     "output_type": "execute_result"
    }
   ],
   "source": [
    "df27 = pd.read_sql(query27, connection)\n",
    "df27\n"
   ]
  },
  {
   "cell_type": "code",
   "execution_count": 85,
   "metadata": {},
   "outputs": [],
   "source": [
    "df27.to_csv('repartidores_ultima_semana.csv', index=False)"
   ]
  },
  {
   "cell_type": "markdown",
   "metadata": {},
   "source": [
    "### 28.Obtener la diferencia en días entre la fecha del pedido y la fecha actual para todos los pedidos."
   ]
  },
  {
   "cell_type": "code",
   "execution_count": 86,
   "metadata": {},
   "outputs": [
    {
     "data": {
      "text/plain": [
       "[('0001', 1323),\n",
       " ('0002', 1296),\n",
       " ('0003', 1323),\n",
       " ('0004', 1297),\n",
       " ('0005', 1363),\n",
       " ('0006', 1292),\n",
       " ('0007', 1343),\n",
       " ('0008', 1353),\n",
       " ('0009', 1284),\n",
       " ('0010', 1302),\n",
       " ('0011', 1302)]"
      ]
     },
     "execution_count": 86,
     "metadata": {},
     "output_type": "execute_result"
    }
   ],
   "source": [
    "connection = mysql.connector.connect(host=' ', database=  , user=   , password=   , connection_timeout=180)\n",
    "cursor=connection.cursor()\n",
    "query28=\"\"\"select numero, datediff(current_date(),PEDIDO.fecha) as diferencia_dias from PEDIDO;\"\"\"\n",
    "cursor.execute(query28)\n",
    "cursor.fetchall()\n"
   ]
  },
  {
   "cell_type": "code",
   "execution_count": 87,
   "metadata": {},
   "outputs": [
    {
     "name": "stderr",
     "output_type": "stream",
     "text": [
      "C:\\Users\\Win10\\AppData\\Local\\Temp\\ipykernel_3652\\2210374171.py:1: UserWarning: pandas only supports SQLAlchemy connectable (engine/connection) or database string URI or sqlite3 DBAPI2 connection. Other DBAPI2 objects are not tested. Please consider using SQLAlchemy.\n",
      "  df28 = pd.read_sql(query28, connection)\n"
     ]
    },
    {
     "data": {
      "text/html": [
       "<div>\n",
       "<style scoped>\n",
       "    .dataframe tbody tr th:only-of-type {\n",
       "        vertical-align: middle;\n",
       "    }\n",
       "\n",
       "    .dataframe tbody tr th {\n",
       "        vertical-align: top;\n",
       "    }\n",
       "\n",
       "    .dataframe thead th {\n",
       "        text-align: right;\n",
       "    }\n",
       "</style>\n",
       "<table border=\"1\" class=\"dataframe\">\n",
       "  <thead>\n",
       "    <tr style=\"text-align: right;\">\n",
       "      <th></th>\n",
       "      <th>numero</th>\n",
       "      <th>diferencia_dias</th>\n",
       "    </tr>\n",
       "  </thead>\n",
       "  <tbody>\n",
       "    <tr>\n",
       "      <th>0</th>\n",
       "      <td>0001</td>\n",
       "      <td>1323</td>\n",
       "    </tr>\n",
       "    <tr>\n",
       "      <th>1</th>\n",
       "      <td>0002</td>\n",
       "      <td>1296</td>\n",
       "    </tr>\n",
       "    <tr>\n",
       "      <th>2</th>\n",
       "      <td>0003</td>\n",
       "      <td>1323</td>\n",
       "    </tr>\n",
       "    <tr>\n",
       "      <th>3</th>\n",
       "      <td>0004</td>\n",
       "      <td>1297</td>\n",
       "    </tr>\n",
       "    <tr>\n",
       "      <th>4</th>\n",
       "      <td>0005</td>\n",
       "      <td>1363</td>\n",
       "    </tr>\n",
       "    <tr>\n",
       "      <th>5</th>\n",
       "      <td>0006</td>\n",
       "      <td>1292</td>\n",
       "    </tr>\n",
       "    <tr>\n",
       "      <th>6</th>\n",
       "      <td>0007</td>\n",
       "      <td>1343</td>\n",
       "    </tr>\n",
       "    <tr>\n",
       "      <th>7</th>\n",
       "      <td>0008</td>\n",
       "      <td>1353</td>\n",
       "    </tr>\n",
       "    <tr>\n",
       "      <th>8</th>\n",
       "      <td>0009</td>\n",
       "      <td>1284</td>\n",
       "    </tr>\n",
       "    <tr>\n",
       "      <th>9</th>\n",
       "      <td>0010</td>\n",
       "      <td>1302</td>\n",
       "    </tr>\n",
       "    <tr>\n",
       "      <th>10</th>\n",
       "      <td>0011</td>\n",
       "      <td>1302</td>\n",
       "    </tr>\n",
       "  </tbody>\n",
       "</table>\n",
       "</div>"
      ],
      "text/plain": [
       "   numero  diferencia_dias\n",
       "0    0001             1323\n",
       "1    0002             1296\n",
       "2    0003             1323\n",
       "3    0004             1297\n",
       "4    0005             1363\n",
       "5    0006             1292\n",
       "6    0007             1343\n",
       "7    0008             1353\n",
       "8    0009             1284\n",
       "9    0010             1302\n",
       "10   0011             1302"
      ]
     },
     "execution_count": 87,
     "metadata": {},
     "output_type": "execute_result"
    }
   ],
   "source": [
    "df28 = pd.read_sql(query28, connection)\n",
    "df28\n"
   ]
  },
  {
   "cell_type": "code",
   "execution_count": 88,
   "metadata": {},
   "outputs": [],
   "source": [
    "df28.to_csv('diferencia_dias_actual.csv', index=False)"
   ]
  },
  {
   "cell_type": "markdown",
   "metadata": {},
   "source": [
    "### 29. Listar los empleados que trabajan en el turno de mañana y tienen un salario mayor a 2000."
   ]
  },
  {
   "cell_type": "code",
   "execution_count": 89,
   "metadata": {},
   "outputs": [
    {
     "data": {
      "text/plain": [
       "[]"
      ]
     },
     "execution_count": 89,
     "metadata": {},
     "output_type": "execute_result"
    }
   ],
   "source": [
    "connection = mysql.connector.connect(host=' ', database=  , user=   , password=   , connection_timeout=180)\n",
    "cursor=connection.cursor()\n",
    "query29=\"\"\"select * from EMPLEADO\n",
    "where turno = \"mañana\" and Salario > 2000;;\"\"\"\n",
    "cursor.execute(query29)\n",
    "cursor.fetchall()\n",
    "\n"
   ]
  },
  {
   "cell_type": "code",
   "execution_count": 90,
   "metadata": {},
   "outputs": [
    {
     "name": "stderr",
     "output_type": "stream",
     "text": [
      "C:\\Users\\Win10\\AppData\\Local\\Temp\\ipykernel_3652\\585492806.py:1: UserWarning: pandas only supports SQLAlchemy connectable (engine/connection) or database string URI or sqlite3 DBAPI2 connection. Other DBAPI2 objects are not tested. Please consider using SQLAlchemy.\n",
      "  df29 = pd.read_sql(query29, connection)\n"
     ]
    },
    {
     "data": {
      "text/html": [
       "<div>\n",
       "<style scoped>\n",
       "    .dataframe tbody tr th:only-of-type {\n",
       "        vertical-align: middle;\n",
       "    }\n",
       "\n",
       "    .dataframe tbody tr th {\n",
       "        vertical-align: top;\n",
       "    }\n",
       "\n",
       "    .dataframe thead th {\n",
       "        text-align: right;\n",
       "    }\n",
       "</style>\n",
       "<table border=\"1\" class=\"dataframe\">\n",
       "  <thead>\n",
       "    <tr style=\"text-align: right;\">\n",
       "      <th></th>\n",
       "      <th>DNI</th>\n",
       "      <th>Nombre</th>\n",
       "      <th>Nss</th>\n",
       "      <th>Turno</th>\n",
       "      <th>Salario</th>\n",
       "    </tr>\n",
       "  </thead>\n",
       "  <tbody>\n",
       "  </tbody>\n",
       "</table>\n",
       "</div>"
      ],
      "text/plain": [
       "Empty DataFrame\n",
       "Columns: [DNI, Nombre, Nss, Turno, Salario]\n",
       "Index: []"
      ]
     },
     "execution_count": 90,
     "metadata": {},
     "output_type": "execute_result"
    }
   ],
   "source": [
    "df29 = pd.read_sql(query29, connection)\n",
    "df29"
   ]
  },
  {
   "cell_type": "code",
   "execution_count": 91,
   "metadata": {},
   "outputs": [],
   "source": [
    "df29.to_csv('turnomañana_salario2000.csv', index=False)"
   ]
  },
  {
   "cell_type": "markdown",
   "metadata": {},
   "source": [
    "### 30.Mostrar los productos y su precio con un incremento del 10%."
   ]
  },
  {
   "cell_type": "code",
   "execution_count": 92,
   "metadata": {},
   "outputs": [
    {
     "data": {
      "text/plain": [
       "[('Hamburguesa', 2.86),\n",
       " ('Patatas', 2.2),\n",
       " ('tomate', 0.55),\n",
       " ('Queso', 1.1),\n",
       " ('Lechuga', 0.55),\n",
       " ('Pollo', 3.96),\n",
       " ('Bacon', 1.65),\n",
       " ('Coca cola', 3.3),\n",
       " ('Nestea', 3.3),\n",
       " ('Menú de Pollo', 5.5),\n",
       " ('Menú de Hamburguesa con queso', 6.6),\n",
       " ('Menú de Pollo con queso', 6.6),\n",
       " ('Menú de Hamburguesa', 6.6),\n",
       " ('Helado', 1.1),\n",
       " ('Tarta', 2.2),\n",
       " ('Fruta', 1.1),\n",
       " ('Agua', 2.2),\n",
       " ('Fanta', 3.3)]"
      ]
     },
     "execution_count": 92,
     "metadata": {},
     "output_type": "execute_result"
    }
   ],
   "source": [
    "connection = mysql.connector.connect(host=' ', database=  , user=   , password=   , connection_timeout=180)\n",
    "cursor=connection.cursor()\n",
    "query30=\"\"\"select nombre, precio * 1.10 from PRODUCTO;\"\"\"\n",
    "cursor.execute(query30)\n",
    "cursor.fetchall()\n"
   ]
  },
  {
   "cell_type": "code",
   "execution_count": 93,
   "metadata": {},
   "outputs": [
    {
     "name": "stderr",
     "output_type": "stream",
     "text": [
      "C:\\Users\\Win10\\AppData\\Local\\Temp\\ipykernel_3652\\3349450011.py:1: UserWarning: pandas only supports SQLAlchemy connectable (engine/connection) or database string URI or sqlite3 DBAPI2 connection. Other DBAPI2 objects are not tested. Please consider using SQLAlchemy.\n",
      "  df30 = pd.read_sql(query30, connection)\n"
     ]
    },
    {
     "data": {
      "text/html": [
       "<style type=\"text/css\">\n",
       "#T_ef67c th {\n",
       "  text-align: left;\n",
       "}\n",
       "#T_ef67c_row0_col0, #T_ef67c_row0_col1, #T_ef67c_row1_col0, #T_ef67c_row1_col1, #T_ef67c_row2_col0, #T_ef67c_row2_col1, #T_ef67c_row3_col0, #T_ef67c_row3_col1, #T_ef67c_row4_col0, #T_ef67c_row4_col1, #T_ef67c_row5_col0, #T_ef67c_row5_col1, #T_ef67c_row6_col0, #T_ef67c_row6_col1, #T_ef67c_row7_col0, #T_ef67c_row7_col1, #T_ef67c_row8_col0, #T_ef67c_row8_col1, #T_ef67c_row9_col0, #T_ef67c_row9_col1, #T_ef67c_row10_col0, #T_ef67c_row10_col1, #T_ef67c_row11_col0, #T_ef67c_row11_col1, #T_ef67c_row12_col0, #T_ef67c_row12_col1, #T_ef67c_row13_col0, #T_ef67c_row13_col1, #T_ef67c_row14_col0, #T_ef67c_row14_col1, #T_ef67c_row15_col0, #T_ef67c_row15_col1, #T_ef67c_row16_col0, #T_ef67c_row16_col1, #T_ef67c_row17_col0, #T_ef67c_row17_col1 {\n",
       "  text-align: left;\n",
       "}\n",
       "</style>\n",
       "<table id=\"T_ef67c\">\n",
       "  <thead>\n",
       "    <tr>\n",
       "      <th class=\"blank level0\" >&nbsp;</th>\n",
       "      <th id=\"T_ef67c_level0_col0\" class=\"col_heading level0 col0\" >nombre</th>\n",
       "      <th id=\"T_ef67c_level0_col1\" class=\"col_heading level0 col1\" >precio * 1.10</th>\n",
       "    </tr>\n",
       "  </thead>\n",
       "  <tbody>\n",
       "    <tr>\n",
       "      <th id=\"T_ef67c_level0_row0\" class=\"row_heading level0 row0\" >0</th>\n",
       "      <td id=\"T_ef67c_row0_col0\" class=\"data row0 col0\" >Hamburguesa</td>\n",
       "      <td id=\"T_ef67c_row0_col1\" class=\"data row0 col1\" >2.860000</td>\n",
       "    </tr>\n",
       "    <tr>\n",
       "      <th id=\"T_ef67c_level0_row1\" class=\"row_heading level0 row1\" >1</th>\n",
       "      <td id=\"T_ef67c_row1_col0\" class=\"data row1 col0\" >Patatas</td>\n",
       "      <td id=\"T_ef67c_row1_col1\" class=\"data row1 col1\" >2.200000</td>\n",
       "    </tr>\n",
       "    <tr>\n",
       "      <th id=\"T_ef67c_level0_row2\" class=\"row_heading level0 row2\" >2</th>\n",
       "      <td id=\"T_ef67c_row2_col0\" class=\"data row2 col0\" >tomate</td>\n",
       "      <td id=\"T_ef67c_row2_col1\" class=\"data row2 col1\" >0.550000</td>\n",
       "    </tr>\n",
       "    <tr>\n",
       "      <th id=\"T_ef67c_level0_row3\" class=\"row_heading level0 row3\" >3</th>\n",
       "      <td id=\"T_ef67c_row3_col0\" class=\"data row3 col0\" >Queso</td>\n",
       "      <td id=\"T_ef67c_row3_col1\" class=\"data row3 col1\" >1.100000</td>\n",
       "    </tr>\n",
       "    <tr>\n",
       "      <th id=\"T_ef67c_level0_row4\" class=\"row_heading level0 row4\" >4</th>\n",
       "      <td id=\"T_ef67c_row4_col0\" class=\"data row4 col0\" >Lechuga</td>\n",
       "      <td id=\"T_ef67c_row4_col1\" class=\"data row4 col1\" >0.550000</td>\n",
       "    </tr>\n",
       "    <tr>\n",
       "      <th id=\"T_ef67c_level0_row5\" class=\"row_heading level0 row5\" >5</th>\n",
       "      <td id=\"T_ef67c_row5_col0\" class=\"data row5 col0\" >Pollo</td>\n",
       "      <td id=\"T_ef67c_row5_col1\" class=\"data row5 col1\" >3.960000</td>\n",
       "    </tr>\n",
       "    <tr>\n",
       "      <th id=\"T_ef67c_level0_row6\" class=\"row_heading level0 row6\" >6</th>\n",
       "      <td id=\"T_ef67c_row6_col0\" class=\"data row6 col0\" >Bacon</td>\n",
       "      <td id=\"T_ef67c_row6_col1\" class=\"data row6 col1\" >1.650000</td>\n",
       "    </tr>\n",
       "    <tr>\n",
       "      <th id=\"T_ef67c_level0_row7\" class=\"row_heading level0 row7\" >7</th>\n",
       "      <td id=\"T_ef67c_row7_col0\" class=\"data row7 col0\" >Coca cola</td>\n",
       "      <td id=\"T_ef67c_row7_col1\" class=\"data row7 col1\" >3.300000</td>\n",
       "    </tr>\n",
       "    <tr>\n",
       "      <th id=\"T_ef67c_level0_row8\" class=\"row_heading level0 row8\" >8</th>\n",
       "      <td id=\"T_ef67c_row8_col0\" class=\"data row8 col0\" >Nestea</td>\n",
       "      <td id=\"T_ef67c_row8_col1\" class=\"data row8 col1\" >3.300000</td>\n",
       "    </tr>\n",
       "    <tr>\n",
       "      <th id=\"T_ef67c_level0_row9\" class=\"row_heading level0 row9\" >9</th>\n",
       "      <td id=\"T_ef67c_row9_col0\" class=\"data row9 col0\" >Menú de Pollo</td>\n",
       "      <td id=\"T_ef67c_row9_col1\" class=\"data row9 col1\" >5.500000</td>\n",
       "    </tr>\n",
       "    <tr>\n",
       "      <th id=\"T_ef67c_level0_row10\" class=\"row_heading level0 row10\" >10</th>\n",
       "      <td id=\"T_ef67c_row10_col0\" class=\"data row10 col0\" >Menú de Hamburguesa con queso</td>\n",
       "      <td id=\"T_ef67c_row10_col1\" class=\"data row10 col1\" >6.600000</td>\n",
       "    </tr>\n",
       "    <tr>\n",
       "      <th id=\"T_ef67c_level0_row11\" class=\"row_heading level0 row11\" >11</th>\n",
       "      <td id=\"T_ef67c_row11_col0\" class=\"data row11 col0\" >Menú de Pollo con queso</td>\n",
       "      <td id=\"T_ef67c_row11_col1\" class=\"data row11 col1\" >6.600000</td>\n",
       "    </tr>\n",
       "    <tr>\n",
       "      <th id=\"T_ef67c_level0_row12\" class=\"row_heading level0 row12\" >12</th>\n",
       "      <td id=\"T_ef67c_row12_col0\" class=\"data row12 col0\" >Menú de Hamburguesa</td>\n",
       "      <td id=\"T_ef67c_row12_col1\" class=\"data row12 col1\" >6.600000</td>\n",
       "    </tr>\n",
       "    <tr>\n",
       "      <th id=\"T_ef67c_level0_row13\" class=\"row_heading level0 row13\" >13</th>\n",
       "      <td id=\"T_ef67c_row13_col0\" class=\"data row13 col0\" >Helado</td>\n",
       "      <td id=\"T_ef67c_row13_col1\" class=\"data row13 col1\" >1.100000</td>\n",
       "    </tr>\n",
       "    <tr>\n",
       "      <th id=\"T_ef67c_level0_row14\" class=\"row_heading level0 row14\" >14</th>\n",
       "      <td id=\"T_ef67c_row14_col0\" class=\"data row14 col0\" >Tarta</td>\n",
       "      <td id=\"T_ef67c_row14_col1\" class=\"data row14 col1\" >2.200000</td>\n",
       "    </tr>\n",
       "    <tr>\n",
       "      <th id=\"T_ef67c_level0_row15\" class=\"row_heading level0 row15\" >15</th>\n",
       "      <td id=\"T_ef67c_row15_col0\" class=\"data row15 col0\" >Fruta</td>\n",
       "      <td id=\"T_ef67c_row15_col1\" class=\"data row15 col1\" >1.100000</td>\n",
       "    </tr>\n",
       "    <tr>\n",
       "      <th id=\"T_ef67c_level0_row16\" class=\"row_heading level0 row16\" >16</th>\n",
       "      <td id=\"T_ef67c_row16_col0\" class=\"data row16 col0\" >Agua</td>\n",
       "      <td id=\"T_ef67c_row16_col1\" class=\"data row16 col1\" >2.200000</td>\n",
       "    </tr>\n",
       "    <tr>\n",
       "      <th id=\"T_ef67c_level0_row17\" class=\"row_heading level0 row17\" >17</th>\n",
       "      <td id=\"T_ef67c_row17_col0\" class=\"data row17 col0\" >Fanta</td>\n",
       "      <td id=\"T_ef67c_row17_col1\" class=\"data row17 col1\" >3.300000</td>\n",
       "    </tr>\n",
       "  </tbody>\n",
       "</table>\n"
      ],
      "text/plain": [
       "<pandas.io.formats.style.Styler at 0x1ed6998b690>"
      ]
     },
     "execution_count": 93,
     "metadata": {},
     "output_type": "execute_result"
    }
   ],
   "source": [
    "df30 = pd.read_sql(query30, connection)\n",
    "left_align(df30)\n"
   ]
  },
  {
   "cell_type": "code",
   "execution_count": 94,
   "metadata": {},
   "outputs": [],
   "source": [
    "df30.to_csv('incremento_1.1.csv', index=False)"
   ]
  },
  {
   "cell_type": "markdown",
   "metadata": {},
   "source": [
    "### 31.Obtener los pedidos cuyo importe es el mayor entre todos los pedidos."
   ]
  },
  {
   "cell_type": "code",
   "execution_count": 95,
   "metadata": {},
   "outputs": [
    {
     "data": {
      "text/plain": [
       "[('0010',\n",
       "  datetime.date(2020, 11, 5),\n",
       "  45.0,\n",
       "  '88888888O',\n",
       "  '14567555L',\n",
       "  None,\n",
       "  datetime.timedelta(seconds=79500),\n",
       "  datetime.timedelta(seconds=79920),\n",
       "  None),\n",
       " ('0011',\n",
       "  datetime.date(2020, 11, 5),\n",
       "  45.0,\n",
       "  '88888888O',\n",
       "  '14567555L',\n",
       "  None,\n",
       "  datetime.timedelta(seconds=79500),\n",
       "  None,\n",
       "  None)]"
      ]
     },
     "execution_count": 95,
     "metadata": {},
     "output_type": "execute_result"
    }
   ],
   "source": [
    "connection = mysql.connector.connect(host=' ', database=  , user=   , password=   , connection_timeout=180)\n",
    "cursor=connection.cursor()\n",
    "query31=\"\"\"select * from PEDIDO \n",
    "where Importe = (select max(Importe) from PEDIDO);\"\"\"\n",
    "cursor.execute(query31)\n",
    "cursor.fetchall()\n"
   ]
  },
  {
   "cell_type": "code",
   "execution_count": 96,
   "metadata": {},
   "outputs": [
    {
     "name": "stderr",
     "output_type": "stream",
     "text": [
      "C:\\Users\\Win10\\AppData\\Local\\Temp\\ipykernel_3652\\1154639287.py:1: UserWarning: pandas only supports SQLAlchemy connectable (engine/connection) or database string URI or sqlite3 DBAPI2 connection. Other DBAPI2 objects are not tested. Please consider using SQLAlchemy.\n",
      "  df31 = pd.read_sql(query31, connection)\n"
     ]
    },
    {
     "data": {
      "text/html": [
       "<style type=\"text/css\">\n",
       "#T_94f35 th {\n",
       "  text-align: left;\n",
       "}\n",
       "#T_94f35_row0_col0, #T_94f35_row0_col1, #T_94f35_row0_col2, #T_94f35_row0_col3, #T_94f35_row0_col4, #T_94f35_row0_col5, #T_94f35_row0_col6, #T_94f35_row0_col7, #T_94f35_row0_col8, #T_94f35_row1_col0, #T_94f35_row1_col1, #T_94f35_row1_col2, #T_94f35_row1_col3, #T_94f35_row1_col4, #T_94f35_row1_col5, #T_94f35_row1_col6, #T_94f35_row1_col7, #T_94f35_row1_col8 {\n",
       "  text-align: left;\n",
       "}\n",
       "</style>\n",
       "<table id=\"T_94f35\">\n",
       "  <thead>\n",
       "    <tr>\n",
       "      <th class=\"blank level0\" >&nbsp;</th>\n",
       "      <th id=\"T_94f35_level0_col0\" class=\"col_heading level0 col0\" >Numero</th>\n",
       "      <th id=\"T_94f35_level0_col1\" class=\"col_heading level0 col1\" >Fecha</th>\n",
       "      <th id=\"T_94f35_level0_col2\" class=\"col_heading level0 col2\" >Importe</th>\n",
       "      <th id=\"T_94f35_level0_col3\" class=\"col_heading level0 col3\" >DNI_ETM</th>\n",
       "      <th id=\"T_94f35_level0_col4\" class=\"col_heading level0 col4\" >DNI_EP</th>\n",
       "      <th id=\"T_94f35_level0_col5\" class=\"col_heading level0 col5\" >DNI_R</th>\n",
       "      <th id=\"T_94f35_level0_col6\" class=\"col_heading level0 col6\" >Hora_tm</th>\n",
       "      <th id=\"T_94f35_level0_col7\" class=\"col_heading level0 col7\" >Hora_pre</th>\n",
       "      <th id=\"T_94f35_level0_col8\" class=\"col_heading level0 col8\" >Hora_rep</th>\n",
       "    </tr>\n",
       "  </thead>\n",
       "  <tbody>\n",
       "    <tr>\n",
       "      <th id=\"T_94f35_level0_row0\" class=\"row_heading level0 row0\" >0</th>\n",
       "      <td id=\"T_94f35_row0_col0\" class=\"data row0 col0\" >0010</td>\n",
       "      <td id=\"T_94f35_row0_col1\" class=\"data row0 col1\" >2020-11-05</td>\n",
       "      <td id=\"T_94f35_row0_col2\" class=\"data row0 col2\" >45.000000</td>\n",
       "      <td id=\"T_94f35_row0_col3\" class=\"data row0 col3\" >88888888O</td>\n",
       "      <td id=\"T_94f35_row0_col4\" class=\"data row0 col4\" >14567555L</td>\n",
       "      <td id=\"T_94f35_row0_col5\" class=\"data row0 col5\" >None</td>\n",
       "      <td id=\"T_94f35_row0_col6\" class=\"data row0 col6\" >0 days 22:05:00</td>\n",
       "      <td id=\"T_94f35_row0_col7\" class=\"data row0 col7\" >0 days 22:12:00</td>\n",
       "      <td id=\"T_94f35_row0_col8\" class=\"data row0 col8\" >None</td>\n",
       "    </tr>\n",
       "    <tr>\n",
       "      <th id=\"T_94f35_level0_row1\" class=\"row_heading level0 row1\" >1</th>\n",
       "      <td id=\"T_94f35_row1_col0\" class=\"data row1 col0\" >0011</td>\n",
       "      <td id=\"T_94f35_row1_col1\" class=\"data row1 col1\" >2020-11-05</td>\n",
       "      <td id=\"T_94f35_row1_col2\" class=\"data row1 col2\" >45.000000</td>\n",
       "      <td id=\"T_94f35_row1_col3\" class=\"data row1 col3\" >88888888O</td>\n",
       "      <td id=\"T_94f35_row1_col4\" class=\"data row1 col4\" >14567555L</td>\n",
       "      <td id=\"T_94f35_row1_col5\" class=\"data row1 col5\" >None</td>\n",
       "      <td id=\"T_94f35_row1_col6\" class=\"data row1 col6\" >0 days 22:05:00</td>\n",
       "      <td id=\"T_94f35_row1_col7\" class=\"data row1 col7\" >NaT</td>\n",
       "      <td id=\"T_94f35_row1_col8\" class=\"data row1 col8\" >None</td>\n",
       "    </tr>\n",
       "  </tbody>\n",
       "</table>\n"
      ],
      "text/plain": [
       "<pandas.io.formats.style.Styler at 0x1ed69985550>"
      ]
     },
     "execution_count": 96,
     "metadata": {},
     "output_type": "execute_result"
    }
   ],
   "source": [
    "df31 = pd.read_sql(query31, connection)\n",
    "left_align(df31)\n"
   ]
  },
  {
   "cell_type": "code",
   "execution_count": 97,
   "metadata": {},
   "outputs": [],
   "source": [
    "df31.to_csv('pedido_mayor_importe.csv', index=False)"
   ]
  },
  {
   "cell_type": "markdown",
   "metadata": {},
   "source": [
    "### 32. Listar los empleados que no han tomado ningún pedido."
   ]
  },
  {
   "cell_type": "code",
   "execution_count": 98,
   "metadata": {},
   "outputs": [
    {
     "data": {
      "text/plain": [
       "[('14111155T',\n",
       "  'Sergio Lérida Campos',\n",
       "  '55577700089',\n",
       "  'tarde',\n",
       "  1000.0,\n",
       "  None,\n",
       "  None,\n",
       "  None,\n",
       "  None,\n",
       "  None,\n",
       "  None,\n",
       "  None,\n",
       "  None,\n",
       "  None),\n",
       " ('33333333M',\n",
       "  'Martín Guerrero López',\n",
       "  '33344455566',\n",
       "  'tarde',\n",
       "  1000.0,\n",
       "  None,\n",
       "  None,\n",
       "  None,\n",
       "  None,\n",
       "  None,\n",
       "  None,\n",
       "  None,\n",
       "  None,\n",
       "  None),\n",
       " ('55555555J',\n",
       "  'Carmen Hernández Pío',\n",
       "  '99966633311',\n",
       "  'mañana',\n",
       "  900.0,\n",
       "  None,\n",
       "  None,\n",
       "  None,\n",
       "  None,\n",
       "  None,\n",
       "  None,\n",
       "  None,\n",
       "  None,\n",
       "  None)]"
      ]
     },
     "execution_count": 98,
     "metadata": {},
     "output_type": "execute_result"
    }
   ],
   "source": [
    "connection = mysql.connector.connect(host=' ', database=  , user=   , password=   , connection_timeout=180)\n",
    "cursor=connection.cursor()\n",
    "query32=\"\"\"select * from EMPLEADO\n",
    "left join PEDIDO ON EMPLEADO.DNI=PEDIDO.DNI_ETM\n",
    "where PEDIDO.DNI_ETM is null;\"\"\"\n",
    "cursor.execute(query32)\n",
    "cursor.fetchall()\n"
   ]
  },
  {
   "cell_type": "code",
   "execution_count": 99,
   "metadata": {},
   "outputs": [
    {
     "name": "stderr",
     "output_type": "stream",
     "text": [
      "C:\\Users\\Win10\\AppData\\Local\\Temp\\ipykernel_3652\\1781637630.py:1: UserWarning: pandas only supports SQLAlchemy connectable (engine/connection) or database string URI or sqlite3 DBAPI2 connection. Other DBAPI2 objects are not tested. Please consider using SQLAlchemy.\n",
      "  df32 = pd.read_sql(query32, connection)\n"
     ]
    },
    {
     "data": {
      "text/html": [
       "<style type=\"text/css\">\n",
       "#T_a9cd5 th {\n",
       "  text-align: left;\n",
       "}\n",
       "#T_a9cd5_row0_col0, #T_a9cd5_row0_col1, #T_a9cd5_row0_col2, #T_a9cd5_row0_col3, #T_a9cd5_row0_col4, #T_a9cd5_row0_col5, #T_a9cd5_row0_col6, #T_a9cd5_row0_col7, #T_a9cd5_row0_col8, #T_a9cd5_row0_col9, #T_a9cd5_row0_col10, #T_a9cd5_row0_col11, #T_a9cd5_row0_col12, #T_a9cd5_row0_col13, #T_a9cd5_row1_col0, #T_a9cd5_row1_col1, #T_a9cd5_row1_col2, #T_a9cd5_row1_col3, #T_a9cd5_row1_col4, #T_a9cd5_row1_col5, #T_a9cd5_row1_col6, #T_a9cd5_row1_col7, #T_a9cd5_row1_col8, #T_a9cd5_row1_col9, #T_a9cd5_row1_col10, #T_a9cd5_row1_col11, #T_a9cd5_row1_col12, #T_a9cd5_row1_col13, #T_a9cd5_row2_col0, #T_a9cd5_row2_col1, #T_a9cd5_row2_col2, #T_a9cd5_row2_col3, #T_a9cd5_row2_col4, #T_a9cd5_row2_col5, #T_a9cd5_row2_col6, #T_a9cd5_row2_col7, #T_a9cd5_row2_col8, #T_a9cd5_row2_col9, #T_a9cd5_row2_col10, #T_a9cd5_row2_col11, #T_a9cd5_row2_col12, #T_a9cd5_row2_col13 {\n",
       "  text-align: left;\n",
       "}\n",
       "</style>\n",
       "<table id=\"T_a9cd5\">\n",
       "  <thead>\n",
       "    <tr>\n",
       "      <th class=\"blank level0\" >&nbsp;</th>\n",
       "      <th id=\"T_a9cd5_level0_col0\" class=\"col_heading level0 col0\" >DNI</th>\n",
       "      <th id=\"T_a9cd5_level0_col1\" class=\"col_heading level0 col1\" >Nombre</th>\n",
       "      <th id=\"T_a9cd5_level0_col2\" class=\"col_heading level0 col2\" >Nss</th>\n",
       "      <th id=\"T_a9cd5_level0_col3\" class=\"col_heading level0 col3\" >Turno</th>\n",
       "      <th id=\"T_a9cd5_level0_col4\" class=\"col_heading level0 col4\" >Salario</th>\n",
       "      <th id=\"T_a9cd5_level0_col5\" class=\"col_heading level0 col5\" >Numero</th>\n",
       "      <th id=\"T_a9cd5_level0_col6\" class=\"col_heading level0 col6\" >Fecha</th>\n",
       "      <th id=\"T_a9cd5_level0_col7\" class=\"col_heading level0 col7\" >Importe</th>\n",
       "      <th id=\"T_a9cd5_level0_col8\" class=\"col_heading level0 col8\" >DNI_ETM</th>\n",
       "      <th id=\"T_a9cd5_level0_col9\" class=\"col_heading level0 col9\" >DNI_EP</th>\n",
       "      <th id=\"T_a9cd5_level0_col10\" class=\"col_heading level0 col10\" >DNI_R</th>\n",
       "      <th id=\"T_a9cd5_level0_col11\" class=\"col_heading level0 col11\" >Hora_tm</th>\n",
       "      <th id=\"T_a9cd5_level0_col12\" class=\"col_heading level0 col12\" >Hora_pre</th>\n",
       "      <th id=\"T_a9cd5_level0_col13\" class=\"col_heading level0 col13\" >Hora_rep</th>\n",
       "    </tr>\n",
       "  </thead>\n",
       "  <tbody>\n",
       "    <tr>\n",
       "      <th id=\"T_a9cd5_level0_row0\" class=\"row_heading level0 row0\" >0</th>\n",
       "      <td id=\"T_a9cd5_row0_col0\" class=\"data row0 col0\" >14111155T</td>\n",
       "      <td id=\"T_a9cd5_row0_col1\" class=\"data row0 col1\" >Sergio Lérida Campos</td>\n",
       "      <td id=\"T_a9cd5_row0_col2\" class=\"data row0 col2\" >55577700089</td>\n",
       "      <td id=\"T_a9cd5_row0_col3\" class=\"data row0 col3\" >tarde</td>\n",
       "      <td id=\"T_a9cd5_row0_col4\" class=\"data row0 col4\" >1000.000000</td>\n",
       "      <td id=\"T_a9cd5_row0_col5\" class=\"data row0 col5\" >None</td>\n",
       "      <td id=\"T_a9cd5_row0_col6\" class=\"data row0 col6\" >None</td>\n",
       "      <td id=\"T_a9cd5_row0_col7\" class=\"data row0 col7\" >None</td>\n",
       "      <td id=\"T_a9cd5_row0_col8\" class=\"data row0 col8\" >None</td>\n",
       "      <td id=\"T_a9cd5_row0_col9\" class=\"data row0 col9\" >None</td>\n",
       "      <td id=\"T_a9cd5_row0_col10\" class=\"data row0 col10\" >None</td>\n",
       "      <td id=\"T_a9cd5_row0_col11\" class=\"data row0 col11\" >None</td>\n",
       "      <td id=\"T_a9cd5_row0_col12\" class=\"data row0 col12\" >None</td>\n",
       "      <td id=\"T_a9cd5_row0_col13\" class=\"data row0 col13\" >None</td>\n",
       "    </tr>\n",
       "    <tr>\n",
       "      <th id=\"T_a9cd5_level0_row1\" class=\"row_heading level0 row1\" >1</th>\n",
       "      <td id=\"T_a9cd5_row1_col0\" class=\"data row1 col0\" >33333333M</td>\n",
       "      <td id=\"T_a9cd5_row1_col1\" class=\"data row1 col1\" >Martín Guerrero López</td>\n",
       "      <td id=\"T_a9cd5_row1_col2\" class=\"data row1 col2\" >33344455566</td>\n",
       "      <td id=\"T_a9cd5_row1_col3\" class=\"data row1 col3\" >tarde</td>\n",
       "      <td id=\"T_a9cd5_row1_col4\" class=\"data row1 col4\" >1000.000000</td>\n",
       "      <td id=\"T_a9cd5_row1_col5\" class=\"data row1 col5\" >None</td>\n",
       "      <td id=\"T_a9cd5_row1_col6\" class=\"data row1 col6\" >None</td>\n",
       "      <td id=\"T_a9cd5_row1_col7\" class=\"data row1 col7\" >None</td>\n",
       "      <td id=\"T_a9cd5_row1_col8\" class=\"data row1 col8\" >None</td>\n",
       "      <td id=\"T_a9cd5_row1_col9\" class=\"data row1 col9\" >None</td>\n",
       "      <td id=\"T_a9cd5_row1_col10\" class=\"data row1 col10\" >None</td>\n",
       "      <td id=\"T_a9cd5_row1_col11\" class=\"data row1 col11\" >None</td>\n",
       "      <td id=\"T_a9cd5_row1_col12\" class=\"data row1 col12\" >None</td>\n",
       "      <td id=\"T_a9cd5_row1_col13\" class=\"data row1 col13\" >None</td>\n",
       "    </tr>\n",
       "    <tr>\n",
       "      <th id=\"T_a9cd5_level0_row2\" class=\"row_heading level0 row2\" >2</th>\n",
       "      <td id=\"T_a9cd5_row2_col0\" class=\"data row2 col0\" >55555555J</td>\n",
       "      <td id=\"T_a9cd5_row2_col1\" class=\"data row2 col1\" >Carmen Hernández Pío</td>\n",
       "      <td id=\"T_a9cd5_row2_col2\" class=\"data row2 col2\" >99966633311</td>\n",
       "      <td id=\"T_a9cd5_row2_col3\" class=\"data row2 col3\" >mañana</td>\n",
       "      <td id=\"T_a9cd5_row2_col4\" class=\"data row2 col4\" >900.000000</td>\n",
       "      <td id=\"T_a9cd5_row2_col5\" class=\"data row2 col5\" >None</td>\n",
       "      <td id=\"T_a9cd5_row2_col6\" class=\"data row2 col6\" >None</td>\n",
       "      <td id=\"T_a9cd5_row2_col7\" class=\"data row2 col7\" >None</td>\n",
       "      <td id=\"T_a9cd5_row2_col8\" class=\"data row2 col8\" >None</td>\n",
       "      <td id=\"T_a9cd5_row2_col9\" class=\"data row2 col9\" >None</td>\n",
       "      <td id=\"T_a9cd5_row2_col10\" class=\"data row2 col10\" >None</td>\n",
       "      <td id=\"T_a9cd5_row2_col11\" class=\"data row2 col11\" >None</td>\n",
       "      <td id=\"T_a9cd5_row2_col12\" class=\"data row2 col12\" >None</td>\n",
       "      <td id=\"T_a9cd5_row2_col13\" class=\"data row2 col13\" >None</td>\n",
       "    </tr>\n",
       "  </tbody>\n",
       "</table>\n"
      ],
      "text/plain": [
       "<pandas.io.formats.style.Styler at 0x1ed6985bf50>"
      ]
     },
     "execution_count": 99,
     "metadata": {},
     "output_type": "execute_result"
    }
   ],
   "source": [
    "df32 = pd.read_sql(query32, connection)\n",
    "left_align(df32)\n"
   ]
  },
  {
   "cell_type": "code",
   "execution_count": 100,
   "metadata": {},
   "outputs": [],
   "source": [
    "df32.to_csv('nombre_empleado.csv', index=False)"
   ]
  },
  {
   "cell_type": "markdown",
   "metadata": {},
   "source": [
    "### 33. Mostrar el nombre del repartidor y la fecha del pedido para los pedidos entregados en el turno de noche."
   ]
  },
  {
   "cell_type": "code",
   "execution_count": 101,
   "metadata": {},
   "outputs": [
    {
     "data": {
      "text/plain": [
       "[('0004', datetime.date(2020, 11, 10), 'Laura Jiménez Jiménez', 'noche'),\n",
       " ('0006', datetime.date(2020, 11, 15), 'Laura Jiménez Jiménez', 'noche'),\n",
       " ('0008', datetime.date(2020, 9, 15), 'Juan Pardo Rubio', 'noche')]"
      ]
     },
     "execution_count": 101,
     "metadata": {},
     "output_type": "execute_result"
    }
   ],
   "source": [
    "connection = mysql.connector.connect(host=' ', database=  , user=   , password=   , connection_timeout=180)\n",
    "cursor=connection.cursor()\n",
    "query33=\"\"\"select * from \n",
    "(select numero,fecha,REPARTIDOR.Nombre,REPARTIDOR.turno from PEDIDO \n",
    "left join REPARTIDOR on REPARTIDOR.DNI=PEDIDO.DNI_R) as tabla\n",
    "where tabla.turno = \"noche\";\"\"\"\n",
    "cursor.execute(query33)\n",
    "cursor.fetchall()\n"
   ]
  },
  {
   "cell_type": "code",
   "execution_count": 102,
   "metadata": {},
   "outputs": [
    {
     "name": "stderr",
     "output_type": "stream",
     "text": [
      "C:\\Users\\Win10\\AppData\\Local\\Temp\\ipykernel_3652\\2822222781.py:1: UserWarning: pandas only supports SQLAlchemy connectable (engine/connection) or database string URI or sqlite3 DBAPI2 connection. Other DBAPI2 objects are not tested. Please consider using SQLAlchemy.\n",
      "  df33 = pd.read_sql(query33, connection)\n"
     ]
    },
    {
     "data": {
      "text/html": [
       "<style type=\"text/css\">\n",
       "#T_9cc00 th {\n",
       "  text-align: left;\n",
       "}\n",
       "#T_9cc00_row0_col0, #T_9cc00_row0_col1, #T_9cc00_row0_col2, #T_9cc00_row0_col3, #T_9cc00_row1_col0, #T_9cc00_row1_col1, #T_9cc00_row1_col2, #T_9cc00_row1_col3, #T_9cc00_row2_col0, #T_9cc00_row2_col1, #T_9cc00_row2_col2, #T_9cc00_row2_col3 {\n",
       "  text-align: left;\n",
       "}\n",
       "</style>\n",
       "<table id=\"T_9cc00\">\n",
       "  <thead>\n",
       "    <tr>\n",
       "      <th class=\"blank level0\" >&nbsp;</th>\n",
       "      <th id=\"T_9cc00_level0_col0\" class=\"col_heading level0 col0\" >numero</th>\n",
       "      <th id=\"T_9cc00_level0_col1\" class=\"col_heading level0 col1\" >fecha</th>\n",
       "      <th id=\"T_9cc00_level0_col2\" class=\"col_heading level0 col2\" >Nombre</th>\n",
       "      <th id=\"T_9cc00_level0_col3\" class=\"col_heading level0 col3\" >turno</th>\n",
       "    </tr>\n",
       "  </thead>\n",
       "  <tbody>\n",
       "    <tr>\n",
       "      <th id=\"T_9cc00_level0_row0\" class=\"row_heading level0 row0\" >0</th>\n",
       "      <td id=\"T_9cc00_row0_col0\" class=\"data row0 col0\" >0004</td>\n",
       "      <td id=\"T_9cc00_row0_col1\" class=\"data row0 col1\" >2020-11-10</td>\n",
       "      <td id=\"T_9cc00_row0_col2\" class=\"data row0 col2\" >Laura Jiménez Jiménez</td>\n",
       "      <td id=\"T_9cc00_row0_col3\" class=\"data row0 col3\" >noche</td>\n",
       "    </tr>\n",
       "    <tr>\n",
       "      <th id=\"T_9cc00_level0_row1\" class=\"row_heading level0 row1\" >1</th>\n",
       "      <td id=\"T_9cc00_row1_col0\" class=\"data row1 col0\" >0006</td>\n",
       "      <td id=\"T_9cc00_row1_col1\" class=\"data row1 col1\" >2020-11-15</td>\n",
       "      <td id=\"T_9cc00_row1_col2\" class=\"data row1 col2\" >Laura Jiménez Jiménez</td>\n",
       "      <td id=\"T_9cc00_row1_col3\" class=\"data row1 col3\" >noche</td>\n",
       "    </tr>\n",
       "    <tr>\n",
       "      <th id=\"T_9cc00_level0_row2\" class=\"row_heading level0 row2\" >2</th>\n",
       "      <td id=\"T_9cc00_row2_col0\" class=\"data row2 col0\" >0008</td>\n",
       "      <td id=\"T_9cc00_row2_col1\" class=\"data row2 col1\" >2020-09-15</td>\n",
       "      <td id=\"T_9cc00_row2_col2\" class=\"data row2 col2\" >Juan Pardo Rubio</td>\n",
       "      <td id=\"T_9cc00_row2_col3\" class=\"data row2 col3\" >noche</td>\n",
       "    </tr>\n",
       "  </tbody>\n",
       "</table>\n"
      ],
      "text/plain": [
       "<pandas.io.formats.style.Styler at 0x1ed693ddf90>"
      ]
     },
     "execution_count": 102,
     "metadata": {},
     "output_type": "execute_result"
    }
   ],
   "source": [
    "df33 = pd.read_sql(query33, connection)\n",
    "left_align(df33)\n"
   ]
  },
  {
   "cell_type": "code",
   "execution_count": 103,
   "metadata": {},
   "outputs": [],
   "source": [
    "df33.to_csv('repartidor_pedidos_noche.csv', index=False)"
   ]
  },
  {
   "cell_type": "markdown",
   "metadata": {},
   "source": [
    "### 34.Obtener el nombre del producto más caro y su precio."
   ]
  },
  {
   "cell_type": "code",
   "execution_count": 104,
   "metadata": {},
   "outputs": [
    {
     "data": {
      "text/plain": [
       "[('Menú de Hamburguesa con queso', 6.0),\n",
       " ('Menú de Pollo con queso', 6.0),\n",
       " ('Menú de Hamburguesa', 6.0)]"
      ]
     },
     "execution_count": 104,
     "metadata": {},
     "output_type": "execute_result"
    }
   ],
   "source": [
    "connection = mysql.connector.connect(host=' ', database=  , user=   , password=   , connection_timeout=180)\n",
    "cursor=connection.cursor()\n",
    "query34=\"\"\"select nombre,precio from PRODUCTO\n",
    "where precio=(select max(precio) from PRODUCTO);\"\"\"\n",
    "cursor.execute(query34)\n",
    "cursor.fetchall()\n"
   ]
  },
  {
   "cell_type": "code",
   "execution_count": 105,
   "metadata": {},
   "outputs": [
    {
     "name": "stderr",
     "output_type": "stream",
     "text": [
      "C:\\Users\\Win10\\AppData\\Local\\Temp\\ipykernel_3652\\2281538266.py:1: UserWarning: pandas only supports SQLAlchemy connectable (engine/connection) or database string URI or sqlite3 DBAPI2 connection. Other DBAPI2 objects are not tested. Please consider using SQLAlchemy.\n",
      "  df34 = pd.read_sql(query34, connection)\n"
     ]
    },
    {
     "data": {
      "text/html": [
       "<style type=\"text/css\">\n",
       "#T_8290a th {\n",
       "  text-align: left;\n",
       "}\n",
       "#T_8290a_row0_col0, #T_8290a_row0_col1, #T_8290a_row1_col0, #T_8290a_row1_col1, #T_8290a_row2_col0, #T_8290a_row2_col1 {\n",
       "  text-align: left;\n",
       "}\n",
       "</style>\n",
       "<table id=\"T_8290a\">\n",
       "  <thead>\n",
       "    <tr>\n",
       "      <th class=\"blank level0\" >&nbsp;</th>\n",
       "      <th id=\"T_8290a_level0_col0\" class=\"col_heading level0 col0\" >nombre</th>\n",
       "      <th id=\"T_8290a_level0_col1\" class=\"col_heading level0 col1\" >precio</th>\n",
       "    </tr>\n",
       "  </thead>\n",
       "  <tbody>\n",
       "    <tr>\n",
       "      <th id=\"T_8290a_level0_row0\" class=\"row_heading level0 row0\" >0</th>\n",
       "      <td id=\"T_8290a_row0_col0\" class=\"data row0 col0\" >Menú de Hamburguesa con queso</td>\n",
       "      <td id=\"T_8290a_row0_col1\" class=\"data row0 col1\" >6.000000</td>\n",
       "    </tr>\n",
       "    <tr>\n",
       "      <th id=\"T_8290a_level0_row1\" class=\"row_heading level0 row1\" >1</th>\n",
       "      <td id=\"T_8290a_row1_col0\" class=\"data row1 col0\" >Menú de Pollo con queso</td>\n",
       "      <td id=\"T_8290a_row1_col1\" class=\"data row1 col1\" >6.000000</td>\n",
       "    </tr>\n",
       "    <tr>\n",
       "      <th id=\"T_8290a_level0_row2\" class=\"row_heading level0 row2\" >2</th>\n",
       "      <td id=\"T_8290a_row2_col0\" class=\"data row2 col0\" >Menú de Hamburguesa</td>\n",
       "      <td id=\"T_8290a_row2_col1\" class=\"data row2 col1\" >6.000000</td>\n",
       "    </tr>\n",
       "  </tbody>\n",
       "</table>\n"
      ],
      "text/plain": [
       "<pandas.io.formats.style.Styler at 0x1ed699cb690>"
      ]
     },
     "execution_count": 105,
     "metadata": {},
     "output_type": "execute_result"
    }
   ],
   "source": [
    "df34 = pd.read_sql(query34, connection)\n",
    "left_align(df34)\n"
   ]
  },
  {
   "cell_type": "code",
   "execution_count": 106,
   "metadata": {},
   "outputs": [],
   "source": [
    "df34.to_csv('mayor_precio_producto.csv', index=False)"
   ]
  },
  {
   "cell_type": "markdown",
   "metadata": {},
   "source": [
    "### 35.Mostrar el nombre del empleado y el importe total de los pedidos que ha tomado."
   ]
  },
  {
   "cell_type": "code",
   "execution_count": 107,
   "metadata": {},
   "outputs": [
    {
     "data": {
      "text/plain": [
       "[('María Luisa Galdón Ter', 17.0),\n",
       " ('Úrsula Delta Camacho', 25.0),\n",
       " ('Luis Ramírez Pardo', 10.0),\n",
       " ('Sergio Lérida Campos', None),\n",
       " ('Piedad Colmenero Zapillo', 37.0),\n",
       " ('María Sánchez Cid', 15.0),\n",
       " ('Martín Guerrero López', None),\n",
       " ('Carmen Hernández Pío', None),\n",
       " ('Pedro Jiménez Ruiz', 13.0),\n",
       " ('Soledad Campillo Molina', 90.0),\n",
       " ('Raúl Rodrigo Roca', 27.0)]"
      ]
     },
     "execution_count": 107,
     "metadata": {},
     "output_type": "execute_result"
    }
   ],
   "source": [
    "connection = mysql.connector.connect(host=' ', database=  , user=   , password=   , connection_timeout=180)\n",
    "cursor=connection.cursor()\n",
    "query35=\"\"\"select EMPLEADO.nombre, sum(PEDIDO.importe) as importe_total from EMPLEADO\n",
    "left join PEDIDO on EMPLEADO.dni=PEDIDO.DNI_ETM\n",
    "group by EMPLEADO.nombre; ;\"\"\"\n",
    "cursor.execute(query35)\n",
    "cursor.fetchall()\n"
   ]
  },
  {
   "cell_type": "code",
   "execution_count": 108,
   "metadata": {},
   "outputs": [
    {
     "name": "stderr",
     "output_type": "stream",
     "text": [
      "C:\\Users\\Win10\\AppData\\Local\\Temp\\ipykernel_3652\\2907695868.py:1: UserWarning: pandas only supports SQLAlchemy connectable (engine/connection) or database string URI or sqlite3 DBAPI2 connection. Other DBAPI2 objects are not tested. Please consider using SQLAlchemy.\n",
      "  df35 = pd.read_sql(query35, connection)\n"
     ]
    },
    {
     "data": {
      "text/html": [
       "<style type=\"text/css\">\n",
       "#T_37314 th {\n",
       "  text-align: left;\n",
       "}\n",
       "#T_37314_row0_col0, #T_37314_row0_col1, #T_37314_row1_col0, #T_37314_row1_col1, #T_37314_row2_col0, #T_37314_row2_col1, #T_37314_row3_col0, #T_37314_row3_col1, #T_37314_row4_col0, #T_37314_row4_col1, #T_37314_row5_col0, #T_37314_row5_col1, #T_37314_row6_col0, #T_37314_row6_col1, #T_37314_row7_col0, #T_37314_row7_col1, #T_37314_row8_col0, #T_37314_row8_col1, #T_37314_row9_col0, #T_37314_row9_col1, #T_37314_row10_col0, #T_37314_row10_col1 {\n",
       "  text-align: left;\n",
       "}\n",
       "</style>\n",
       "<table id=\"T_37314\">\n",
       "  <thead>\n",
       "    <tr>\n",
       "      <th class=\"blank level0\" >&nbsp;</th>\n",
       "      <th id=\"T_37314_level0_col0\" class=\"col_heading level0 col0\" >nombre</th>\n",
       "      <th id=\"T_37314_level0_col1\" class=\"col_heading level0 col1\" >importe_total</th>\n",
       "    </tr>\n",
       "  </thead>\n",
       "  <tbody>\n",
       "    <tr>\n",
       "      <th id=\"T_37314_level0_row0\" class=\"row_heading level0 row0\" >0</th>\n",
       "      <td id=\"T_37314_row0_col0\" class=\"data row0 col0\" >María Luisa Galdón Ter</td>\n",
       "      <td id=\"T_37314_row0_col1\" class=\"data row0 col1\" >17.000000</td>\n",
       "    </tr>\n",
       "    <tr>\n",
       "      <th id=\"T_37314_level0_row1\" class=\"row_heading level0 row1\" >1</th>\n",
       "      <td id=\"T_37314_row1_col0\" class=\"data row1 col0\" >Úrsula Delta Camacho</td>\n",
       "      <td id=\"T_37314_row1_col1\" class=\"data row1 col1\" >25.000000</td>\n",
       "    </tr>\n",
       "    <tr>\n",
       "      <th id=\"T_37314_level0_row2\" class=\"row_heading level0 row2\" >2</th>\n",
       "      <td id=\"T_37314_row2_col0\" class=\"data row2 col0\" >Luis Ramírez Pardo</td>\n",
       "      <td id=\"T_37314_row2_col1\" class=\"data row2 col1\" >10.000000</td>\n",
       "    </tr>\n",
       "    <tr>\n",
       "      <th id=\"T_37314_level0_row3\" class=\"row_heading level0 row3\" >3</th>\n",
       "      <td id=\"T_37314_row3_col0\" class=\"data row3 col0\" >Sergio Lérida Campos</td>\n",
       "      <td id=\"T_37314_row3_col1\" class=\"data row3 col1\" >nan</td>\n",
       "    </tr>\n",
       "    <tr>\n",
       "      <th id=\"T_37314_level0_row4\" class=\"row_heading level0 row4\" >4</th>\n",
       "      <td id=\"T_37314_row4_col0\" class=\"data row4 col0\" >Piedad Colmenero Zapillo</td>\n",
       "      <td id=\"T_37314_row4_col1\" class=\"data row4 col1\" >37.000000</td>\n",
       "    </tr>\n",
       "    <tr>\n",
       "      <th id=\"T_37314_level0_row5\" class=\"row_heading level0 row5\" >5</th>\n",
       "      <td id=\"T_37314_row5_col0\" class=\"data row5 col0\" >María Sánchez Cid</td>\n",
       "      <td id=\"T_37314_row5_col1\" class=\"data row5 col1\" >15.000000</td>\n",
       "    </tr>\n",
       "    <tr>\n",
       "      <th id=\"T_37314_level0_row6\" class=\"row_heading level0 row6\" >6</th>\n",
       "      <td id=\"T_37314_row6_col0\" class=\"data row6 col0\" >Martín Guerrero López</td>\n",
       "      <td id=\"T_37314_row6_col1\" class=\"data row6 col1\" >nan</td>\n",
       "    </tr>\n",
       "    <tr>\n",
       "      <th id=\"T_37314_level0_row7\" class=\"row_heading level0 row7\" >7</th>\n",
       "      <td id=\"T_37314_row7_col0\" class=\"data row7 col0\" >Carmen Hernández Pío</td>\n",
       "      <td id=\"T_37314_row7_col1\" class=\"data row7 col1\" >nan</td>\n",
       "    </tr>\n",
       "    <tr>\n",
       "      <th id=\"T_37314_level0_row8\" class=\"row_heading level0 row8\" >8</th>\n",
       "      <td id=\"T_37314_row8_col0\" class=\"data row8 col0\" >Pedro Jiménez Ruiz</td>\n",
       "      <td id=\"T_37314_row8_col1\" class=\"data row8 col1\" >13.000000</td>\n",
       "    </tr>\n",
       "    <tr>\n",
       "      <th id=\"T_37314_level0_row9\" class=\"row_heading level0 row9\" >9</th>\n",
       "      <td id=\"T_37314_row9_col0\" class=\"data row9 col0\" >Soledad Campillo Molina</td>\n",
       "      <td id=\"T_37314_row9_col1\" class=\"data row9 col1\" >90.000000</td>\n",
       "    </tr>\n",
       "    <tr>\n",
       "      <th id=\"T_37314_level0_row10\" class=\"row_heading level0 row10\" >10</th>\n",
       "      <td id=\"T_37314_row10_col0\" class=\"data row10 col0\" >Raúl Rodrigo Roca</td>\n",
       "      <td id=\"T_37314_row10_col1\" class=\"data row10 col1\" >27.000000</td>\n",
       "    </tr>\n",
       "  </tbody>\n",
       "</table>\n"
      ],
      "text/plain": [
       "<pandas.io.formats.style.Styler at 0x1ed69943690>"
      ]
     },
     "execution_count": 108,
     "metadata": {},
     "output_type": "execute_result"
    }
   ],
   "source": [
    "df35 = pd.read_sql(query35, connection)\n",
    "left_align(df35)\n"
   ]
  },
  {
   "cell_type": "code",
   "execution_count": 109,
   "metadata": {},
   "outputs": [],
   "source": [
    "df35.to_csv('importepedidos_empleado.csv', index=False)"
   ]
  }
 ],
 "metadata": {
  "kernelspec": {
   "display_name": "Python 3",
   "language": "python",
   "name": "python3"
  },
  "language_info": {
   "codemirror_mode": {
    "name": "ipython",
    "version": 3
   },
   "file_extension": ".py",
   "mimetype": "text/x-python",
   "name": "python",
   "nbconvert_exporter": "python",
   "pygments_lexer": "ipython3",
   "version": "3.11.9"
  }
 },
 "nbformat": 4,
 "nbformat_minor": 2
}
